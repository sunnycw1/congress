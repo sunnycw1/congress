{
 "cells": [
  {
   "cell_type": "code",
   "execution_count": 1,
   "metadata": {},
   "outputs": [],
   "source": [
    "import os\n",
    "from pathlib import Path\n",
    "import requests\n",
    "from bs4 import BeautifulSoup\n",
    "\n",
    "import nltk\n",
    "import numpy as np\n",
    "import re\n",
    "\n",
    "import pandas as pd\n",
    "from pandas_summary import DataFrameSummary\n",
    "\n",
    "import matplotlib.pyplot as plt\n",
    "import seaborn as sns\n",
    "%matplotlib inline\n",
    "\n",
    "pd.options.display.max_columns = None\n",
    "pd.set_option('display.max_colwidth', -1)\n",
    "\n",
    "sns.set(style=\"white\")"
   ]
  },
  {
   "cell_type": "markdown",
   "metadata": {},
   "source": [
    "# 1. Missing Data"
   ]
  },
  {
   "cell_type": "markdown",
   "metadata": {},
   "source": [
    "Files downloaded from Comparative Agendas [https://www.comparativeagendas.net/us], modified from the original Congressional Bills [http://congressionalbills.org/download.html], to use codes that are in line with other datasets on Comparative Agendas. \n",
    "\n",
    "As quoted on the website, \"All U.S. datasets include two sets of codes: U.S. Policy Agendas codes (PAP) and the international, Comparative Agendas Project codes (CAP).  For analysis across projects and countries, we recommend the CAP codes.\"\n",
    "\n",
    "The CAP code master codebook [https://www.comparativeagendas.net/pages/master-codebook] describes the topics and subtopics. \n",
    "\n",
    "read the bills data into a dataframe:"
   ]
  },
  {
   "cell_type": "code",
   "execution_count": 2,
   "metadata": {},
   "outputs": [
    {
     "name": "stderr",
     "output_type": "stream",
     "text": [
      "C:\\Anaconda3\\lib\\site-packages\\IPython\\core\\interactiveshell.py:3020: DtypeWarning: Columns (7,15,16,22) have mixed types. Specify dtype option on import or set low_memory=False.\n",
      "  interactivity=interactivity, compiler=compiler, result=result)\n"
     ]
    }
   ],
   "source": [
    "bills = pd.read_csv('US-Legislative-congressional_bills_18.1.csv')"
   ]
  },
  {
   "cell_type": "code",
   "execution_count": 3,
   "metadata": {},
   "outputs": [
    {
     "data": {
      "text/plain": [
       "(468914, 23)"
      ]
     },
     "execution_count": 3,
     "metadata": {},
     "output_type": "execute_result"
    }
   ],
   "source": [
    "bills.shape"
   ]
  },
  {
   "cell_type": "markdown",
   "metadata": {},
   "source": [
    "missing data:"
   ]
  },
  {
   "cell_type": "code",
   "execution_count": 4,
   "metadata": {},
   "outputs": [
    {
     "data": {
      "text/plain": [
       "id                0%    \n",
       "bill_id           0.04% \n",
       "cong              0%    \n",
       "bill_type         0%    \n",
       "bill_no           0%    \n",
       "name_full         0.10% \n",
       "description       0%    \n",
       "intr_date         48.90%\n",
       "intr_month        48.90%\n",
       "year              0.04% \n",
       "pap_majortopic    0.96% \n",
       "pap_subtopic      0.96% \n",
       "majortopic        0.96% \n",
       "subtopic          0.96% \n",
       "filter_plaw       0.00% \n",
       "plaw_date         95.99%\n",
       "plaw_no           59.48%\n",
       "pass_h            4.44% \n",
       "pass_s            2.19% \n",
       "majority          1.28% \n",
       "party             1.00% \n",
       "chamber           0%    \n",
       "comment           92.76%\n",
       "Name: missing_perc, dtype: object"
      ]
     },
     "execution_count": 4,
     "metadata": {},
     "output_type": "execute_result"
    }
   ],
   "source": [
    "DataFrameSummary(bills).summary().loc['missing_perc']"
   ]
  },
  {
   "cell_type": "markdown",
   "metadata": {},
   "source": [
    "topic categories **majortopic**, **subtopic** are the labels, so remove items that are missing **majortopic**"
   ]
  },
  {
   "cell_type": "code",
   "execution_count": 5,
   "metadata": {},
   "outputs": [],
   "source": [
    "bills.dropna(subset=['majortopic'], inplace=True)"
   ]
  },
  {
   "cell_type": "markdown",
   "metadata": {},
   "source": [
    "This leaves 1 bill without a **subtopic**:"
   ]
  },
  {
   "cell_type": "code",
   "execution_count": 6,
   "metadata": {},
   "outputs": [
    {
     "data": {
      "text/plain": [
       "458410    To amend the Federal Food, Drug, and Cosmetic Act to provide for expedited review of drugs and biological products to provide safer or more effective treatment for males or females, to amend the Public Health Service Act to enhance the consideration of sex differences in basic and clinical research, and for other purposes.\n",
       "Name: description, dtype: object"
      ]
     },
     "execution_count": 6,
     "metadata": {},
     "output_type": "execute_result"
    }
   ],
   "source": [
    "bills[bills['subtopic'].isna()].description"
   ]
  },
  {
   "cell_type": "markdown",
   "metadata": {},
   "source": [
    "label manually using https://www.comparativeagendas.net/pages/master-codebook"
   ]
  },
  {
   "cell_type": "code",
   "execution_count": 7,
   "metadata": {},
   "outputs": [],
   "source": [
    "bills.loc[458410, 'subtopic'] = 398"
   ]
  },
  {
   "cell_type": "code",
   "execution_count": 8,
   "metadata": {},
   "outputs": [
    {
     "data": {
      "text/html": [
       "<div>\n",
       "<style scoped>\n",
       "    .dataframe tbody tr th:only-of-type {\n",
       "        vertical-align: middle;\n",
       "    }\n",
       "\n",
       "    .dataframe tbody tr th {\n",
       "        vertical-align: top;\n",
       "    }\n",
       "\n",
       "    .dataframe thead th {\n",
       "        text-align: right;\n",
       "    }\n",
       "</style>\n",
       "<table border=\"1\" class=\"dataframe\">\n",
       "  <thead>\n",
       "    <tr style=\"text-align: right;\">\n",
       "      <th></th>\n",
       "      <th>id</th>\n",
       "      <th>bill_id</th>\n",
       "      <th>cong</th>\n",
       "      <th>bill_type</th>\n",
       "      <th>bill_no</th>\n",
       "      <th>name_full</th>\n",
       "      <th>description</th>\n",
       "      <th>intr_date</th>\n",
       "      <th>intr_month</th>\n",
       "      <th>year</th>\n",
       "      <th>pap_majortopic</th>\n",
       "      <th>pap_subtopic</th>\n",
       "      <th>majortopic</th>\n",
       "      <th>subtopic</th>\n",
       "      <th>filter_plaw</th>\n",
       "      <th>plaw_date</th>\n",
       "      <th>plaw_no</th>\n",
       "      <th>pass_h</th>\n",
       "      <th>pass_s</th>\n",
       "      <th>majority</th>\n",
       "      <th>party</th>\n",
       "      <th>chamber</th>\n",
       "      <th>comment</th>\n",
       "    </tr>\n",
       "  </thead>\n",
       "  <tbody>\n",
       "    <tr>\n",
       "      <th>count</th>\n",
       "      <td>464406</td>\n",
       "      <td>NaN</td>\n",
       "      <td>464406</td>\n",
       "      <td>NaN</td>\n",
       "      <td>464406</td>\n",
       "      <td>NaN</td>\n",
       "      <td>NaN</td>\n",
       "      <td>NaN</td>\n",
       "      <td>235089</td>\n",
       "      <td>464239</td>\n",
       "      <td>464406</td>\n",
       "      <td>464405</td>\n",
       "      <td>464406</td>\n",
       "      <td>464406</td>\n",
       "      <td>464405</td>\n",
       "      <td>NaN</td>\n",
       "      <td>NaN</td>\n",
       "      <td>443579</td>\n",
       "      <td>454137</td>\n",
       "      <td>458389</td>\n",
       "      <td>459700</td>\n",
       "      <td>464406</td>\n",
       "      <td>NaN</td>\n",
       "    </tr>\n",
       "    <tr>\n",
       "      <th>mean</th>\n",
       "      <td>253815</td>\n",
       "      <td>NaN</td>\n",
       "      <td>94.5795</td>\n",
       "      <td>NaN</td>\n",
       "      <td>4950.1</td>\n",
       "      <td>NaN</td>\n",
       "      <td>NaN</td>\n",
       "      <td>NaN</td>\n",
       "      <td>5.05867</td>\n",
       "      <td>1974.45</td>\n",
       "      <td>27.3467</td>\n",
       "      <td>2759.16</td>\n",
       "      <td>27.3623</td>\n",
       "      <td>2763.7</td>\n",
       "      <td>0.0541704</td>\n",
       "      <td>NaN</td>\n",
       "      <td>NaN</td>\n",
       "      <td>0.0827068</td>\n",
       "      <td>0.0733105</td>\n",
       "      <td>0.630766</td>\n",
       "      <td>139.751</td>\n",
       "      <td>1.24911</td>\n",
       "      <td>NaN</td>\n",
       "    </tr>\n",
       "    <tr>\n",
       "      <th>std</th>\n",
       "      <td>198864</td>\n",
       "      <td>NaN</td>\n",
       "      <td>9.40621</td>\n",
       "      <td>NaN</td>\n",
       "      <td>4434.84</td>\n",
       "      <td>NaN</td>\n",
       "      <td>NaN</td>\n",
       "      <td>NaN</td>\n",
       "      <td>3.18045</td>\n",
       "      <td>66.0565</td>\n",
       "      <td>33.2221</td>\n",
       "      <td>3355.48</td>\n",
       "      <td>33.2138</td>\n",
       "      <td>3353.52</td>\n",
       "      <td>0.226354</td>\n",
       "      <td>NaN</td>\n",
       "      <td>NaN</td>\n",
       "      <td>0.275439</td>\n",
       "      <td>0.260646</td>\n",
       "      <td>0.482598</td>\n",
       "      <td>49.4</td>\n",
       "      <td>0.455701</td>\n",
       "      <td>NaN</td>\n",
       "    </tr>\n",
       "    <tr>\n",
       "      <th>min</th>\n",
       "      <td>1</td>\n",
       "      <td>NaN</td>\n",
       "      <td>80</td>\n",
       "      <td>NaN</td>\n",
       "      <td>1</td>\n",
       "      <td>NaN</td>\n",
       "      <td>NaN</td>\n",
       "      <td>NaN</td>\n",
       "      <td>1</td>\n",
       "      <td>0</td>\n",
       "      <td>1</td>\n",
       "      <td>100</td>\n",
       "      <td>1</td>\n",
       "      <td>100</td>\n",
       "      <td>0</td>\n",
       "      <td>NaN</td>\n",
       "      <td>NaN</td>\n",
       "      <td>0</td>\n",
       "      <td>0</td>\n",
       "      <td>0</td>\n",
       "      <td>100</td>\n",
       "      <td>0</td>\n",
       "      <td>NaN</td>\n",
       "    </tr>\n",
       "    <tr>\n",
       "      <th>25%</th>\n",
       "      <td>116104</td>\n",
       "      <td>NaN</td>\n",
       "      <td>87</td>\n",
       "      <td>NaN</td>\n",
       "      <td>1660</td>\n",
       "      <td>NaN</td>\n",
       "      <td>NaN</td>\n",
       "      <td>NaN</td>\n",
       "      <td>2</td>\n",
       "      <td>1962</td>\n",
       "      <td>8</td>\n",
       "      <td>800</td>\n",
       "      <td>8</td>\n",
       "      <td>802</td>\n",
       "      <td>0</td>\n",
       "      <td>NaN</td>\n",
       "      <td>NaN</td>\n",
       "      <td>0</td>\n",
       "      <td>0</td>\n",
       "      <td>0</td>\n",
       "      <td>100</td>\n",
       "      <td>1</td>\n",
       "      <td>NaN</td>\n",
       "    </tr>\n",
       "    <tr>\n",
       "      <th>50%</th>\n",
       "      <td>232206</td>\n",
       "      <td>NaN</td>\n",
       "      <td>93</td>\n",
       "      <td>NaN</td>\n",
       "      <td>3423</td>\n",
       "      <td>NaN</td>\n",
       "      <td>NaN</td>\n",
       "      <td>NaN</td>\n",
       "      <td>5</td>\n",
       "      <td>1973</td>\n",
       "      <td>16</td>\n",
       "      <td>1608</td>\n",
       "      <td>16</td>\n",
       "      <td>1608</td>\n",
       "      <td>0</td>\n",
       "      <td>NaN</td>\n",
       "      <td>NaN</td>\n",
       "      <td>0</td>\n",
       "      <td>0</td>\n",
       "      <td>1</td>\n",
       "      <td>100</td>\n",
       "      <td>1</td>\n",
       "      <td>NaN</td>\n",
       "    </tr>\n",
       "    <tr>\n",
       "      <th>75%</th>\n",
       "      <td>340832</td>\n",
       "      <td>NaN</td>\n",
       "      <td>102</td>\n",
       "      <td>NaN</td>\n",
       "      <td>7019</td>\n",
       "      <td>NaN</td>\n",
       "      <td>NaN</td>\n",
       "      <td>NaN</td>\n",
       "      <td>7</td>\n",
       "      <td>1991</td>\n",
       "      <td>21</td>\n",
       "      <td>2101</td>\n",
       "      <td>21</td>\n",
       "      <td>2101</td>\n",
       "      <td>0</td>\n",
       "      <td>NaN</td>\n",
       "      <td>NaN</td>\n",
       "      <td>0</td>\n",
       "      <td>0</td>\n",
       "      <td>1</td>\n",
       "      <td>200</td>\n",
       "      <td>2</td>\n",
       "      <td>NaN</td>\n",
       "    </tr>\n",
       "    <tr>\n",
       "      <th>max</th>\n",
       "      <td>1.00891e+06</td>\n",
       "      <td>NaN</td>\n",
       "      <td>114</td>\n",
       "      <td>NaN</td>\n",
       "      <td>20587</td>\n",
       "      <td>NaN</td>\n",
       "      <td>NaN</td>\n",
       "      <td>NaN</td>\n",
       "      <td>12</td>\n",
       "      <td>2016</td>\n",
       "      <td>99</td>\n",
       "      <td>9999</td>\n",
       "      <td>99</td>\n",
       "      <td>9999</td>\n",
       "      <td>1</td>\n",
       "      <td>NaN</td>\n",
       "      <td>NaN</td>\n",
       "      <td>1</td>\n",
       "      <td>1</td>\n",
       "      <td>1</td>\n",
       "      <td>400</td>\n",
       "      <td>2</td>\n",
       "      <td>NaN</td>\n",
       "    </tr>\n",
       "    <tr>\n",
       "      <th>counts</th>\n",
       "      <td>464406</td>\n",
       "      <td>464240</td>\n",
       "      <td>464406</td>\n",
       "      <td>464406</td>\n",
       "      <td>464406</td>\n",
       "      <td>463922</td>\n",
       "      <td>464406</td>\n",
       "      <td>235089</td>\n",
       "      <td>235089</td>\n",
       "      <td>464239</td>\n",
       "      <td>464406</td>\n",
       "      <td>464405</td>\n",
       "      <td>464406</td>\n",
       "      <td>464406</td>\n",
       "      <td>464405</td>\n",
       "      <td>18799</td>\n",
       "      <td>189917</td>\n",
       "      <td>443579</td>\n",
       "      <td>454137</td>\n",
       "      <td>458389</td>\n",
       "      <td>459700</td>\n",
       "      <td>464406</td>\n",
       "      <td>29428</td>\n",
       "    </tr>\n",
       "    <tr>\n",
       "      <th>uniques</th>\n",
       "      <td>456912</td>\n",
       "      <td>464234</td>\n",
       "      <td>35</td>\n",
       "      <td>4</td>\n",
       "      <td>20587</td>\n",
       "      <td>5238</td>\n",
       "      <td>315583</td>\n",
       "      <td>7216</td>\n",
       "      <td>12</td>\n",
       "      <td>71</td>\n",
       "      <td>21</td>\n",
       "      <td>230</td>\n",
       "      <td>22</td>\n",
       "      <td>225</td>\n",
       "      <td>2</td>\n",
       "      <td>2836</td>\n",
       "      <td>8789</td>\n",
       "      <td>2</td>\n",
       "      <td>2</td>\n",
       "      <td>2</td>\n",
       "      <td>7</td>\n",
       "      <td>3</td>\n",
       "      <td>4</td>\n",
       "    </tr>\n",
       "    <tr>\n",
       "      <th>missing</th>\n",
       "      <td>0</td>\n",
       "      <td>166</td>\n",
       "      <td>0</td>\n",
       "      <td>0</td>\n",
       "      <td>0</td>\n",
       "      <td>484</td>\n",
       "      <td>0</td>\n",
       "      <td>229317</td>\n",
       "      <td>229317</td>\n",
       "      <td>167</td>\n",
       "      <td>0</td>\n",
       "      <td>1</td>\n",
       "      <td>0</td>\n",
       "      <td>0</td>\n",
       "      <td>1</td>\n",
       "      <td>445607</td>\n",
       "      <td>274489</td>\n",
       "      <td>20827</td>\n",
       "      <td>10269</td>\n",
       "      <td>6017</td>\n",
       "      <td>4706</td>\n",
       "      <td>0</td>\n",
       "      <td>434978</td>\n",
       "    </tr>\n",
       "    <tr>\n",
       "      <th>missing_perc</th>\n",
       "      <td>0%</td>\n",
       "      <td>0.04%</td>\n",
       "      <td>0%</td>\n",
       "      <td>0%</td>\n",
       "      <td>0%</td>\n",
       "      <td>0.10%</td>\n",
       "      <td>0%</td>\n",
       "      <td>49.38%</td>\n",
       "      <td>49.38%</td>\n",
       "      <td>0.04%</td>\n",
       "      <td>0%</td>\n",
       "      <td>0.00%</td>\n",
       "      <td>0%</td>\n",
       "      <td>0%</td>\n",
       "      <td>0.00%</td>\n",
       "      <td>95.95%</td>\n",
       "      <td>59.11%</td>\n",
       "      <td>4.48%</td>\n",
       "      <td>2.21%</td>\n",
       "      <td>1.30%</td>\n",
       "      <td>1.01%</td>\n",
       "      <td>0%</td>\n",
       "      <td>93.66%</td>\n",
       "    </tr>\n",
       "    <tr>\n",
       "      <th>types</th>\n",
       "      <td>numeric</td>\n",
       "      <td>categorical</td>\n",
       "      <td>numeric</td>\n",
       "      <td>categorical</td>\n",
       "      <td>numeric</td>\n",
       "      <td>categorical</td>\n",
       "      <td>categorical</td>\n",
       "      <td>categorical</td>\n",
       "      <td>numeric</td>\n",
       "      <td>numeric</td>\n",
       "      <td>numeric</td>\n",
       "      <td>numeric</td>\n",
       "      <td>numeric</td>\n",
       "      <td>numeric</td>\n",
       "      <td>bool</td>\n",
       "      <td>categorical</td>\n",
       "      <td>categorical</td>\n",
       "      <td>bool</td>\n",
       "      <td>bool</td>\n",
       "      <td>bool</td>\n",
       "      <td>numeric</td>\n",
       "      <td>numeric</td>\n",
       "      <td>categorical</td>\n",
       "    </tr>\n",
       "  </tbody>\n",
       "</table>\n",
       "</div>"
      ],
      "text/plain": [
       "                       id      bill_id     cong    bill_type  bill_no  \\\n",
       "count         464406       NaN          464406   NaN          464406    \n",
       "mean          253815       NaN          94.5795  NaN          4950.1    \n",
       "std           198864       NaN          9.40621  NaN          4434.84   \n",
       "min           1            NaN          80       NaN          1         \n",
       "25%           116104       NaN          87       NaN          1660      \n",
       "50%           232206       NaN          93       NaN          3423      \n",
       "75%           340832       NaN          102      NaN          7019      \n",
       "max           1.00891e+06  NaN          114      NaN          20587     \n",
       "counts        464406       464240       464406   464406       464406    \n",
       "uniques       456912       464234       35       4            20587     \n",
       "missing       0            166          0        0            0         \n",
       "missing_perc  0%           0.04%        0%       0%           0%        \n",
       "types         numeric      categorical  numeric  categorical  numeric   \n",
       "\n",
       "                name_full  description    intr_date intr_month     year  \\\n",
       "count         NaN          NaN          NaN          235089     464239    \n",
       "mean          NaN          NaN          NaN          5.05867    1974.45   \n",
       "std           NaN          NaN          NaN          3.18045    66.0565   \n",
       "min           NaN          NaN          NaN          1          0         \n",
       "25%           NaN          NaN          NaN          2          1962      \n",
       "50%           NaN          NaN          NaN          5          1973      \n",
       "75%           NaN          NaN          NaN          7          1991      \n",
       "max           NaN          NaN          NaN          12         2016      \n",
       "counts        463922       464406       235089       235089     464239    \n",
       "uniques       5238         315583       7216         12         71        \n",
       "missing       484          0            229317       229317     167       \n",
       "missing_perc  0.10%        0%           49.38%       49.38%     0.04%     \n",
       "types         categorical  categorical  categorical  numeric    numeric   \n",
       "\n",
       "             pap_majortopic pap_subtopic majortopic subtopic filter_plaw  \\\n",
       "count         464406         464405       464406     464406   464405       \n",
       "mean          27.3467        2759.16      27.3623    2763.7   0.0541704    \n",
       "std           33.2221        3355.48      33.2138    3353.52  0.226354     \n",
       "min           1              100          1          100      0            \n",
       "25%           8              800          8          802      0            \n",
       "50%           16             1608         16         1608     0            \n",
       "75%           21             2101         21         2101     0            \n",
       "max           99             9999         99         9999     1            \n",
       "counts        464406         464405       464406     464406   464405       \n",
       "uniques       21             230          22         225      2            \n",
       "missing       0              1            0          0        1            \n",
       "missing_perc  0%             0.00%        0%         0%       0.00%        \n",
       "types         numeric        numeric      numeric    numeric  bool         \n",
       "\n",
       "                plaw_date      plaw_no     pass_h     pass_s  majority  \\\n",
       "count         NaN          NaN          443579     454137     458389     \n",
       "mean          NaN          NaN          0.0827068  0.0733105  0.630766   \n",
       "std           NaN          NaN          0.275439   0.260646   0.482598   \n",
       "min           NaN          NaN          0          0          0          \n",
       "25%           NaN          NaN          0          0          0          \n",
       "50%           NaN          NaN          0          0          1          \n",
       "75%           NaN          NaN          0          0          1          \n",
       "max           NaN          NaN          1          1          1          \n",
       "counts        18799        189917       443579     454137     458389     \n",
       "uniques       2836         8789         2          2          2          \n",
       "missing       445607       274489       20827      10269      6017       \n",
       "missing_perc  95.95%       59.11%       4.48%      2.21%      1.30%      \n",
       "types         categorical  categorical  bool       bool       bool       \n",
       "\n",
       "                party   chamber      comment  \n",
       "count         459700   464406    NaN          \n",
       "mean          139.751  1.24911   NaN          \n",
       "std           49.4     0.455701  NaN          \n",
       "min           100      0         NaN          \n",
       "25%           100      1         NaN          \n",
       "50%           100      1         NaN          \n",
       "75%           200      2         NaN          \n",
       "max           400      2         NaN          \n",
       "counts        459700   464406    29428        \n",
       "uniques       7        3         4            \n",
       "missing       4706     0         434978       \n",
       "missing_perc  1.01%    0%        93.66%       \n",
       "types         numeric  numeric   categorical  "
      ]
     },
     "execution_count": 8,
     "metadata": {},
     "output_type": "execute_result"
    }
   ],
   "source": [
    "DataFrameSummary(bills).summary()"
   ]
  },
  {
   "cell_type": "code",
   "execution_count": 9,
   "metadata": {},
   "outputs": [
    {
     "data": {
      "text/html": [
       "<div>\n",
       "<style scoped>\n",
       "    .dataframe tbody tr th:only-of-type {\n",
       "        vertical-align: middle;\n",
       "    }\n",
       "\n",
       "    .dataframe tbody tr th {\n",
       "        vertical-align: top;\n",
       "    }\n",
       "\n",
       "    .dataframe thead th {\n",
       "        text-align: right;\n",
       "    }\n",
       "</style>\n",
       "<table border=\"1\" class=\"dataframe\">\n",
       "  <thead>\n",
       "    <tr style=\"text-align: right;\">\n",
       "      <th></th>\n",
       "      <th>id</th>\n",
       "      <th>bill_id</th>\n",
       "      <th>cong</th>\n",
       "      <th>bill_type</th>\n",
       "      <th>bill_no</th>\n",
       "      <th>name_full</th>\n",
       "      <th>description</th>\n",
       "      <th>intr_date</th>\n",
       "      <th>intr_month</th>\n",
       "      <th>year</th>\n",
       "      <th>pap_majortopic</th>\n",
       "      <th>pap_subtopic</th>\n",
       "      <th>majortopic</th>\n",
       "      <th>subtopic</th>\n",
       "      <th>filter_plaw</th>\n",
       "      <th>plaw_date</th>\n",
       "      <th>plaw_no</th>\n",
       "      <th>pass_h</th>\n",
       "      <th>pass_s</th>\n",
       "      <th>majority</th>\n",
       "      <th>party</th>\n",
       "      <th>chamber</th>\n",
       "      <th>comment</th>\n",
       "    </tr>\n",
       "  </thead>\n",
       "  <tbody>\n",
       "    <tr>\n",
       "      <th>0</th>\n",
       "      <td>38921</td>\n",
       "      <td>80-HR-705</td>\n",
       "      <td>80</td>\n",
       "      <td>HR</td>\n",
       "      <td>705</td>\n",
       "      <td>Church, Ralph E.</td>\n",
       "      <td>For the relief of David Cowan</td>\n",
       "      <td>NaN</td>\n",
       "      <td>NaN</td>\n",
       "      <td>1947.0</td>\n",
       "      <td>99.0</td>\n",
       "      <td>9999.0</td>\n",
       "      <td>99.0</td>\n",
       "      <td>9999.0</td>\n",
       "      <td>0.0</td>\n",
       "      <td>NaN</td>\n",
       "      <td>NaN</td>\n",
       "      <td>0.0</td>\n",
       "      <td>0.0</td>\n",
       "      <td>1.0</td>\n",
       "      <td>200.0</td>\n",
       "      <td>1</td>\n",
       "      <td>NaN</td>\n",
       "    </tr>\n",
       "    <tr>\n",
       "      <th>1</th>\n",
       "      <td>43463</td>\n",
       "      <td>80-HR-5258</td>\n",
       "      <td>80</td>\n",
       "      <td>HR</td>\n",
       "      <td>5258</td>\n",
       "      <td>Regan, Kenneth M.</td>\n",
       "      <td>For the relief of Mrs. Mary Chagra</td>\n",
       "      <td>NaN</td>\n",
       "      <td>NaN</td>\n",
       "      <td>1948.0</td>\n",
       "      <td>99.0</td>\n",
       "      <td>9999.0</td>\n",
       "      <td>99.0</td>\n",
       "      <td>9999.0</td>\n",
       "      <td>0.0</td>\n",
       "      <td>NaN</td>\n",
       "      <td>NaN</td>\n",
       "      <td>0.0</td>\n",
       "      <td>0.0</td>\n",
       "      <td>0.0</td>\n",
       "      <td>100.0</td>\n",
       "      <td>1</td>\n",
       "      <td>NaN</td>\n",
       "    </tr>\n",
       "  </tbody>\n",
       "</table>\n",
       "</div>"
      ],
      "text/plain": [
       "      id     bill_id  cong bill_type  bill_no          name_full  \\\n",
       "0  38921  80-HR-705   80    HR        705      Church, Ralph E.    \n",
       "1  43463  80-HR-5258  80    HR        5258     Regan, Kenneth M.   \n",
       "\n",
       "                          description intr_date  intr_month    year  \\\n",
       "0  For the relief of David Cowan       NaN      NaN          1947.0   \n",
       "1  For the relief of Mrs. Mary Chagra  NaN      NaN          1948.0   \n",
       "\n",
       "   pap_majortopic  pap_subtopic  majortopic  subtopic  filter_plaw plaw_date  \\\n",
       "0  99.0            9999.0        99.0        9999.0    0.0          NaN        \n",
       "1  99.0            9999.0        99.0        9999.0    0.0          NaN        \n",
       "\n",
       "  plaw_no  pass_h  pass_s  majority  party  chamber comment  \n",
       "0  NaN     0.0     0.0     1.0       200.0  1        NaN     \n",
       "1  NaN     0.0     0.0     0.0       100.0  1        NaN     "
      ]
     },
     "execution_count": 9,
     "metadata": {},
     "output_type": "execute_result"
    }
   ],
   "source": [
    "bills.head(2)"
   ]
  },
  {
   "cell_type": "markdown",
   "metadata": {},
   "source": [
    "missing data in other columns:\n",
    "- Some **bill_id** are missing. **cong**, **bill_type**, and **bill_no** contain the same information, and don't have missing data, so these could be used to reconstruct bill_id if want them (for reference) later\n",
    "- Some **year** are missing. Many of these are from $2012$ (not shown) as indicated by **intr_date** and could be filled in if needed later"
   ]
  },
  {
   "cell_type": "markdown",
   "metadata": {},
   "source": [
    "The most important columns are:\n",
    "- **description**: the title of the bill\n",
    "- **majortopic**: 1 of 22 major topics\n",
    "- **subtopic**: 1 of 225 minor topics\n",
    "\n",
    "For now focus on **description**, **majortopic** and **subtopic**, though additional columns may help with bill labeling (e.g. which party, whether the bill was passed)."
   ]
  },
  {
   "cell_type": "code",
   "execution_count": 10,
   "metadata": {},
   "outputs": [],
   "source": [
    "cols = ['description', 'majortopic', 'subtopic']\n",
    "\n",
    "bills['majortopic'] = bills['majortopic'].astype(int)\n",
    "bills['subtopic'] = bills['subtopic'].astype(int)\n",
    "bills = bills[cols]"
   ]
  },
  {
   "cell_type": "markdown",
   "metadata": {},
   "source": [
    "# 2. Exploratory Data Analysis"
   ]
  },
  {
   "cell_type": "markdown",
   "metadata": {},
   "source": [
    "## 2.1 Raw data"
   ]
  },
  {
   "cell_type": "markdown",
   "metadata": {},
   "source": [
    "### 2.1.1 majortopic"
   ]
  },
  {
   "cell_type": "code",
   "execution_count": 11,
   "metadata": {},
   "outputs": [
    {
     "data": {
      "text/plain": [
       "[1, 2, 3, 4, 5, 6, 7, 8, 9, 10, 12, 13, 14, 15, 16, 17, 18, 19, 20, 21, 23, 99]"
      ]
     },
     "execution_count": 11,
     "metadata": {},
     "output_type": "execute_result"
    }
   ],
   "source": [
    "sorted(bills['majortopic'].unique())"
   ]
  },
  {
   "cell_type": "markdown",
   "metadata": {},
   "source": [
    "These correspond to the master codebook https://www.comparativeagendas.net/pages/master-codebook, except 99:"
   ]
  },
  {
   "cell_type": "code",
   "execution_count": 12,
   "metadata": {},
   "outputs": [
    {
     "data": {
      "text/plain": [
       "0     For the relief of David Cowan                             \n",
       "1     For the relief of Mrs. Mary Chagra                        \n",
       "2     For the relief of Edgar D. Sebring and Jay Purple         \n",
       "6     For the relief of Charles W. Taylor, Jr                   \n",
       "10    For the relief of Graphic Arts Corp., of Ohio Toledo, Ohio\n",
       "Name: description, dtype: object"
      ]
     },
     "metadata": {},
     "output_type": "display_data"
    }
   ],
   "source": [
    "bills99 = bills[bills['majortopic'] == 99]\n",
    "display(bills99.description.head())"
   ]
  },
  {
   "cell_type": "code",
   "execution_count": 13,
   "metadata": {},
   "outputs": [
    {
     "data": {
      "text/plain": [
       "(1756, 79952)"
      ]
     },
     "execution_count": 13,
     "metadata": {},
     "output_type": "execute_result"
    }
   ],
   "source": [
    "not_relief_bills99 = bills99[~bills99['description'].str.contains('relief', case=False)]\n",
    "len(not_relief_bills99), len(bills99)"
   ]
  },
  {
   "cell_type": "markdown",
   "metadata": {},
   "source": [
    "Most bills with label 99 are relief bills, but there are 1756 that are not. Here are the first 10:"
   ]
  },
  {
   "cell_type": "code",
   "execution_count": 14,
   "metadata": {},
   "outputs": [
    {
     "data": {
      "text/plain": [
       "16      A bill to authorize the awarding of medals to certain war correspondents                                                                                           \n",
       "288     To provide for the advancement of James Edgar Davis on the emergency officers retired list of the Army                                                             \n",
       "298     A bill to transfer the Remount Service from the War Department to the Department of Agriculture                                                                    \n",
       "336     To provide for the admission of Lawrence M. Lew to the United States as a nonquota immigrant                                                                       \n",
       "404     To record the lawful admission to the United States for permanent residence. of Tadeusz Glogowski, Maria L. Glogowska, Leokadia Glogowska, and Malgorzata Glogowska\n",
       "501     To authorize the cancellation of deportation proceedings in the case of Ancieto Zacevich or Anciento Zacevich or Ernest Zacevich                                   \n",
       "586     To authorize the cancellation of deportation proceedings in the case of John Lantsas                                                                               \n",
       "658     To record the lawful admission to the United States for permanent residence of Emanuel Frangescos                                                                  \n",
       "1022    Authorizing the Secretary of the Interior to issue to James P. Love a patent to certain lands in the State of Mississippi                                          \n",
       "1102    To record the lawful admission to the United States for permanent residence of Patricia Schwartz and Bessi, Schwartz                                               \n",
       "Name: description, dtype: object"
      ]
     },
     "execution_count": 14,
     "metadata": {},
     "output_type": "execute_result"
    }
   ],
   "source": [
    "not_relief_bills99.description.head(10)"
   ]
  },
  {
   "cell_type": "markdown",
   "metadata": {},
   "source": [
    "Some mixed topics, though many about admission / deportation to US. Drop these as outside main categories"
   ]
  },
  {
   "cell_type": "code",
   "execution_count": 15,
   "metadata": {},
   "outputs": [],
   "source": [
    "bills = bills[bills['majortopic'] != 99]"
   ]
  },
  {
   "cell_type": "markdown",
   "metadata": {},
   "source": [
    "record topics in a ditionary"
   ]
  },
  {
   "cell_type": "code",
   "execution_count": 16,
   "metadata": {},
   "outputs": [],
   "source": [
    "dict_number_topic = {1: 'Macroeconomics',\n",
    "                     2: 'Civil Rights',\n",
    "                     3: 'Health',\n",
    "                     4: 'Agriculture',\n",
    "                     5: 'Labor',\n",
    "                     6: 'Education',\n",
    "                     7: 'Environment',\n",
    "                     8: 'Energy',\n",
    "                     9: 'Immigration',\n",
    "                     10: 'Transportation',\n",
    "                     12: 'Law and Crime',\n",
    "                     13: 'Social Welfare',\n",
    "                     14: 'Housing',\n",
    "                     15: 'Domestic Commerce',\n",
    "                     16: 'Defense',\n",
    "                     17: 'Technology',\n",
    "                     18: 'Foreign Trade',\n",
    "                     19: 'International Affairs',\n",
    "                     20: 'Government Operations',\n",
    "                     21: 'Public Lands',\n",
    "                     23: 'Culture'\n",
    "                    }"
   ]
  },
  {
   "cell_type": "markdown",
   "metadata": {},
   "source": [
    "### bill counts by topic"
   ]
  },
  {
   "cell_type": "code",
   "execution_count": 17,
   "metadata": {},
   "outputs": [
    {
     "data": {
      "image/png": "[encoded data removed]",
      "text/plain": [
       "<Figure size 432x288 with 1 Axes>"
      ]
     },
     "metadata": {
      "needs_background": "light"
     },
     "output_type": "display_data"
    }
   ],
   "source": [
    "bills['majortopic'].value_counts().sort_index().plot(kind='bar')\n",
    "plt.show()"
   ]
  },
  {
   "cell_type": "code",
   "execution_count": 18,
   "metadata": {},
   "outputs": [
    {
     "data": {
      "text/plain": [
       "53"
      ]
     },
     "execution_count": 18,
     "metadata": {},
     "output_type": "execute_result"
    }
   ],
   "source": [
    "bills['majortopic'].value_counts().loc[23]"
   ]
  },
  {
   "cell_type": "markdown",
   "metadata": {},
   "source": [
    "Not too unbalanced, except for topic label 23 (cultural bills), which has only 53 bills. So these might be difficult to classify"
   ]
  },
  {
   "cell_type": "markdown",
   "metadata": {},
   "source": [
    "## 2.1.2 subtopic"
   ]
  },
  {
   "cell_type": "markdown",
   "metadata": {},
   "source": [
    "counts of subtopics is much less balanced so will be harder to classify:"
   ]
  },
  {
   "cell_type": "code",
   "execution_count": 19,
   "metadata": {},
   "outputs": [
    {
     "data": {
      "image/png": "[encoded data removed]",
      "text/plain": [
       "<Figure size 432x288 with 1 Axes>"
      ]
     },
     "metadata": {
      "needs_background": "light"
     },
     "output_type": "display_data"
    }
   ],
   "source": [
    "subtopic_count = bills['subtopic'].value_counts().sort_index()\n",
    "subtopic_count.plot()\n",
    "plt.show()"
   ]
  },
  {
   "cell_type": "code",
   "execution_count": 20,
   "metadata": {},
   "outputs": [
    {
     "data": {
      "text/plain": [
       "848.0"
      ]
     },
     "execution_count": 20,
     "metadata": {},
     "output_type": "execute_result"
    }
   ],
   "source": [
    "subtopic_count.median()"
   ]
  },
  {
   "cell_type": "markdown",
   "metadata": {},
   "source": [
    "With half the subtopics having more than 848 bills, still have potential to look at the more common subtopics."
   ]
  },
  {
   "cell_type": "markdown",
   "metadata": {},
   "source": [
    "## 2.1.3 bill titles"
   ]
  },
  {
   "cell_type": "code",
   "execution_count": 21,
   "metadata": {},
   "outputs": [],
   "source": [
    "bills['description_length'] = bills['description'].str.len()\n",
    "bills['description_nwords'] = bills['description'].str.split().str.len()"
   ]
  },
  {
   "cell_type": "markdown",
   "metadata": {},
   "source": [
    "bills with short titles:"
   ]
  },
  {
   "cell_type": "code",
   "execution_count": 22,
   "metadata": {},
   "outputs": [
    {
     "data": {
      "text/html": [
       "<div>\n",
       "<style scoped>\n",
       "    .dataframe tbody tr th:only-of-type {\n",
       "        vertical-align: middle;\n",
       "    }\n",
       "\n",
       "    .dataframe tbody tr th {\n",
       "        vertical-align: top;\n",
       "    }\n",
       "\n",
       "    .dataframe thead th {\n",
       "        text-align: right;\n",
       "    }\n",
       "</style>\n",
       "<table border=\"1\" class=\"dataframe\">\n",
       "  <thead>\n",
       "    <tr style=\"text-align: right;\">\n",
       "      <th></th>\n",
       "      <th>description</th>\n",
       "      <th>majortopic</th>\n",
       "      <th>subtopic</th>\n",
       "      <th>description_length</th>\n",
       "      <th>description_nwords</th>\n",
       "    </tr>\n",
       "  </thead>\n",
       "  <tbody>\n",
       "    <tr>\n",
       "      <th>7064</th>\n",
       "      <td>To decontrol sugar</td>\n",
       "      <td>4</td>\n",
       "      <td>402</td>\n",
       "      <td>18</td>\n",
       "      <td>3</td>\n",
       "    </tr>\n",
       "    <tr>\n",
       "      <th>26919</th>\n",
       "      <td>To raise revenue</td>\n",
       "      <td>10</td>\n",
       "      <td>1002</td>\n",
       "      <td>16</td>\n",
       "      <td>3</td>\n",
       "    </tr>\n",
       "    <tr>\n",
       "      <th>82153</th>\n",
       "      <td>For sailors.</td>\n",
       "      <td>16</td>\n",
       "      <td>1608</td>\n",
       "      <td>12</td>\n",
       "      <td>2</td>\n",
       "    </tr>\n",
       "    <tr>\n",
       "      <th>100907</th>\n",
       "      <td>x</td>\n",
       "      <td>20</td>\n",
       "      <td>2003</td>\n",
       "      <td>1</td>\n",
       "      <td>1</td>\n",
       "    </tr>\n",
       "    <tr>\n",
       "      <th>197292</th>\n",
       "      <td>Water Bank Act</td>\n",
       "      <td>10</td>\n",
       "      <td>1007</td>\n",
       "      <td>14</td>\n",
       "      <td>3</td>\n",
       "    </tr>\n",
       "    <tr>\n",
       "      <th>199024</th>\n",
       "      <td>Water Bank Act</td>\n",
       "      <td>10</td>\n",
       "      <td>1007</td>\n",
       "      <td>14</td>\n",
       "      <td>3</td>\n",
       "    </tr>\n",
       "    <tr>\n",
       "      <th>209431</th>\n",
       "      <td>Fish cancer study</td>\n",
       "      <td>4</td>\n",
       "      <td>405</td>\n",
       "      <td>17</td>\n",
       "      <td>3</td>\n",
       "    </tr>\n",
       "    <tr>\n",
       "      <th>228256</th>\n",
       "      <td>To end the war</td>\n",
       "      <td>16</td>\n",
       "      <td>1619</td>\n",
       "      <td>14</td>\n",
       "      <td>4</td>\n",
       "    </tr>\n",
       "    <tr>\n",
       "      <th>261650</th>\n",
       "      <td>Postal Reform Act</td>\n",
       "      <td>20</td>\n",
       "      <td>2003</td>\n",
       "      <td>17</td>\n",
       "      <td>3</td>\n",
       "    </tr>\n",
       "    <tr>\n",
       "      <th>273116</th>\n",
       "      <td>Bentsen</td>\n",
       "      <td>9</td>\n",
       "      <td>900</td>\n",
       "      <td>7</td>\n",
       "      <td>1</td>\n",
       "    </tr>\n",
       "    <tr>\n",
       "      <th>340562</th>\n",
       "      <td>To control crime.</td>\n",
       "      <td>12</td>\n",
       "      <td>1200</td>\n",
       "      <td>17</td>\n",
       "      <td>3</td>\n",
       "    </tr>\n",
       "    <tr>\n",
       "      <th>350506</th>\n",
       "      <td>To control crime.</td>\n",
       "      <td>12</td>\n",
       "      <td>1200</td>\n",
       "      <td>17</td>\n",
       "      <td>3</td>\n",
       "    </tr>\n",
       "    <tr>\n",
       "      <th>351808</th>\n",
       "      <td>To combat crime.</td>\n",
       "      <td>12</td>\n",
       "      <td>1200</td>\n",
       "      <td>16</td>\n",
       "      <td>3</td>\n",
       "    </tr>\n",
       "    <tr>\n",
       "      <th>357760</th>\n",
       "      <td>To combat crime.</td>\n",
       "      <td>12</td>\n",
       "      <td>1200</td>\n",
       "      <td>16</td>\n",
       "      <td>3</td>\n",
       "    </tr>\n",
       "    <tr>\n",
       "      <th>361329</th>\n",
       "      <td>To control crime.</td>\n",
       "      <td>12</td>\n",
       "      <td>1200</td>\n",
       "      <td>17</td>\n",
       "      <td>3</td>\n",
       "    </tr>\n",
       "    <tr>\n",
       "      <th>363208</th>\n",
       "      <td>To combat crime.</td>\n",
       "      <td>12</td>\n",
       "      <td>1200</td>\n",
       "      <td>16</td>\n",
       "      <td>3</td>\n",
       "    </tr>\n",
       "    <tr>\n",
       "      <th>365171</th>\n",
       "      <td>To control crime.</td>\n",
       "      <td>12</td>\n",
       "      <td>1200</td>\n",
       "      <td>17</td>\n",
       "      <td>3</td>\n",
       "    </tr>\n",
       "    <tr>\n",
       "      <th>367411</th>\n",
       "      <td>To combat crime.</td>\n",
       "      <td>12</td>\n",
       "      <td>1200</td>\n",
       "      <td>16</td>\n",
       "      <td>3</td>\n",
       "    </tr>\n",
       "    <tr>\n",
       "      <th>411717</th>\n",
       "      <td>Reserved.</td>\n",
       "      <td>20</td>\n",
       "      <td>2011</td>\n",
       "      <td>9</td>\n",
       "      <td>1</td>\n",
       "    </tr>\n",
       "    <tr>\n",
       "      <th>413453</th>\n",
       "      <td>Reserved.</td>\n",
       "      <td>20</td>\n",
       "      <td>2011</td>\n",
       "      <td>9</td>\n",
       "      <td>1</td>\n",
       "    </tr>\n",
       "    <tr>\n",
       "      <th>415167</th>\n",
       "      <td>Reserved.</td>\n",
       "      <td>20</td>\n",
       "      <td>2011</td>\n",
       "      <td>9</td>\n",
       "      <td>1</td>\n",
       "    </tr>\n",
       "    <tr>\n",
       "      <th>415795</th>\n",
       "      <td>Reserved.</td>\n",
       "      <td>20</td>\n",
       "      <td>2011</td>\n",
       "      <td>9</td>\n",
       "      <td>1</td>\n",
       "    </tr>\n",
       "    <tr>\n",
       "      <th>439739</th>\n",
       "      <td>EACH Act</td>\n",
       "      <td>2</td>\n",
       "      <td>207</td>\n",
       "      <td>8</td>\n",
       "      <td>2</td>\n",
       "    </tr>\n",
       "    <tr>\n",
       "      <th>441236</th>\n",
       "      <td>CALM Act</td>\n",
       "      <td>15</td>\n",
       "      <td>1525</td>\n",
       "      <td>8</td>\n",
       "      <td>2</td>\n",
       "    </tr>\n",
       "    <tr>\n",
       "      <th>441310</th>\n",
       "      <td>LINE Act of 2012</td>\n",
       "      <td>20</td>\n",
       "      <td>2012</td>\n",
       "      <td>16</td>\n",
       "      <td>4</td>\n",
       "    </tr>\n",
       "    <tr>\n",
       "      <th>441392</th>\n",
       "      <td>SAFER Act of 2012</td>\n",
       "      <td>2</td>\n",
       "      <td>202</td>\n",
       "      <td>17</td>\n",
       "      <td>4</td>\n",
       "    </tr>\n",
       "    <tr>\n",
       "      <th>441430</th>\n",
       "      <td>Consumer Bounty Act</td>\n",
       "      <td>15</td>\n",
       "      <td>1525</td>\n",
       "      <td>19</td>\n",
       "      <td>3</td>\n",
       "    </tr>\n",
       "    <tr>\n",
       "      <th>441982</th>\n",
       "      <td>POCAG Act</td>\n",
       "      <td>20</td>\n",
       "      <td>2003</td>\n",
       "      <td>9</td>\n",
       "      <td>2</td>\n",
       "    </tr>\n",
       "    <tr>\n",
       "      <th>444280</th>\n",
       "      <td>SAFE Child Act</td>\n",
       "      <td>6</td>\n",
       "      <td>602</td>\n",
       "      <td>14</td>\n",
       "      <td>3</td>\n",
       "    </tr>\n",
       "    <tr>\n",
       "      <th>446382</th>\n",
       "      <td>PLEA Act</td>\n",
       "      <td>12</td>\n",
       "      <td>1201</td>\n",
       "      <td>8</td>\n",
       "      <td>2</td>\n",
       "    </tr>\n",
       "    <tr>\n",
       "      <th>447546</th>\n",
       "      <td>Save Christmas Act</td>\n",
       "      <td>20</td>\n",
       "      <td>2030</td>\n",
       "      <td>18</td>\n",
       "      <td>3</td>\n",
       "    </tr>\n",
       "  </tbody>\n",
       "</table>\n",
       "</div>"
      ],
      "text/plain": [
       "                description  majortopic  subtopic  description_length  \\\n",
       "7064    To decontrol sugar   4           402       18                   \n",
       "26919   To raise revenue     10          1002      16                   \n",
       "82153   For sailors.         16          1608      12                   \n",
       "100907  x                    20          2003      1                    \n",
       "197292  Water Bank Act       10          1007      14                   \n",
       "199024  Water Bank Act       10          1007      14                   \n",
       "209431  Fish cancer study    4           405       17                   \n",
       "228256  To end the war       16          1619      14                   \n",
       "261650  Postal Reform Act    20          2003      17                   \n",
       "273116  Bentsen              9           900       7                    \n",
       "340562  To control crime.    12          1200      17                   \n",
       "350506  To control crime.    12          1200      17                   \n",
       "351808  To combat crime.     12          1200      16                   \n",
       "357760  To combat crime.     12          1200      16                   \n",
       "361329  To control crime.    12          1200      17                   \n",
       "363208  To combat crime.     12          1200      16                   \n",
       "365171  To control crime.    12          1200      17                   \n",
       "367411  To combat crime.     12          1200      16                   \n",
       "411717  Reserved.            20          2011      9                    \n",
       "413453  Reserved.            20          2011      9                    \n",
       "415167  Reserved.            20          2011      9                    \n",
       "415795  Reserved.            20          2011      9                    \n",
       "439739  EACH Act             2           207       8                    \n",
       "441236  CALM Act             15          1525      8                    \n",
       "441310  LINE Act of 2012     20          2012      16                   \n",
       "441392  SAFER Act of 2012    2           202       17                   \n",
       "441430  Consumer Bounty Act  15          1525      19                   \n",
       "441982  POCAG Act            20          2003      9                    \n",
       "444280  SAFE Child Act       6           602       14                   \n",
       "446382  PLEA Act             12          1201      8                    \n",
       "447546  Save Christmas Act   20          2030      18                   \n",
       "\n",
       "        description_nwords  \n",
       "7064    3                   \n",
       "26919   3                   \n",
       "82153   2                   \n",
       "100907  1                   \n",
       "197292  3                   \n",
       "199024  3                   \n",
       "209431  3                   \n",
       "228256  4                   \n",
       "261650  3                   \n",
       "273116  1                   \n",
       "340562  3                   \n",
       "350506  3                   \n",
       "351808  3                   \n",
       "357760  3                   \n",
       "361329  3                   \n",
       "363208  3                   \n",
       "365171  3                   \n",
       "367411  3                   \n",
       "411717  1                   \n",
       "413453  1                   \n",
       "415167  1                   \n",
       "415795  1                   \n",
       "439739  2                   \n",
       "441236  2                   \n",
       "441310  4                   \n",
       "441392  4                   \n",
       "441430  3                   \n",
       "441982  2                   \n",
       "444280  3                   \n",
       "446382  2                   \n",
       "447546  3                   "
      ]
     },
     "execution_count": 22,
     "metadata": {},
     "output_type": "execute_result"
    }
   ],
   "source": [
    "bills[bills['description_length']<20]"
   ]
  },
  {
   "cell_type": "markdown",
   "metadata": {},
   "source": [
    "Can see several acronyms - fairly extensive list here https://noahveltman.com/acronyms/#words?word=EACH"
   ]
  },
  {
   "cell_type": "markdown",
   "metadata": {},
   "source": [
    "distribution of number of words:"
   ]
  },
  {
   "cell_type": "code",
   "execution_count": 23,
   "metadata": {},
   "outputs": [
    {
     "data": {
      "image/png": "[encoded data removed]",
      "text/plain": [
       "<Figure size 432x288 with 1 Axes>"
      ]
     },
     "metadata": {
      "needs_background": "light"
     },
     "output_type": "display_data"
    }
   ],
   "source": [
    "nwords_counts = bills['description_nwords'].value_counts().sort_index()\n",
    "nwords_counts.plot()\n",
    "plt.show()"
   ]
  },
  {
   "cell_type": "markdown",
   "metadata": {},
   "source": [
    "long tail - variable length of bill titles may be tricky for some models"
   ]
  },
  {
   "cell_type": "markdown",
   "metadata": {},
   "source": [
    "# 2.2 Prepare for model - tokenize"
   ]
  },
  {
   "cell_type": "code",
   "execution_count": 107,
   "metadata": {},
   "outputs": [],
   "source": [
    "wpt = nltk.WordPunctTokenizer()\n",
    "stop_words = nltk.corpus.stopwords.words('english')\n",
    "\n",
    "def tokenize_doc(doc, complete=False):\n",
    "    # lower case and remove special characters\\whitespaces\n",
    "    doc = re.sub(r'[^a-zA-Z\\s]', '', doc, re.I|re.A)\n",
    "    doc = doc.lower()\n",
    "    doc = doc.strip()\n",
    "    # tokenize document\n",
    "    tokens = wpt.tokenize(doc)\n",
    "    # filter stopwords out of document\n",
    "    if complete:\n",
    "        return tokens\n",
    "    else:\n",
    "        filtered_tokens = [token for token in tokens if token not in stop_words]\n",
    "        return filtered_tokens\n",
    "\n",
    "bills['tokens'] = bills['description'].apply(tokenize_doc)\n",
    "bills['tokens_complete'] = bills['description'].apply(tokenize_doc, complete=True)"
   ]
  },
  {
   "cell_type": "code",
   "execution_count": 25,
   "metadata": {},
   "outputs": [],
   "source": [
    "# re-create decription from filtered tokens\n",
    "bills['norm_description'] = bills['tokens'].str.join(' ')"
   ]
  },
  {
   "cell_type": "code",
   "execution_count": 26,
   "metadata": {},
   "outputs": [
    {
     "data": {
      "text/html": [
       "<div>\n",
       "<style scoped>\n",
       "    .dataframe tbody tr th:only-of-type {\n",
       "        vertical-align: middle;\n",
       "    }\n",
       "\n",
       "    .dataframe tbody tr th {\n",
       "        vertical-align: top;\n",
       "    }\n",
       "\n",
       "    .dataframe thead th {\n",
       "        text-align: right;\n",
       "    }\n",
       "</style>\n",
       "<table border=\"1\" class=\"dataframe\">\n",
       "  <thead>\n",
       "    <tr style=\"text-align: right;\">\n",
       "      <th></th>\n",
       "      <th>description</th>\n",
       "      <th>majortopic</th>\n",
       "      <th>subtopic</th>\n",
       "      <th>description_length</th>\n",
       "      <th>description_nwords</th>\n",
       "      <th>tokens</th>\n",
       "      <th>norm_description</th>\n",
       "    </tr>\n",
       "  </thead>\n",
       "  <tbody>\n",
       "    <tr>\n",
       "      <th>3</th>\n",
       "      <td>To increase the rates of certain educational and readjustment allowances payable to veterans in order to compensate for the higher cost of living in Alaska</td>\n",
       "      <td>6</td>\n",
       "      <td>601</td>\n",
       "      <td>155</td>\n",
       "      <td>25</td>\n",
       "      <td>[increase, rates, certain, educational, readjustment, allowances, payable, veterans, order, compensate, higher, cost, living, alaska]</td>\n",
       "      <td>increase rates certain educational readjustment allowances payable veterans order compensate higher cost living alaska</td>\n",
       "    </tr>\n",
       "    <tr>\n",
       "      <th>4</th>\n",
       "      <td>To encourage enterprise capital investment in private business and aid industrial preparedness for national emergencies by abolishing mandatory depreciation deductions in loss years and permitting reduced depreciation deductions in low income years for Fe</td>\n",
       "      <td>1</td>\n",
       "      <td>100</td>\n",
       "      <td>255</td>\n",
       "      <td>34</td>\n",
       "      <td>[encourage, enterprise, capital, investment, private, business, aid, industrial, preparedness, national, emergencies, abolishing, mandatory, depreciation, deductions, loss, years, permitting, reduced, depreciation, deductions, low, income, years, fe]</td>\n",
       "      <td>encourage enterprise capital investment private business aid industrial preparedness national emergencies abolishing mandatory depreciation deductions loss years permitting reduced depreciation deductions low income years fe</td>\n",
       "    </tr>\n",
       "    <tr>\n",
       "      <th>5</th>\n",
       "      <td>To continue rent control until June 30, 1950, and for other purposes</td>\n",
       "      <td>14</td>\n",
       "      <td>1406</td>\n",
       "      <td>68</td>\n",
       "      <td>12</td>\n",
       "      <td>[continue, rent, control, june, purposes]</td>\n",
       "      <td>continue rent control june purposes</td>\n",
       "    </tr>\n",
       "  </tbody>\n",
       "</table>\n",
       "</div>"
      ],
      "text/plain": [
       "                                                                                                                                                                                                                                                       description  \\\n",
       "3  To increase the rates of certain educational and readjustment allowances payable to veterans in order to compensate for the higher cost of living in Alaska                                                                                                       \n",
       "4  To encourage enterprise capital investment in private business and aid industrial preparedness for national emergencies by abolishing mandatory depreciation deductions in loss years and permitting reduced depreciation deductions in low income years for Fe   \n",
       "5  To continue rent control until June 30, 1950, and for other purposes                                                                                                                                                                                              \n",
       "\n",
       "   majortopic  subtopic  description_length  description_nwords  \\\n",
       "3  6           601       155                 25                   \n",
       "4  1           100       255                 34                   \n",
       "5  14          1406      68                  12                   \n",
       "\n",
       "                                                                                                                                                                                                                                                       tokens  \\\n",
       "3  [increase, rates, certain, educational, readjustment, allowances, payable, veterans, order, compensate, higher, cost, living, alaska]                                                                                                                        \n",
       "4  [encourage, enterprise, capital, investment, private, business, aid, industrial, preparedness, national, emergencies, abolishing, mandatory, depreciation, deductions, loss, years, permitting, reduced, depreciation, deductions, low, income, years, fe]   \n",
       "5  [continue, rent, control, june, purposes]                                                                                                                                                                                                                    \n",
       "\n",
       "                                                                                                                                                                                                                   norm_description  \n",
       "3  increase rates certain educational readjustment allowances payable veterans order compensate higher cost living alaska                                                                                                            \n",
       "4  encourage enterprise capital investment private business aid industrial preparedness national emergencies abolishing mandatory depreciation deductions loss years permitting reduced depreciation deductions low income years fe  \n",
       "5  continue rent control june purposes                                                                                                                                                                                               "
      ]
     },
     "execution_count": 26,
     "metadata": {},
     "output_type": "execute_result"
    }
   ],
   "source": [
    "bills.head(3)"
   ]
  },
  {
   "cell_type": "code",
   "execution_count": 27,
   "metadata": {},
   "outputs": [
    {
     "name": "stdout",
     "output_type": "stream",
     "text": [
      "5689187 words total, with a vocabulary size of 49980\n"
     ]
    }
   ],
   "source": [
    "all_words = [word for tokens in bills[\"tokens\"] for word in tokens]\n",
    "VOCAB = sorted(list(set(all_words)))\n",
    "print(\"%s words total, with a vocabulary size of %s\" % (len(all_words), len(VOCAB)))\n",
    "print(\"Max sentence length is %s\" % max(sentence_lengths))"
   ]
  },
  {
   "cell_type": "code",
   "execution_count": 28,
   "metadata": {},
   "outputs": [
    {
     "data": {
      "image/png": "[encoded data removed]",
      "text/plain": [
       "<Figure size 432x288 with 1 Axes>"
      ]
     },
     "metadata": {
      "needs_background": "light"
     },
     "output_type": "display_data"
    }
   ],
   "source": [
    "bills['description_ntokens'] = bills['tokens'].str.len()\n",
    "ntokens_counts = bills['description_ntokens'].value_counts().sort_index()\n",
    "ntokens_counts.plot()\n",
    "plt.show()"
   ]
  },
  {
   "cell_type": "markdown",
   "metadata": {},
   "source": [
    "# 3. Modeling"
   ]
  },
  {
   "cell_type": "markdown",
   "metadata": {},
   "source": [
    "## 3.1 bag of words for baseline"
   ]
  },
  {
   "cell_type": "code",
   "execution_count": 29,
   "metadata": {},
   "outputs": [],
   "source": [
    "from sklearn.feature_extraction.text import CountVectorizer, TfidfVectorizer\n",
    "\n",
    "from sklearn.model_selection import train_test_split\n",
    "from sklearn.preprocessing import StandardScaler\n",
    "\n",
    "from sklearn.linear_model import SGDClassifier\n",
    "from sklearn.ensemble import RandomForestClassifier\n",
    "\n",
    "from sklearn.model_selection import cross_val_score\n",
    "from sklearn.metrics import accuracy_score\n",
    "from sklearn.metrics import confusion_matrix"
   ]
  },
  {
   "cell_type": "markdown",
   "metadata": {},
   "source": [
    "train test split:"
   ]
  },
  {
   "cell_type": "code",
   "execution_count": 92,
   "metadata": {},
   "outputs": [],
   "source": [
    "list_corpus = bills[\"norm_description\"].tolist()\n",
    "list_labels = bills[\"majortopic\"].tolist()\n",
    "\n",
    "X_train, X_test, y_train, y_test = train_test_split(list_corpus, list_labels, test_size=0.2, \n",
    "                                                                                random_state=42)"
   ]
  },
  {
   "cell_type": "markdown",
   "metadata": {},
   "source": [
    "bag of words embedding:"
   ]
  },
  {
   "cell_type": "code",
   "execution_count": 31,
   "metadata": {},
   "outputs": [],
   "source": [
    "def cv(data):\n",
    "    count_vectorizer = CountVectorizer()\n",
    "\n",
    "    embedding = count_vectorizer.fit_transform(data)\n",
    "\n",
    "    return embedding, count_vectorizer\n",
    "\n",
    "X_train_counts, count_vectorizer = cv(X_train)\n",
    "X_test_counts = count_vectorizer.transform(X_test)"
   ]
  },
  {
   "cell_type": "code",
   "execution_count": 32,
   "metadata": {},
   "outputs": [
    {
     "data": {
      "text/plain": [
       "((307563, 45933), (76891, 45933))"
      ]
     },
     "execution_count": 32,
     "metadata": {},
     "output_type": "execute_result"
    }
   ],
   "source": [
    "X_train_counts.shape, X_test_counts.shape"
   ]
  },
  {
   "cell_type": "code",
   "execution_count": 33,
   "metadata": {},
   "outputs": [],
   "source": [
    "sgd_clf = SGDClassifier(random_state=42, n_jobs=-1)"
   ]
  },
  {
   "cell_type": "code",
   "execution_count": 34,
   "metadata": {},
   "outputs": [
    {
     "name": "stderr",
     "output_type": "stream",
     "text": [
      "C:\\Anaconda3\\lib\\site-packages\\sklearn\\linear_model\\stochastic_gradient.py:166: FutureWarning: max_iter and tol parameters have been added in SGDClassifier in 0.19. If both are left unset, they default to max_iter=5 and tol=None. If tol is not None, max_iter defaults to max_iter=1000. From 0.21, default max_iter will be 1000, and default tol will be 1e-3.\n",
      "  FutureWarning)\n"
     ]
    },
    {
     "data": {
      "text/plain": [
       "(21, 45933)"
      ]
     },
     "execution_count": 34,
     "metadata": {},
     "output_type": "execute_result"
    }
   ],
   "source": [
    "sgd_clf.fit(X_train_counts, y_train)\n",
    "sgd_clf.coef_.shape"
   ]
  },
  {
   "cell_type": "code",
   "execution_count": 55,
   "metadata": {},
   "outputs": [
    {
     "data": {
      "text/plain": [
       "0.8374061983847264"
      ]
     },
     "execution_count": 55,
     "metadata": {},
     "output_type": "execute_result"
    }
   ],
   "source": [
    "y_test_predicted = sgd_clf.predict(X_test_counts)\n",
    "accuracy_score(y_test_predicted, y_test)"
   ]
  },
  {
   "cell_type": "markdown",
   "metadata": {},
   "source": [
    "compute accuracy for each major topic:"
   ]
  },
  {
   "cell_type": "code",
   "execution_count": 54,
   "metadata": {},
   "outputs": [
    {
     "data": {
      "text/plain": [
       "array([0.73923304, 0.70858164, 0.89152481, 0.85923845, 0.79305913,\n",
       "       0.86530612, 0.79407352, 0.86904762, 0.88508772, 0.85973905,\n",
       "       0.80215912, 0.82460586, 0.75644542, 0.78263638, 0.85976977,\n",
       "       0.79105572, 0.90722681, 0.71651786, 0.84377793, 0.90195577,\n",
       "       0.53333333])"
      ]
     },
     "execution_count": 54,
     "metadata": {},
     "output_type": "execute_result"
    }
   ],
   "source": [
    "cm = confusion_matrix(y_test, y_test_predicted)\n",
    "accuracy_topic = np.diag(cm / cm.sum(axis=1, keepdims=True))\n",
    "accuracy_topic"
   ]
  },
  {
   "cell_type": "code",
   "execution_count": 37,
   "metadata": {},
   "outputs": [],
   "source": [
    "def get_most_important_features(vectorizer, model, n=5):\n",
    "    index_to_word = {index:word for word,index in vectorizer.vocabulary_.items()}\n",
    "    \n",
    "    # loop for each class\n",
    "    classes ={}\n",
    "    for class_index in range(model.coef_.shape[0]):\n",
    "        class_label = model.classes_[class_index]\n",
    "        word_importances = [(el, index_to_word[i]) for i,el in enumerate(model.coef_[class_index])]\n",
    "        sorted_coeff = sorted(word_importances, key = lambda x : x[0], reverse=True)\n",
    "        top = sorted(sorted_coeff[:n], key = lambda x : x[0])\n",
    "        bottom = sorted_coeff[-n:]\n",
    "        classes[dict_number_topic[class_label]] = {\n",
    "            'top':top,\n",
    "            'bottom':bottom\n",
    "        }\n",
    "    return classes"
   ]
  },
  {
   "cell_type": "code",
   "execution_count": 64,
   "metadata": {},
   "outputs": [],
   "source": [
    "importance = get_most_important_features(count_vectorizer, sgd_clf, 5)"
   ]
  },
  {
   "cell_type": "code",
   "execution_count": 65,
   "metadata": {},
   "outputs": [
    {
     "name": "stdout",
     "output_type": "stream",
     "text": [
      "Macroeconomics\n",
      "['inflation', 'budget', 'stabilization', 'charitable', 'debt']\n",
      "['mortgage', 'farm', 'communications', 'gasoline', 'small']\n",
      "\n",
      "Civil Rights\n",
      "['discrimination', 'privacy', 'abortion', 'abortions', 'subversive']\n",
      "['countries', 'international', 'children', 'registering', 'revenue']\n",
      "\n",
      "Health\n",
      "['medicare', 'optometry', 'alcoholism', 'nursing', 'supplements']\n",
      "['designate', 'unemployed', 'native', 'indians', 'indian']\n",
      "\n",
      "Agriculture\n",
      "['fishery', 'wheat', 'sugar', 'crop', 'agricultural']\n",
      "['children', 'stamp', 'home', 'labor', 'workers']\n",
      "\n",
      "Labor\n",
      "['unemployed', 'labormanagement', 'unemployment', 'labor', 'occupational']\n",
      "['columbia', 'discrimination', 'railway', 'veterans', 'civil']\n",
      "\n",
      "Education\n",
      "['library', 'learning', 'arts', 'education', 'tuition']\n",
      "['lunch', 'medical', 'health', 'columbia', 'indian']\n",
      "\n",
      "Environment\n",
      "['wetlands', 'erosion', 'environmental', 'clean', 'pollution']\n",
      "['aviation', 'merchant', 'fishery', 'flood', 'energy']\n",
      "\n",
      "Energy\n",
      "['petroleum', 'electrification', 'gas', 'hydroelectric', 'energy']\n",
      "['greenhouse', 'spent', 'food', 'palm', 'air']\n",
      "\n",
      "Immigration\n",
      "['immigrants', 'alien', 'aliens', 'naturalization', 'immigration']\n",
      "['agricultural', 'tax', 'areas', 'medical', 'service']\n",
      "\n",
      "Transportation\n",
      "['airport', 'highways', 'highway', 'merchant', 'aviation']\n",
      "['veterans', 'retirement', 'flood', 'clean', 'space']\n",
      "\n",
      "Law and Crime\n",
      "['prison', 'ammunition', 'handguns', 'gun', 'firearms']\n",
      "['immigration', 'military', 'veterans', 'indian', 'columbia']\n",
      "\n",
      "Social Welfare\n",
      "['social', 'poverty', 'stamp', 'handicapped', 'lunch']\n",
      "['xviii', 'medicare', 'actuarial', 'longterm', 'railroad']\n",
      "\n",
      "Housing\n",
      "['rent', 'homeownership', 'appalachian', 'homeless', 'housing']\n",
      "['disaster', 'fair', 'native', 'indian', 'instrumentalities']\n",
      "\n",
      "Domestic Commerce\n",
      "['patents', 'patent', 'bankruptcy', 'antitrust', 'copyright']\n",
      "['energy', 'judges', 'agricultural', 'farm', 'crop']\n",
      "\n",
      "Defense\n",
      "['defense', 'intelligence', 'disarmament', 'cemeteries', 'cemetery']\n",
      "['naturalization', 'optometry', 'education', 'coast', 'educational']\n",
      "\n",
      "Technology\n",
      "['television', 'weather', 'space', 'telecommunications', 'communications']\n",
      "['geothermal', 'health', 'campaign', 'energy', 'mathematics']\n",
      "\n",
      "Foreign Trade\n",
      "['duty', 'exportimport', 'dutyfree', 'tariff', 'antidumping']\n",
      "['shrimp', 'meat', 'substances', 'honey', 'agricultural']\n",
      "\n",
      "International Affairs\n",
      "['israel', 'cuba', 'peace', 'passport', 'panama']\n",
      "['garden', 'arms', 'trade', 'importation', 'disarmament']\n",
      "\n",
      "Government Operations\n",
      "['postage', 'census', 'lobbying', 'postal', 'columbia']\n",
      "['defense', 'basin', 'rescinded', 'uniformed', 'railroad']\n",
      "\n",
      "Public Lands\n",
      "['monument', 'historic', 'native', 'indians', 'indian']\n",
      "['highway', 'pollution', 'hydroelectric', 'navigation', 'insurance']\n",
      "\n",
      "Culture\n",
      "['employers', 'performing', 'give', 'given', 'performers']\n",
      "['repeal', 'clarify', 'protect', 'provide', 'require']\n",
      "\n"
     ]
    }
   ],
   "source": [
    "for key, value in importance.items():\n",
    "    print(key)\n",
    "    print([el_word[1] for el_word in value['top']])\n",
    "    print([el_word[1] for el_word in value['bottom']])\n",
    "    print('')"
   ]
  },
  {
   "cell_type": "markdown",
   "metadata": {},
   "source": [
    "## 3.2 TF-IDF Bag of Words"
   ]
  },
  {
   "cell_type": "code",
   "execution_count": 85,
   "metadata": {},
   "outputs": [],
   "source": [
    "def tfidf(data):\n",
    "    tfidf_vectorizer = TfidfVectorizer()\n",
    "\n",
    "    embedding = tfidf_vectorizer.fit_transform(data)\n",
    "\n",
    "    return embedding, tfidf_vectorizer\n",
    "\n",
    "X_train_counts_tfidf, tfidf_vectorizer = tfidf(X_train)\n",
    "X_test_counts_tfidf = tfidf_vectorizer.transform(X_test)"
   ]
  },
  {
   "cell_type": "code",
   "execution_count": 86,
   "metadata": {},
   "outputs": [
    {
     "name": "stderr",
     "output_type": "stream",
     "text": [
      "C:\\Anaconda3\\lib\\site-packages\\sklearn\\linear_model\\stochastic_gradient.py:166: FutureWarning: max_iter and tol parameters have been added in SGDClassifier in 0.19. If both are left unset, they default to max_iter=5 and tol=None. If tol is not None, max_iter defaults to max_iter=1000. From 0.21, default max_iter will be 1000, and default tol will be 1e-3.\n",
      "  FutureWarning)\n"
     ]
    },
    {
     "data": {
      "text/plain": [
       "SGDClassifier(alpha=0.0001, average=False, class_weight=None,\n",
       "       early_stopping=False, epsilon=0.1, eta0=0.0, fit_intercept=True,\n",
       "       l1_ratio=0.15, learning_rate='optimal', loss='hinge', max_iter=None,\n",
       "       n_iter=None, n_iter_no_change=5, n_jobs=-1, penalty='l2',\n",
       "       power_t=0.5, random_state=42, shuffle=True, tol=None,\n",
       "       validation_fraction=0.1, verbose=0, warm_start=False)"
      ]
     },
     "execution_count": 86,
     "metadata": {},
     "output_type": "execute_result"
    }
   ],
   "source": [
    "sgd_clf_tfidf = SGDClassifier(random_state=42, n_jobs=-1)\n",
    "sgd_clf_tfidf.fit(X_train_counts_tfidf, y_train)"
   ]
  },
  {
   "cell_type": "code",
   "execution_count": 87,
   "metadata": {},
   "outputs": [
    {
     "data": {
      "text/plain": [
       "0.8138273660116269"
      ]
     },
     "execution_count": 87,
     "metadata": {},
     "output_type": "execute_result"
    }
   ],
   "source": [
    "y_test_predicted_tfidf = sgd_clf_tfidf.predict(X_test_counts_tfidf)\n",
    "accuracy_score(y_test_predicted_tfidf, y_test)"
   ]
  },
  {
   "cell_type": "markdown",
   "metadata": {},
   "source": [
    "slightly worse!"
   ]
  },
  {
   "cell_type": "markdown",
   "metadata": {},
   "source": [
    "compute accuracy for each major topic:"
   ]
  },
  {
   "cell_type": "code",
   "execution_count": 88,
   "metadata": {},
   "outputs": [
    {
     "data": {
      "text/plain": [
       "array([0.68761062, 0.57747318, 0.86762043, 0.83302122, 0.78020566,\n",
       "       0.85274725, 0.76031508, 0.85215054, 0.86315789, 0.84133271,\n",
       "       0.78995541, 0.81897523, 0.72682392, 0.73997028, 0.86126476,\n",
       "       0.76392962, 0.90172543, 0.59207589, 0.81676433, 0.90131663,\n",
       "       0.        ])"
      ]
     },
     "execution_count": 88,
     "metadata": {},
     "output_type": "execute_result"
    }
   ],
   "source": [
    "cm_tfidf = confusion_matrix(y_test, y_test_predicted_tfidf)\n",
    "accuracy_topic_tfidf = np.diag(cm_tfidf / cm_tfidf.sum(axis=1, keepdims=True))"
   ]
  },
  {
   "cell_type": "markdown",
   "metadata": {},
   "source": [
    "compare tf-idf accuracy to baseline:"
   ]
  },
  {
   "cell_type": "code",
   "execution_count": 90,
   "metadata": {},
   "outputs": [
    {
     "name": "stdout",
     "output_type": "stream",
     "text": [
      "topic (bag of words accuracy, bag of words tf-idf accuracy)\n",
      "\n",
      "Macroeconomics (0.7392330383480826, 0.6876106194690266)\n",
      "Civil Rights (0.7085816448152562, 0.5774731823599524)\n",
      "Health (0.8915248098515031, 0.8676204273813836)\n",
      "Agriculture (0.8592384519350812, 0.8330212234706617)\n",
      "Labor (0.7930591259640103, 0.7802056555269923)\n",
      "Education (0.8653061224489796, 0.8527472527472527)\n",
      "Environment (0.794073518379595, 0.7603150787696924)\n",
      "Energy (0.8690476190476191, 0.8521505376344086)\n",
      "Immigration (0.8850877192982456, 0.8631578947368421)\n",
      "Transportation (0.8597390493942219, 0.8413327120223671)\n",
      "Law and Crime (0.8021591175780334, 0.7899554095282797)\n",
      "Social Welfare (0.8246058558558559, 0.8189752252252253)\n",
      "Housing (0.7564454196379594, 0.7268239166209545)\n",
      "Domestic Commerce (0.7826363829335597, 0.7399702823179792)\n",
      "Defense (0.8597697712662581, 0.8612647630438033)\n",
      "Technology (0.7910557184750733, 0.7639296187683284)\n",
      "Foreign Trade (0.9072268067016754, 0.9017254313578394)\n",
      "International Affairs (0.7165178571428571, 0.5920758928571429)\n",
      "Government Operations (0.8437779322673552, 0.816764326149568)\n",
      "Public Lands (0.9019557714431804, 0.9013166304486769)\n",
      "Culture (0.5333333333333333, 0.0)\n"
     ]
    }
   ],
   "source": [
    "print('topic (bag of words accuracy, bag of words tf-idf accuracy)\\n')\n",
    "\n",
    "for i, item in enumerate(zip(accuracy_topic, accuracy_topic_tfidf)):\n",
    "    print(dict_number_topic[sgd_clf.classes_[i]], item)"
   ]
  },
  {
   "cell_type": "markdown",
   "metadata": {},
   "source": [
    "compare most importance words to baseline:"
   ]
  },
  {
   "cell_type": "code",
   "execution_count": 91,
   "metadata": {},
   "outputs": [
    {
     "name": "stdout",
     "output_type": "stream",
     "text": [
      "Macroeconomics\n",
      "['inflation', 'budget', 'stabilization', 'charitable', 'debt']\n",
      "['inflation', 'charitable', 'estate', 'debt', 'budget']\n",
      "\n",
      "Civil Rights\n",
      "['discrimination', 'privacy', 'abortion', 'abortions', 'subversive']\n",
      "['rights', 'voting', 'desecration', 'privacy', 'discrimination']\n",
      "\n",
      "Health\n",
      "['medicare', 'optometry', 'alcoholism', 'nursing', 'supplements']\n",
      "['hospital', 'xviii', 'medical', 'medicare', 'health']\n",
      "\n",
      "Agriculture\n",
      "['fishery', 'wheat', 'sugar', 'crop', 'agricultural']\n",
      "['meat', 'sugar', 'crop', 'farm', 'agricultural']\n",
      "\n",
      "Labor\n",
      "['unemployed', 'labormanagement', 'unemployment', 'labor', 'occupational']\n",
      "['mine', 'pension', 'occupational', 'unemployment', 'labor']\n",
      "\n",
      "Education\n",
      "['library', 'learning', 'arts', 'education', 'tuition']\n",
      "['higher', 'student', 'arts', 'educational', 'education']\n",
      "\n",
      "Environment\n",
      "['wetlands', 'erosion', 'environmental', 'clean', 'pollution']\n",
      "['wildlife', 'waste', 'clean', 'environmental', 'pollution']\n",
      "\n",
      "Energy\n",
      "['petroleum', 'electrification', 'gas', 'hydroelectric', 'energy']\n",
      "['electric', 'oil', 'petroleum', 'gas', 'energy']\n",
      "\n",
      "Immigration\n",
      "['immigrants', 'alien', 'aliens', 'naturalization', 'immigration']\n",
      "['naturalization', 'alien', 'nationality', 'aliens', 'immigration']\n",
      "\n",
      "Transportation\n",
      "['airport', 'highways', 'highway', 'merchant', 'aviation']\n",
      "['rail', 'vessels', 'transportation', 'aviation', 'highway']\n",
      "\n",
      "Law and Crime\n",
      "['prison', 'ammunition', 'handguns', 'gun', 'firearms']\n",
      "['courts', '28', '18', 'crime', 'firearms']\n",
      "\n",
      "Social Welfare\n",
      "['social', 'poverty', 'stamp', 'handicapped', 'lunch']\n",
      "['stamp', 'lunch', 'older', 'ii', 'social']\n",
      "\n",
      "Housing\n",
      "['rent', 'homeownership', 'appalachian', 'homeless', 'housing']\n",
      "['urban', 'homeless', 'rent', 'appalachian', 'housing']\n",
      "\n",
      "Domestic Commerce\n",
      "['patents', 'patent', 'bankruptcy', 'antitrust', 'copyright']\n",
      "['bankruptcy', 'consumer', 'securities', 'small', 'antitrust']\n",
      "\n",
      "Defense\n",
      "['defense', 'intelligence', 'disarmament', 'cemeteries', 'cemetery']\n",
      "['navy', 'cemetery', 'defense', 'veterans', 'military']\n",
      "\n",
      "Technology\n",
      "['television', 'weather', 'space', 'telecommunications', 'communications']\n",
      "['television', 'space', '1934', 'telecommunications', 'communications']\n",
      "\n",
      "Foreign Trade\n",
      "['duty', 'exportimport', 'dutyfree', 'tariff', 'antidumping']\n",
      "['export', 'suspend', 'trade', 'tariff', 'duty']\n",
      "\n",
      "International Affairs\n",
      "['israel', 'cuba', 'peace', 'passport', 'panama']\n",
      "['1961', 'passport', 'nations', 'peace', 'panama']\n",
      "\n",
      "Government Operations\n",
      "['postage', 'census', 'lobbying', 'postal', 'columbia']\n",
      "['congress', 'employees', 'building', 'postal', 'columbia']\n",
      "\n",
      "Public Lands\n",
      "['monument', 'historic', 'native', 'indians', 'indian']\n",
      "['historic', 'park', 'indians', 'lands', 'indian']\n",
      "\n",
      "Culture\n",
      "['employers', 'performing', 'give', 'given', 'performers']\n",
      "['performing', 'employers', 'give', 'given', 'performers']\n",
      "\n"
     ]
    }
   ],
   "source": [
    "importance_tfidf = get_most_important_features(tfidf_vectorizer, sgd_clf_tfidf, 5)\n",
    "\n",
    "for k, v1, v2 in zip(importance.keys(), importance.values(), importance_tfidf.values()):\n",
    "    print(k)\n",
    "    print([el_word[1] for el_word in v1['top']])\n",
    "    print([el_word[1] for el_word in v2['top']])\n",
    "    print('')"
   ]
  },
  {
   "cell_type": "markdown",
   "metadata": {},
   "source": [
    "understanding poorer performance of tf-idf...\n",
    "\n",
    "1. We already removed stop words, so there is less need for tf-idf\n",
    "\n",
    "2. Looking at international affairs, many bills might contain the words 'israel' or 'cuba', which indicate bills about international affairs. In which case, underweighting 'israel' / 'cuba' leads to poorer model performance."
   ]
  },
  {
   "cell_type": "markdown",
   "metadata": {},
   "source": [
    "## 3.3 word2vec with average of embeddings"
   ]
  },
  {
   "cell_type": "code",
   "execution_count": 223,
   "metadata": {},
   "outputs": [],
   "source": [
    "from path import Path"
   ]
  },
  {
   "cell_type": "code",
   "execution_count": 224,
   "metadata": {},
   "outputs": [],
   "source": [
    "with open('path_saved_word2vec.txt') as f:\n",
    "    path = Path(f.readline())\n",
    "    f.close"
   ]
  },
  {
   "cell_type": "code",
   "execution_count": 226,
   "metadata": {},
   "outputs": [],
   "source": [
    "import gensim\n",
    "\n",
    "word2vec_path = path / \"GoogleNews-vectors-negative300.bin.gz\"\n",
    "# word2vec = gensim.models.KeyedVectors.load_word2vec_format(word2vec_path, binary=True)"
   ]
  },
  {
   "cell_type": "code",
   "execution_count": 116,
   "metadata": {},
   "outputs": [],
   "source": [
    "def get_average_word2vec(tokens_list, vector, generate_missing=False, k=300):\n",
    "    if len(tokens_list)<1:\n",
    "        return np.zeros(k)\n",
    "    if generate_missing:\n",
    "        vectorized = [vector[word] if word in vector else np.random.rand(k) for word in tokens_list]\n",
    "    else:\n",
    "        vectorized = [vector[word] if word in vector else np.zeros(k) for word in tokens_list]\n",
    "    length = len(vectorized)\n",
    "    summed = np.sum(vectorized, axis=0)\n",
    "    averaged = np.divide(summed, length)\n",
    "    return averaged\n",
    "\n",
    "def get_word2vec_embeddings(vectors, bills, generate_missing=False):\n",
    "    embeddings = bills['tokens'].apply(lambda x: get_average_word2vec(x,\n",
    "                                                                      vectors, \n",
    "                                                                      generate_missing=generate_missing\n",
    "                                                                     )\n",
    "                                      )\n",
    "    return list(embeddings)"
   ]
  },
  {
   "cell_type": "code",
   "execution_count": 117,
   "metadata": {},
   "outputs": [],
   "source": [
    "embeddings = get_word2vec_embeddings(word2vec, bills)\n",
    "X_train_w2v, X_test_w2v, y_train_w2v, y_test_w2v = train_test_split(embeddings, list_labels, \n",
    "                                                                    test_size=0.2, random_state=42)"
   ]
  },
  {
   "cell_type": "code",
   "execution_count": 118,
   "metadata": {},
   "outputs": [
    {
     "name": "stderr",
     "output_type": "stream",
     "text": [
      "C:\\Anaconda3\\lib\\site-packages\\sklearn\\linear_model\\stochastic_gradient.py:166: FutureWarning: max_iter and tol parameters have been added in SGDClassifier in 0.19. If both are left unset, they default to max_iter=5 and tol=None. If tol is not None, max_iter defaults to max_iter=1000. From 0.21, default max_iter will be 1000, and default tol will be 1e-3.\n",
      "  FutureWarning)\n"
     ]
    },
    {
     "data": {
      "text/plain": [
       "SGDClassifier(alpha=0.0001, average=False, class_weight=None,\n",
       "       early_stopping=False, epsilon=0.1, eta0=0.0, fit_intercept=True,\n",
       "       l1_ratio=0.15, learning_rate='optimal', loss='hinge', max_iter=None,\n",
       "       n_iter=None, n_iter_no_change=5, n_jobs=-1, penalty='l2',\n",
       "       power_t=0.5, random_state=42, shuffle=True, tol=None,\n",
       "       validation_fraction=0.1, verbose=0, warm_start=False)"
      ]
     },
     "execution_count": 118,
     "metadata": {},
     "output_type": "execute_result"
    }
   ],
   "source": [
    "sgd_clf_w2v = SGDClassifier(random_state=42, n_jobs=-1)\n",
    "sgd_clf_w2v.fit(X_train_w2v, y_train)"
   ]
  },
  {
   "cell_type": "code",
   "execution_count": 119,
   "metadata": {},
   "outputs": [
    {
     "data": {
      "text/plain": [
       "0.7498016672952621"
      ]
     },
     "execution_count": 119,
     "metadata": {},
     "output_type": "execute_result"
    }
   ],
   "source": [
    "y_test_predicted_w2v = sgd_clf_w2v.predict(X_test_w2v)\n",
    "accuracy_score(y_test_predicted_w2v, y_test)"
   ]
  },
  {
   "cell_type": "markdown",
   "metadata": {},
   "source": [
    "compute accuracy for each major topic:"
   ]
  },
  {
   "cell_type": "code",
   "execution_count": 120,
   "metadata": {},
   "outputs": [],
   "source": [
    "cm_w2v = confusion_matrix(y_test, y_test_predicted_w2v)\n",
    "accuracy_topic_w2v = np.diag(cm_w2v / cm_w2v.sum(axis=1, keepdims=True))"
   ]
  },
  {
   "cell_type": "markdown",
   "metadata": {},
   "source": [
    "compare tf-idf accuracy to baseline:"
   ]
  },
  {
   "cell_type": "code",
   "execution_count": 121,
   "metadata": {},
   "outputs": [
    {
     "name": "stdout",
     "output_type": "stream",
     "text": [
      "topic (bag of words accuracy, bag of words tf-idf accuracy)\n",
      "\n",
      "Macroeconomics (0.7392330383480826, 0.5926253687315635)\n",
      "Civil Rights (0.7085816448152562, 0.46781883194278906)\n",
      "Health (0.8915248098515031, 0.8658094893154654)\n",
      "Agriculture (0.8592384519350812, 0.8167915106117354)\n",
      "Labor (0.7930591259640103, 0.6860539845758354)\n",
      "Education (0.8653061224489796, 0.796232339089482)\n",
      "Environment (0.794073518379595, 0.6676669167291823)\n",
      "Energy (0.8690476190476191, 0.8287250384024577)\n",
      "Immigration (0.8850877192982456, 0.85)\n",
      "Transportation (0.8597390493942219, 0.7958993476234856)\n",
      "Law and Crime (0.8021591175780334, 0.7176719080028162)\n",
      "Social Welfare (0.8246058558558559, 0.7173423423423423)\n",
      "Housing (0.7564454196379594, 0.6604498080087767)\n",
      "Domestic Commerce (0.7826363829335597, 0.6639779240076417)\n",
      "Defense (0.8597697712662581, 0.7712662580355808)\n",
      "Technology (0.7910557184750733, 0.7016129032258065)\n",
      "Foreign Trade (0.9072268067016754, 0.8617154288572143)\n",
      "International Affairs (0.7165178571428571, 0.49330357142857145)\n",
      "Government Operations (0.8437779322673552, 0.7354255636110836)\n",
      "Public Lands (0.9019557714431804, 0.8536367122587243)\n",
      "Culture (0.5333333333333333, 0.0)\n"
     ]
    }
   ],
   "source": [
    "print('topic (bag of words accuracy, bag of words tf-idf accuracy)\\n')\n",
    "\n",
    "for i, item in enumerate(zip(accuracy_topic, accuracy_topic_w2v)):\n",
    "    print(dict_number_topic[sgd_clf.classes_[i]], item)"
   ]
  },
  {
   "cell_type": "markdown",
   "metadata": {},
   "source": [
    "## 3.4 CNN - first steps\n",
    "\n",
    "(https://blog.keras.io/using-pre-trained-word-embeddings-in-a-keras-model.html)"
   ]
  },
  {
   "cell_type": "code",
   "execution_count": 149,
   "metadata": {},
   "outputs": [],
   "source": [
    "from keras.preprocessing.text import Tokenizer\n",
    "from keras.preprocessing.sequence import pad_sequences\n",
    "from keras.utils import to_categorical"
   ]
  },
  {
   "cell_type": "code",
   "execution_count": 150,
   "metadata": {},
   "outputs": [
    {
     "name": "stdout",
     "output_type": "stream",
     "text": [
      "5689187 words total, with a vocabulary size of 50110\n",
      "Max sentence length is 263\n"
     ]
    }
   ],
   "source": [
    "all_words_complete = [word for tokens in bills[\"tokens_complete\"] for word in tokens]\n",
    "VOCAB_COMPLETE = sorted(list(set(all_words_complete)))\n",
    "sentence_lengths = [len(tokens) for tokens in bills[\"tokens_complete\"]]\n",
    "print(\"%s words total, with a vocabulary size of %s\" % (len(all_words), len(VOCAB_COMPLETE)))\n",
    "print(\"Max sentence length is %s\" % max(sentence_lengths))"
   ]
  },
  {
   "cell_type": "code",
   "execution_count": 151,
   "metadata": {},
   "outputs": [],
   "source": [
    "EMBEDDING_DIM = 300\n",
    "MAX_SEQUENCE_LENGTH = 264\n",
    "VOCAB_SIZE = len(VOCAB_COMPLETE)\n",
    "\n",
    "VALIDATION_SPLIT=.2\n",
    "tokenizer = Tokenizer(num_words=VOCAB_SIZE)\n",
    "tokenizer.fit_on_texts(bills[\"description\"].tolist())\n",
    "sequences = tokenizer.texts_to_sequences(bills[\"description\"].tolist())"
   ]
  },
  {
   "cell_type": "code",
   "execution_count": 152,
   "metadata": {},
   "outputs": [
    {
     "name": "stdout",
     "output_type": "stream",
     "text": [
      "Found 49625 unique tokens.\n"
     ]
    }
   ],
   "source": [
    "word_index = tokenizer.word_index\n",
    "print('Found %s unique tokens.' % len(word_index))"
   ]
  },
  {
   "cell_type": "code",
   "execution_count": 153,
   "metadata": {},
   "outputs": [
    {
     "name": "stdout",
     "output_type": "stream",
     "text": [
      "Shape of data tensor: (384454, 264)\n",
      "Shape of label tensor: (384454, 24)\n"
     ]
    }
   ],
   "source": [
    "cnn_data = pad_sequences(sequences, maxlen=MAX_SEQUENCE_LENGTH)\n",
    "labels = to_categorical(np.asarray(bills[\"majortopic\"]))\n",
    "print('Shape of data tensor:', cnn_data.shape)\n",
    "print('Shape of label tensor:', labels.shape)"
   ]
  },
  {
   "cell_type": "code",
   "execution_count": 208,
   "metadata": {},
   "outputs": [
    {
     "data": {
      "text/plain": [
       "24"
      ]
     },
     "execution_count": 208,
     "metadata": {},
     "output_type": "execute_result"
    }
   ],
   "source": [
    "labels_index = labels.shape[1]\n",
    "labels_index"
   ]
  },
  {
   "cell_type": "code",
   "execution_count": 209,
   "metadata": {},
   "outputs": [
    {
     "name": "stdout",
     "output_type": "stream",
     "text": [
      "(49626, 300)\n"
     ]
    }
   ],
   "source": [
    "indices = np.arange(cnn_data.shape[0])\n",
    "np.random.shuffle(indices)\n",
    "cnn_data = cnn_data[indices]\n",
    "labels = labels[indices]\n",
    "num_validation_samples = int(VALIDATION_SPLIT * cnn_data.shape[0])\n",
    "\n",
    "# rows of embedding_weights are vector embedding for each of the words in word_index\n",
    "embedding_weights = np.zeros((len(word_index)+1, EMBEDDING_DIM))\n",
    "for word,index in word_index.items():\n",
    "    embedding_weights[index,:] = word2vec[word] if word in word2vec else np.random.rand(EMBEDDING_DIM)\n",
    "print(embedding_weights.shape)"
   ]
  },
  {
   "cell_type": "code",
   "execution_count": 210,
   "metadata": {},
   "outputs": [],
   "source": [
    "from keras.layers import Dense, Input, Flatten, Dropout, Concatenate\n",
    "from keras.layers import Conv1D, MaxPooling1D, Embedding\n",
    "from keras.layers import LSTM, Bidirectional\n",
    "from keras.models import Model"
   ]
  },
  {
   "cell_type": "code",
   "execution_count": 211,
   "metadata": {},
   "outputs": [],
   "source": [
    "embedding_layer = Embedding(len(word_index) + 1,\n",
    "                            EMBEDDING_DIM,\n",
    "                            weights=[embedding_weights],\n",
    "                            input_length=MAX_SEQUENCE_LENGTH,\n",
    "                            trainable=False)"
   ]
  },
  {
   "cell_type": "code",
   "execution_count": 214,
   "metadata": {},
   "outputs": [
    {
     "name": "stdout",
     "output_type": "stream",
     "text": [
      "Tensor(\"input_19:0\", shape=(?, 264), dtype=int32)\n"
     ]
    }
   ],
   "source": [
    "sequence_input = Input(shape=(MAX_SEQUENCE_LENGTH,), dtype='int32')\n",
    "print(sequence_input)"
   ]
  },
  {
   "cell_type": "code",
   "execution_count": 215,
   "metadata": {},
   "outputs": [],
   "source": [
    "embedded_sequences = embedding_layer(sequence_input)\n",
    "x = Conv1D(128, 5, activation='relu')(embedded_sequences)\n",
    "x = MaxPooling1D(5)(x)\n",
    "x = Conv1D(128, 5, activation='relu')(x)\n",
    "x = MaxPooling1D(5)(x)\n",
    "x = Conv1D(128, 5, activation='relu')(x)\n",
    "x = MaxPooling1D(5)(x)  # global max pooling\n",
    "x = Flatten()(x)\n",
    "x = Dense(128, activation='relu')(x)\n",
    "preds = Dense(labels_index, activation='softmax')(x)"
   ]
  },
  {
   "cell_type": "code",
   "execution_count": 216,
   "metadata": {},
   "outputs": [],
   "source": [
    "model = Model(sequence_input, preds)\n",
    "model.compile(loss='categorical_crossentropy',\n",
    "              optimizer='adam',\n",
    "              metrics=['acc'])"
   ]
  },
  {
   "cell_type": "code",
   "execution_count": 217,
   "metadata": {},
   "outputs": [],
   "source": [
    "x_train = cnn_data[:-num_validation_samples]\n",
    "y_train = labels[:-num_validation_samples]\n",
    "x_val = cnn_data[-num_validation_samples:]\n",
    "y_val = labels[-num_validation_samples:]"
   ]
  },
  {
   "cell_type": "code",
   "execution_count": 219,
   "metadata": {},
   "outputs": [
    {
     "name": "stdout",
     "output_type": "stream",
     "text": [
      "WARNING:tensorflow:From C:\\Anaconda3\\lib\\site-packages\\tensorflow\\python\\ops\\math_ops.py:3066: to_int32 (from tensorflow.python.ops.math_ops) is deprecated and will be removed in a future version.\n",
      "Instructions for updating:\n",
      "Use tf.cast instead.\n",
      "Train on 307564 samples, validate on 76890 samples\n",
      "Epoch 1/3\n",
      "307564/307564 [==============================] - 691s 2ms/step - loss: 2.1305 - acc: 0.3769 - val_loss: 1.8560 - val_acc: 0.4679\n",
      "Epoch 2/3\n",
      "307564/307564 [==============================] - 683s 2ms/step - loss: 1.7518 - acc: 0.4961 - val_loss: 1.7305 - val_acc: 0.5033\n",
      "Epoch 3/3\n",
      "307564/307564 [==============================] - 686s 2ms/step - loss: 1.6327 - acc: 0.5285 - val_loss: 1.6816 - val_acc: 0.5163\n"
     ]
    },
    {
     "data": {
      "text/plain": [
       "<keras.callbacks.History at 0x2595ad74710>"
      ]
     },
     "execution_count": 219,
     "metadata": {},
     "output_type": "execute_result"
    }
   ],
   "source": [
    "model.fit(x_train, y_train, validation_data=(x_val, y_val), epochs=3, batch_size=128)"
   ]
  },
  {
   "cell_type": "markdown",
   "metadata": {},
   "source": [
    "converging rather slowly, presumably because of all the padding for max sentence length of 263"
   ]
  },
  {
   "cell_type": "code",
   "execution_count": null,
   "metadata": {},
   "outputs": [],
   "source": []
  }
 ],
 "metadata": {
  "kernelspec": {
   "display_name": "Python 3",
   "language": "python",
   "name": "python3"
  },
  "language_info": {
   "codemirror_mode": {
    "name": "ipython",
    "version": 3
   },
   "file_extension": ".py",
   "mimetype": "text/x-python",
   "name": "python",
   "nbconvert_exporter": "python",
   "pygments_lexer": "ipython3",
   "version": "3.7.1"
  }
 },
 "nbformat": 4,
 "nbformat_minor": 2
}
