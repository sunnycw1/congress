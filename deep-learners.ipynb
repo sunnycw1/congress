{
 "cells": [
  {
   "cell_type": "markdown",
   "metadata": {
    "toc": true
   },
   "source": [
    "<h1>Table of Contents<span class=\"tocSkip\"></span></h1>\n",
    "<div class=\"toc\"><ul class=\"toc-item\"><li><span><a href=\"#Preparation\" data-toc-modified-id=\"Preparation-1\"><span class=\"toc-item-num\">1&nbsp;&nbsp;</span>Preparation</a></span><ul class=\"toc-item\"><li><span><a href=\"#train-val-test\" data-toc-modified-id=\"train-val-test-1.1\"><span class=\"toc-item-num\">1.1&nbsp;&nbsp;</span>train-val-test</a></span></li><li><span><a href=\"#word-embedding\" data-toc-modified-id=\"word-embedding-1.2\"><span class=\"toc-item-num\">1.2&nbsp;&nbsp;</span>word embedding</a></span></li><li><span><a href=\"#tokenizer\" data-toc-modified-id=\"tokenizer-1.3\"><span class=\"toc-item-num\">1.3&nbsp;&nbsp;</span>tokenizer</a></span></li><li><span><a href=\"#Max-Sequence-Length\" data-toc-modified-id=\"Max-Sequence-Length-1.4\"><span class=\"toc-item-num\">1.4&nbsp;&nbsp;</span>Max Sequence Length</a></span></li></ul></li><li><span><a href=\"#Flattened-word-embeddings-plus-dense-layers\" data-toc-modified-id=\"Flattened-word-embeddings-plus-dense-layers-2\"><span class=\"toc-item-num\">2&nbsp;&nbsp;</span>Flattened word embeddings plus dense layers</a></span></li><li><span><a href=\"#CNNs\" data-toc-modified-id=\"CNNs-3\"><span class=\"toc-item-num\">3&nbsp;&nbsp;</span>CNNs</a></span><ul class=\"toc-item\"><li><span><a href=\"#global-max-pooling\" data-toc-modified-id=\"global-max-pooling-3.1\"><span class=\"toc-item-num\">3.1&nbsp;&nbsp;</span>global max pooling</a></span></li><li><span><a href=\"#multi-layer-CNN-with-max-pooling\" data-toc-modified-id=\"multi-layer-CNN-with-max-pooling-3.2\"><span class=\"toc-item-num\">3.2&nbsp;&nbsp;</span>multi-layer CNN with max pooling</a></span></li><li><span><a href=\"#k-max-pooling\" data-toc-modified-id=\"k-max-pooling-3.3\"><span class=\"toc-item-num\">3.3&nbsp;&nbsp;</span>k-max pooling</a></span></li><li><span><a href=\"#CNN-summary\" data-toc-modified-id=\"CNN-summary-3.4\"><span class=\"toc-item-num\">3.4&nbsp;&nbsp;</span>CNN summary</a></span></li></ul></li><li><span><a href=\"#RNN---bidirectional-LSTM\" data-toc-modified-id=\"RNN---bidirectional-LSTM-4\"><span class=\"toc-item-num\">4&nbsp;&nbsp;</span>RNN - bidirectional LSTM</a></span></li><li><span><a href=\"#Bert\" data-toc-modified-id=\"Bert-5\"><span class=\"toc-item-num\">5&nbsp;&nbsp;</span>Bert</a></span><ul class=\"toc-item\"><li><span><a href=\"#tokenizer\" data-toc-modified-id=\"tokenizer-5.1\"><span class=\"toc-item-num\">5.1&nbsp;&nbsp;</span>tokenizer</a></span></li><li><span><a href=\"#feature-based-approach\" data-toc-modified-id=\"feature-based-approach-5.2\"><span class=\"toc-item-num\">5.2&nbsp;&nbsp;</span>feature-based approach</a></span></li><li><span><a href=\"#fine-tuning-approach\" data-toc-modified-id=\"fine-tuning-approach-5.3\"><span class=\"toc-item-num\">5.3&nbsp;&nbsp;</span>fine tuning approach</a></span></li></ul></li></ul></div>"
   ]
  },
  {
   "cell_type": "code",
   "execution_count": 9,
   "metadata": {},
   "outputs": [],
   "source": [
    "from path import Path\n",
    "\n",
    "import numpy as np\n",
    "import pandas as pd\n",
    "\n",
    "import matplotlib.pyplot as plt\n",
    "%matplotlib inline\n",
    "\n",
    "pd.options.display.max_columns = None\n",
    "pd.set_option('display.max_colwidth', -1)"
   ]
  },
  {
   "cell_type": "code",
   "execution_count": 2,
   "metadata": {},
   "outputs": [],
   "source": [
    "from sklearn.model_selection import train_test_split\n",
    "from sklearn.model_selection import StratifiedShuffleSplit\n",
    "from sklearn.metrics import f1_score"
   ]
  },
  {
   "cell_type": "code",
   "execution_count": 55,
   "metadata": {},
   "outputs": [],
   "source": [
    "from keras.preprocessing.text import Tokenizer\n",
    "from keras.preprocessing.sequence import pad_sequences\n",
    "from keras.utils import to_categorical\n",
    "from keras.models import Sequential, Model\n",
    "from keras.layers import Dense, Input, Flatten, Embedding, Lambda\n",
    "from keras.layers import ZeroPadding1D, MaxPooling1D\n",
    "from keras.layers import GlobalAveragePooling1D, GlobalMaxPooling1D\n",
    "from keras.layers import Conv1D\n",
    "from keras.layers import Dropout, Activation\n",
    "from keras.layers import Add\n",
    "from keras.layers.merge import Concatenate\n",
    "from keras.optimizers import Adam"
   ]
  },
  {
   "cell_type": "code",
   "execution_count": 108,
   "metadata": {},
   "outputs": [],
   "source": [
    "# helper function to plot learning curves\n",
    "def plot_learning_curve(history):\n",
    "    f, (ax1, ax2) = plt.subplots(1, 2, figsize=(12, 4))\n",
    "    f.subplots_adjust(top=0.85, wspace=0.3)\n",
    "\n",
    "    epochs = len(history.epoch)\n",
    "    epoch_list = list(range(1,epochs+1))\n",
    "    ax1.plot(epoch_list, history.history['acc'], label='Train Accuracy')\n",
    "    ax1.plot(epoch_list, history.history['val_acc'], label='Validation Accuracy')\n",
    "    ax1.set_xticks(np.arange(0, epochs+1, int(1 + epochs/10.)))\n",
    "    ax1.set_ylabel('Accuracy Value')\n",
    "    ax1.set_xlabel('Epoch')\n",
    "    ax1.set_title('Accuracy')\n",
    "    l1 = ax1.legend(loc=\"best\")\n",
    "\n",
    "    ax2.plot(epoch_list, history.history['loss'], label='Train Loss')\n",
    "    ax2.plot(epoch_list, history.history['val_loss'], label='Validation Loss')\n",
    "    ax2.set_xticks(np.arange(0, epochs+1, int(1 + epochs/10.)))\n",
    "    ax2.set_ylabel('Loss Value')\n",
    "    ax2.set_xlabel('Epoch')\n",
    "    ax2.set_title('Loss')\n",
    "    l2 = ax2.legend(loc=\"best\")"
   ]
  },
  {
   "cell_type": "markdown",
   "metadata": {},
   "source": [
    "# Preparation"
   ]
  },
  {
   "cell_type": "markdown",
   "metadata": {},
   "source": [
    "## train-val-test"
   ]
  },
  {
   "cell_type": "code",
   "execution_count": 4,
   "metadata": {},
   "outputs": [],
   "source": [
    "bills = pd.read_csv('US-Legislative-congressional_bills_18.1.csv', \n",
    "                    usecols=['description','majortopic'])\n",
    "bills.dropna(inplace=True)\n",
    "\n",
    "bills['majortopic'] = bills['majortopic'].astype(int)\n",
    "bills = bills[(bills['majortopic'] != 99) & (bills['majortopic']!=23)]"
   ]
  },
  {
   "cell_type": "markdown",
   "metadata": {},
   "source": [
    "relabel topics from 0:"
   ]
  },
  {
   "cell_type": "code",
   "execution_count": 5,
   "metadata": {},
   "outputs": [],
   "source": [
    "nconvert_keys = sorted(bills['majortopic'].unique())\n",
    "nconvert_values = range(len(nconvert_keys))\n",
    "dict_nconvert = dict(zip(nconvert_keys, nconvert_values))"
   ]
  },
  {
   "cell_type": "code",
   "execution_count": 6,
   "metadata": {},
   "outputs": [],
   "source": [
    "bills['topic0'] = bills['majortopic'].map(dict_nconvert)"
   ]
  },
  {
   "cell_type": "code",
   "execution_count": 7,
   "metadata": {},
   "outputs": [
    {
     "data": {
      "text/plain": [
       "20"
      ]
     },
     "execution_count": 7,
     "metadata": {},
     "output_type": "execute_result"
    }
   ],
   "source": [
    "dict_number_topic0 = {0: 'Macroeconomics',\n",
    "                      1: 'Civil Rights',\n",
    "                      2: 'Health',\n",
    "                      3: 'Agriculture',\n",
    "                      4: 'Labor',\n",
    "                      5: 'Education',\n",
    "                      6: 'Environment',\n",
    "                      7: 'Energy',\n",
    "                      8: 'Immigration',\n",
    "                      9: 'Transportation',\n",
    "                     10: 'Law and Crime',\n",
    "                     11: 'Social Welfare',\n",
    "                     12: 'Housing',\n",
    "                     13: 'Domestic Commerce',\n",
    "                     14: 'Defense',\n",
    "                     15: 'Technology',\n",
    "                     16: 'Foreign Trade',\n",
    "                     17: 'International Affairs',\n",
    "                     18: 'Government Operations',\n",
    "                     19: 'Public Lands'\n",
    "                    }\n",
    "\n",
    "len(dict_number_topic0)"
   ]
  },
  {
   "cell_type": "code",
   "execution_count": 10,
   "metadata": {},
   "outputs": [
    {
     "data": {
      "text/html": [
       "<div>\n",
       "<style scoped>\n",
       "    .dataframe tbody tr th:only-of-type {\n",
       "        vertical-align: middle;\n",
       "    }\n",
       "\n",
       "    .dataframe tbody tr th {\n",
       "        vertical-align: top;\n",
       "    }\n",
       "\n",
       "    .dataframe thead th {\n",
       "        text-align: right;\n",
       "    }\n",
       "</style>\n",
       "<table border=\"1\" class=\"dataframe\">\n",
       "  <thead>\n",
       "    <tr style=\"text-align: right;\">\n",
       "      <th></th>\n",
       "      <th>description</th>\n",
       "      <th>majortopic</th>\n",
       "      <th>topic0</th>\n",
       "    </tr>\n",
       "  </thead>\n",
       "  <tbody>\n",
       "    <tr>\n",
       "      <th>3</th>\n",
       "      <td>To increase the rates of certain educational and readjustment allowances payable to veterans in order to compensate for the higher cost of living in Alaska</td>\n",
       "      <td>6</td>\n",
       "      <td>5</td>\n",
       "    </tr>\n",
       "  </tbody>\n",
       "</table>\n",
       "</div>"
      ],
      "text/plain": [
       "                                                                                                                                                   description  \\\n",
       "3  To increase the rates of certain educational and readjustment allowances payable to veterans in order to compensate for the higher cost of living in Alaska   \n",
       "\n",
       "   majortopic  topic0  \n",
       "3  6           5       "
      ]
     },
     "execution_count": 10,
     "metadata": {},
     "output_type": "execute_result"
    }
   ],
   "source": [
    "bills.head(1)"
   ]
  },
  {
   "cell_type": "code",
   "execution_count": 12,
   "metadata": {},
   "outputs": [],
   "source": [
    "list_labels = bills[\"topic0\"]\n",
    "\n",
    "X_train_val, X_test, y_train_val, y_test = train_test_split(\n",
    "    bills.drop(columns='topic0'),\n",
    "    list_labels,\n",
    "    test_size=0.2,\n",
    "    stratify=list_labels,\n",
    "    random_state=42\n",
    ")"
   ]
  },
  {
   "cell_type": "markdown",
   "metadata": {},
   "source": [
    "To try out many architectures quickly, use a smaller dataset of 40,000 train samples and 40,000 validation samples:"
   ]
  },
  {
   "cell_type": "code",
   "execution_count": 13,
   "metadata": {},
   "outputs": [
    {
     "name": "stderr",
     "output_type": "stream",
     "text": [
      "C:\\Anaconda3\\envs\\congress\\lib\\site-packages\\sklearn\\model_selection\\_split.py:2179: FutureWarning: From version 0.21, test_size will always complement train_size unless both are specified.\n",
      "  FutureWarning)\n"
     ]
    },
    {
     "data": {
      "text/plain": [
       "(40000, 40000, 40000, 40000)"
      ]
     },
     "execution_count": 13,
     "metadata": {},
     "output_type": "execute_result"
    }
   ],
   "source": [
    "list_labels = bills[\"topic0\"]\n",
    "\n",
    "X_train_val_40, _, y_train_val_40, _ = train_test_split(\n",
    "    X_train_val,\n",
    "    y_train_val,\n",
    "    train_size=80000,\n",
    "    stratify=y_train_val,\n",
    "    random_state=42\n",
    ")\n",
    "\n",
    "X_train, X_val, y_train, y_val = train_test_split(\n",
    "    X_train_val_40,\n",
    "    y_train_val_40,\n",
    "    test_size=0.5,\n",
    "    stratify=y_train_val_40,\n",
    "    random_state=42\n",
    ")\n",
    "\n",
    "len(X_train), len(X_val), len(y_train), len(y_val)"
   ]
  },
  {
   "cell_type": "code",
   "execution_count": 14,
   "metadata": {},
   "outputs": [
    {
     "data": {
      "text/plain": [
       "(40000, 20)"
      ]
     },
     "execution_count": 14,
     "metadata": {},
     "output_type": "execute_result"
    }
   ],
   "source": [
    "y_train_cat = to_categorical(y_train)\n",
    "y_val_cat = to_categorical(y_val)\n",
    "y_train_cat.shape"
   ]
  },
  {
   "cell_type": "markdown",
   "metadata": {},
   "source": [
    "## word embedding"
   ]
  },
  {
   "cell_type": "markdown",
   "metadata": {},
   "source": [
    "GloVe embeddings were found to work better:"
   ]
  },
  {
   "cell_type": "code",
   "execution_count": 20,
   "metadata": {},
   "outputs": [
    {
     "name": "stdout",
     "output_type": "stream",
     "text": [
      "Found 400000 word vectors.\n"
     ]
    }
   ],
   "source": [
    "with open('config.txt') as f:\n",
    "    embedding_path = Path(f.readline())\n",
    "    f.close\n",
    "\n",
    "EMBEDDING_DIM = 300\n",
    "glove_file = 'glove.6B.' + str(EMBEDDING_DIM) + 'd.txt'\n",
    "\n",
    "if 'glove' not in locals():\n",
    "    glove = {}\n",
    "    with open(embedding_path / glove_file, encoding=\"utf8\") as f:\n",
    "        for line in f:\n",
    "            values = line.split()\n",
    "            word = values[0]\n",
    "            coefs = np.asarray(values[1:], dtype='float32')\n",
    "            glove[word] = coefs\n",
    "\n",
    "print('Found %s word vectors.' % len(glove))\n",
    "\n",
    "# for word2vec\n",
    "# import gensim\n",
    "# word2vec_path = embedding_path / \"GoogleNews-vectors-negative300.bin.gz\"\n",
    "# if 'word2vec' not in locals():\n",
    "#     word2vec = gensim.models.KeyedVectors.load_word2vec_format(word2vec_path, binary=True)"
   ]
  },
  {
   "cell_type": "markdown",
   "metadata": {},
   "source": [
    "## tokenizer"
   ]
  },
  {
   "cell_type": "markdown",
   "metadata": {},
   "source": [
    "Use the Keras tokenizer, which converts the text to lower case and removes punctuation.\n",
    "\n",
    "Note that stop words will be kept - the models will have to decide how or how not to use them."
   ]
  },
  {
   "cell_type": "code",
   "execution_count": 21,
   "metadata": {},
   "outputs": [
    {
     "name": "stdout",
     "output_type": "stream",
     "text": [
      "Found 49622 unique tokens.\n"
     ]
    }
   ],
   "source": [
    "tokenizer = Tokenizer()\n",
    "tokenizer.fit_on_texts(bills[\"description\"])\n",
    "word_index = tokenizer.word_index\n",
    "print('Found %s unique tokens.' % len(word_index))"
   ]
  },
  {
   "cell_type": "code",
   "execution_count": 22,
   "metadata": {},
   "outputs": [],
   "source": [
    "train_k = tokenizer.texts_to_sequences(X_train[\"description\"])\n",
    "val_k = tokenizer.texts_to_sequences(X_val[\"description\"])"
   ]
  },
  {
   "cell_type": "markdown",
   "metadata": {},
   "source": [
    "example text, tokens, and recovered text:"
   ]
  },
  {
   "cell_type": "code",
   "execution_count": 23,
   "metadata": {},
   "outputs": [
    {
     "data": {
      "text/plain": [
       "'A bill to reaffirm the intent of Congress with respect to the structure of the common carrier telecommunications industry rendering services in interstate and foreign commerce; to reaffirm the authority of the States to regulate terminal and station equipment used for telephone exchange service; to require the Federal Communications Commission to make certain findings in connection with Commission actions authorizing specialized carriers.'"
      ]
     },
     "execution_count": 23,
     "metadata": {},
     "output_type": "execute_result"
    }
   ],
   "source": [
    "X_train[\"description\"].iloc[0]"
   ]
  },
  {
   "cell_type": "code",
   "execution_count": 24,
   "metadata": {},
   "outputs": [
    {
     "data": {
      "text/plain": [
       "array([   6,    7,    1, 1647,    2, 1288,    3,  107,   25,   58,    1,\n",
       "          2, 1456,    3,    2, 1030, 1070, 1444,  448, 2555,   50,    9,\n",
       "        156,    4,  101,  117,    1, 1647,    2,  135,    3,    2,   14,\n",
       "          1,  420, 2344,    4, 1165,  500,  237,    5, 1066,  372,   35,\n",
       "          1,   49,    2,   22,  261,   77,    1,   71,   15, 2294,    9,\n",
       "        324,   25,   77,  589,  333, 2726,  605])"
      ]
     },
     "execution_count": 24,
     "metadata": {},
     "output_type": "execute_result"
    }
   ],
   "source": [
    "np.array(train_k[0])"
   ]
  },
  {
   "cell_type": "markdown",
   "metadata": {},
   "source": [
    "Define an inverse map in case we want to recover the original text:"
   ]
  },
  {
   "cell_type": "code",
   "execution_count": 25,
   "metadata": {},
   "outputs": [],
   "source": [
    "idx = tokenizer.word_index\n",
    "inverse_map = dict(zip(idx.values(), idx.keys()))\n",
    "\n",
    "def tokens_to_string(tokens):\n",
    "    # Map from tokens back to words.\n",
    "    words = [inverse_map[token] for token in tokens if token != 0]\n",
    "    \n",
    "    # Concatenate all words.\n",
    "    text = \" \".join(words)\n",
    "\n",
    "    return text"
   ]
  },
  {
   "cell_type": "code",
   "execution_count": 26,
   "metadata": {},
   "outputs": [
    {
     "data": {
      "text/plain": [
       "'a bill to reaffirm the intent of congress with respect to the structure of the common carrier telecommunications industry rendering services in interstate and foreign commerce to reaffirm the authority of the states to regulate terminal and station equipment used for telephone exchange service to require the federal communications commission to make certain findings in connection with commission actions authorizing specialized carriers'"
      ]
     },
     "execution_count": 26,
     "metadata": {},
     "output_type": "execute_result"
    }
   ],
   "source": [
    "tokens_to_string(train_k[0])"
   ]
  },
  {
   "cell_type": "markdown",
   "metadata": {},
   "source": [
    "## Max Sequence Length"
   ]
  },
  {
   "cell_type": "markdown",
   "metadata": {},
   "source": [
    "We need to specify the number of words to input into the networks.\n",
    "\n",
    "Bill title lengths have an extreme tail, but using too long a word sequence will take longer, make convergence difficult, and can worsen performance for short texts.\n",
    "\n",
    "Too short a word sequence and we lose too much information.\n",
    "\n",
    "We'll determine the number of words by taking the mean document length and adding 2 standard deviations:"
   ]
  },
  {
   "cell_type": "code",
   "execution_count": 29,
   "metadata": {},
   "outputs": [
    {
     "data": {
      "text/plain": [
       "(26.5424, 229)"
      ]
     },
     "execution_count": 29,
     "metadata": {},
     "output_type": "execute_result"
    }
   ],
   "source": [
    "num_tokens = [len(tokens) for tokens in train_k]\n",
    "num_tokens = np.array(num_tokens)\n",
    "np.mean(num_tokens), np.max(num_tokens)"
   ]
  },
  {
   "cell_type": "code",
   "execution_count": 30,
   "metadata": {},
   "outputs": [
    {
     "data": {
      "text/plain": [
       "52"
      ]
     },
     "execution_count": 30,
     "metadata": {},
     "output_type": "execute_result"
    }
   ],
   "source": [
    "max_tokens = int(np.mean(num_tokens) + 2 * np.std(num_tokens))\n",
    "max_tokens"
   ]
  },
  {
   "cell_type": "markdown",
   "metadata": {},
   "source": [
    "This covers 96% of dataset:"
   ]
  },
  {
   "cell_type": "code",
   "execution_count": 31,
   "metadata": {},
   "outputs": [
    {
     "data": {
      "text/plain": [
       "0.9588"
      ]
     },
     "execution_count": 31,
     "metadata": {},
     "output_type": "execute_result"
    }
   ],
   "source": [
    "np.sum(num_tokens < max_tokens) / len(num_tokens)"
   ]
  },
  {
   "cell_type": "code",
   "execution_count": 32,
   "metadata": {},
   "outputs": [],
   "source": [
    "MAX_SEQUENCE_LENGTH = 52"
   ]
  },
  {
   "cell_type": "markdown",
   "metadata": {},
   "source": [
    "# Flattened word embeddings plus dense layers"
   ]
  },
  {
   "cell_type": "markdown",
   "metadata": {},
   "source": [
    "Instead of averaging the word embeddings, try using all the features by flattening the embedding layer before feeding into fully connected layers."
   ]
  },
  {
   "cell_type": "code",
   "execution_count": 33,
   "metadata": {},
   "outputs": [
    {
     "data": {
      "text/plain": [
       "((40000, 52), (40000, 20))"
      ]
     },
     "execution_count": 33,
     "metadata": {},
     "output_type": "execute_result"
    }
   ],
   "source": [
    "padding = 'post'\n",
    "truncating = 'post'\n",
    "\n",
    "train = pad_sequences(train_k, maxlen=MAX_SEQUENCE_LENGTH, padding=padding, truncating=truncating)\n",
    "val = pad_sequences(val_k, maxlen=MAX_SEQUENCE_LENGTH, padding=padding, truncating=truncating)\n",
    "y_train_cat = to_categorical(y_train)\n",
    "y_val_cat = to_categorical(y_val)\n",
    "train.shape, y_train_cat.shape"
   ]
  },
  {
   "cell_type": "code",
   "execution_count": 34,
   "metadata": {},
   "outputs": [
    {
     "name": "stdout",
     "output_type": "stream",
     "text": [
      "(49623, 300)\n"
     ]
    }
   ],
   "source": [
    "embedding_choice = glove\n",
    "\n",
    "# rows of embedding_weights are vector embedding for each of the words in word_index\n",
    "embedding_weights = np.zeros((len(word_index)+1, EMBEDDING_DIM))\n",
    "for word,index in word_index.items():\n",
    "    embedding_weights[index,:] = embedding_choice[word] if word in embedding_choice else np.random.rand(EMBEDDING_DIM)\n",
    "print(embedding_weights.shape)"
   ]
  },
  {
   "cell_type": "code",
   "execution_count": 44,
   "metadata": {},
   "outputs": [],
   "source": [
    "embedding_layer = Embedding(len(word_index) + 1,\n",
    "                            EMBEDDING_DIM,\n",
    "                            weights=[embedding_weights],\n",
    "                            input_length=MAX_SEQUENCE_LENGTH,\n",
    "                            trainable=False)"
   ]
  },
  {
   "cell_type": "code",
   "execution_count": 86,
   "metadata": {},
   "outputs": [],
   "source": [
    "model = Sequential()\n",
    "model.add(embedding_layer)\n",
    "model.add(Flatten())\n",
    "model.add(Dense(100, activation='relu'))\n",
    "model.add(Dense(20, activation='softmax'))"
   ]
  },
  {
   "cell_type": "code",
   "execution_count": 87,
   "metadata": {},
   "outputs": [],
   "source": [
    "model.compile(optimizer='adam', loss='categorical_crossentropy', \n",
    "              metrics=['acc'])"
   ]
  },
  {
   "cell_type": "code",
   "execution_count": 88,
   "metadata": {},
   "outputs": [
    {
     "name": "stdout",
     "output_type": "stream",
     "text": [
      "_________________________________________________________________\n",
      "Layer (type)                 Output Shape              Param #   \n",
      "=================================================================\n",
      "embedding_2 (Embedding)      (None, 52, 300)           14886900  \n",
      "_________________________________________________________________\n",
      "flatten_5 (Flatten)          (None, 15600)             0         \n",
      "_________________________________________________________________\n",
      "dense_13 (Dense)             (None, 100)               1560100   \n",
      "_________________________________________________________________\n",
      "dense_14 (Dense)             (None, 20)                2020      \n",
      "=================================================================\n",
      "Total params: 16,449,020\n",
      "Trainable params: 1,562,120\n",
      "Non-trainable params: 14,886,900\n",
      "_________________________________________________________________\n"
     ]
    }
   ],
   "source": [
    "model.summary()"
   ]
  },
  {
   "cell_type": "code",
   "execution_count": 89,
   "metadata": {},
   "outputs": [
    {
     "name": "stdout",
     "output_type": "stream",
     "text": [
      "Train on 40000 samples, validate on 40000 samples\n",
      "Epoch 1/10\n",
      "40000/40000 [==============================] - 1s 28us/step - loss: 1.6370 - acc: 0.5315 - val_loss: 1.1751 - val_acc: 0.6666\n",
      "Epoch 2/10\n",
      "40000/40000 [==============================] - 1s 17us/step - loss: 0.8299 - acc: 0.7652 - val_loss: 1.0524 - val_acc: 0.6992\n",
      "Epoch 3/10\n",
      "40000/40000 [==============================] - 1s 17us/step - loss: 0.5856 - acc: 0.8377 - val_loss: 1.0229 - val_acc: 0.7170\n",
      "Epoch 4/10\n",
      "40000/40000 [==============================] - 1s 17us/step - loss: 0.4399 - acc: 0.8832 - val_loss: 1.0309 - val_acc: 0.7196\n",
      "Epoch 5/10\n",
      "40000/40000 [==============================] - 1s 17us/step - loss: 0.3382 - acc: 0.9141 - val_loss: 1.0641 - val_acc: 0.7193\n",
      "Epoch 6/10\n",
      "40000/40000 [==============================] - 1s 17us/step - loss: 0.2701 - acc: 0.9343 - val_loss: 1.0981 - val_acc: 0.7213\n",
      "Epoch 7/10\n",
      "40000/40000 [==============================] - 1s 17us/step - loss: 0.2194 - acc: 0.9510 - val_loss: 1.1274 - val_acc: 0.7221\n",
      "Epoch 8/10\n",
      "40000/40000 [==============================] - 1s 17us/step - loss: 0.1729 - acc: 0.9646 - val_loss: 1.1645 - val_acc: 0.7208\n",
      "Epoch 9/10\n",
      "40000/40000 [==============================] - 1s 17us/step - loss: 0.1484 - acc: 0.9728 - val_loss: 1.2035 - val_acc: 0.7216\n",
      "Epoch 10/10\n",
      "40000/40000 [==============================] - 1s 17us/step - loss: 0.1257 - acc: 0.9775 - val_loss: 1.2596 - val_acc: 0.7175\n",
      "Wall time: 7.5 s\n"
     ]
    }
   ],
   "source": [
    "%%time\n",
    "history = model.fit(train,\n",
    "          y_train_cat, \n",
    "          validation_data=(val, y_val_cat),\n",
    "          batch_size=512, \n",
    "          epochs=10)"
   ]
  },
  {
   "cell_type": "code",
   "execution_count": 90,
   "metadata": {},
   "outputs": [
    {
     "data": {
      "image/png": "[encoded data removed]",
      "text/plain": [
       "<Figure size 864x288 with 2 Axes>"
      ]
     },
     "metadata": {
      "needs_background": "light"
     },
     "output_type": "display_data"
    }
   ],
   "source": [
    "plot_learning_curve(history)"
   ]
  },
  {
   "cell_type": "markdown",
   "metadata": {},
   "source": [
    "- Poor performance, especially considering number of training parameters ~ 1.5mio\n",
    "- Not too surprising that this doesn't work well, as flattening the word embeddings loses useful structure. Before flattening, adjacent words are next to each other in the tensor for the layer; afterwards they are separated by 300, the dimension of the embedding.\n",
    "- Also the fully connected layers are not using the fact that neighboring words are more important compared to distant words"
   ]
  },
  {
   "cell_type": "markdown",
   "metadata": {},
   "source": [
    "# CNNs"
   ]
  },
  {
   "cell_type": "markdown",
   "metadata": {},
   "source": [
    "In general, CNN architectures directly take advantage of the closer relationship of neighboring words. \n",
    "\n",
    "We'll try 2 different architectures."
   ]
  },
  {
   "cell_type": "markdown",
   "metadata": {},
   "source": [
    "## global max pooling"
   ]
  },
  {
   "cell_type": "markdown",
   "metadata": {},
   "source": [
    "Very similar to:\n",
    "https://arxiv.org/pdf/1408.5882.pdf\n",
    "\n",
    "This particular architecture uses different filter sizes for the convolutions, and then takes a global maximum over the sequence. The idea is to find the strongest instance of each convolutional filter.\n",
    "\n",
    "Finally this is fed into a softmax classification layer.\n",
    "\n",
    "One advantage of taking a global maximum over the sequence is that we can input the entire sequence, and don't have to truncate the number of words."
   ]
  },
  {
   "cell_type": "code",
   "execution_count": 96,
   "metadata": {},
   "outputs": [],
   "source": [
    "MAX_LENGTH = max(max([len(x) for x in train_k]), max([len(x) for x in val_k]))"
   ]
  },
  {
   "cell_type": "code",
   "execution_count": 97,
   "metadata": {},
   "outputs": [],
   "source": [
    "train = pad_sequences(train_k, maxlen=MAX_LENGTH)\n",
    "val = pad_sequences(val_k, maxlen=MAX_LENGTH)"
   ]
  },
  {
   "cell_type": "code",
   "execution_count": 98,
   "metadata": {},
   "outputs": [
    {
     "data": {
      "text/plain": [
       "(40000, 229)"
      ]
     },
     "execution_count": 98,
     "metadata": {},
     "output_type": "execute_result"
    }
   ],
   "source": [
    "train.shape"
   ]
  },
  {
   "cell_type": "code",
   "execution_count": 99,
   "metadata": {},
   "outputs": [],
   "source": [
    "graph_in = Input(shape=(MAX_LENGTH, EMBEDDING_DIM))"
   ]
  },
  {
   "cell_type": "code",
   "execution_count": 100,
   "metadata": {},
   "outputs": [],
   "source": [
    "embedding_layer = Embedding(len(word_index) + 1,\n",
    "                            EMBEDDING_DIM,\n",
    "                            weights=[embedding_weights],\n",
    "                            input_length=MAX_LENGTH,\n",
    "                            trainable=False)"
   ]
  },
  {
   "cell_type": "code",
   "execution_count": 147,
   "metadata": {},
   "outputs": [
    {
     "name": "stderr",
     "output_type": "stream",
     "text": [
      "C:\\Anaconda3\\envs\\congress\\lib\\site-packages\\ipykernel_launcher.py:11: UserWarning: Update your `Model` call to the Keras 2 API: `Model(inputs=Tensor(\"in..., outputs=Tensor(\"co...)`\n",
      "  # This is added back by InteractiveShellApp.init_path()\n"
     ]
    }
   ],
   "source": [
    "filter_sizes = (3, 4, 5)\n",
    "num_filters = 100\n",
    "\n",
    "convs = []\n",
    "for fsz in filter_sizes:\n",
    "    conv = Conv1D(num_filters, fsz, activation='relu')(graph_in)\n",
    "    pool = GlobalMaxPooling1D()(conv)\n",
    "    convs.append(pool)\n",
    "\n",
    "out = Concatenate()(convs)\n",
    "graph = Model(input=graph_in, output=out)"
   ]
  },
  {
   "cell_type": "code",
   "execution_count": 148,
   "metadata": {},
   "outputs": [],
   "source": [
    "model = Sequential()\n",
    "model.add(embedding_layer)\n",
    "model.add(graph)\n",
    "model.add(Dense(50, activation='relu'))\n",
    "model.add(Dense(20, activation='softmax'))"
   ]
  },
  {
   "cell_type": "code",
   "execution_count": 149,
   "metadata": {},
   "outputs": [
    {
     "name": "stdout",
     "output_type": "stream",
     "text": [
      "_________________________________________________________________\n",
      "Layer (type)                 Output Shape              Param #   \n",
      "=================================================================\n",
      "embedding_7 (Embedding)      (None, 52, 300)           14886900  \n",
      "_________________________________________________________________\n",
      "model_2 (Model)              (None, 300)               360300    \n",
      "_________________________________________________________________\n",
      "dense_27 (Dense)             (None, 50)                15050     \n",
      "_________________________________________________________________\n",
      "dense_28 (Dense)             (None, 20)                1020      \n",
      "=================================================================\n",
      "Total params: 15,263,270\n",
      "Trainable params: 376,370\n",
      "Non-trainable params: 14,886,900\n",
      "_________________________________________________________________\n"
     ]
    }
   ],
   "source": [
    "model.summary()"
   ]
  },
  {
   "cell_type": "code",
   "execution_count": 150,
   "metadata": {},
   "outputs": [],
   "source": [
    "model.compile(optimizer='adam', loss='categorical_crossentropy', \n",
    "              metrics=['accuracy'])"
   ]
  },
  {
   "cell_type": "code",
   "execution_count": 151,
   "metadata": {},
   "outputs": [
    {
     "name": "stdout",
     "output_type": "stream",
     "text": [
      "Train on 40000 samples, validate on 40000 samples\n",
      "Epoch 1/10\n",
      "40000/40000 [==============================] - 4s 91us/step - loss: 1.5942 - acc: 0.5629 - val_loss: 0.9221 - val_acc: 0.7400\n",
      "Epoch 2/10\n",
      "40000/40000 [==============================] - 3s 65us/step - loss: 0.7494 - acc: 0.7855 - val_loss: 0.7247 - val_acc: 0.7900\n",
      "Epoch 3/10\n",
      "40000/40000 [==============================] - 3s 65us/step - loss: 0.5700 - acc: 0.8348 - val_loss: 0.6642 - val_acc: 0.8050\n",
      "Epoch 4/10\n",
      "40000/40000 [==============================] - 3s 65us/step - loss: 0.4599 - acc: 0.8654 - val_loss: 0.6385 - val_acc: 0.8121\n",
      "Epoch 5/10\n",
      "40000/40000 [==============================] - 3s 66us/step - loss: 0.3739 - acc: 0.8905 - val_loss: 0.6175 - val_acc: 0.8189\n",
      "Epoch 6/10\n",
      "40000/40000 [==============================] - 3s 66us/step - loss: 0.3038 - acc: 0.9148 - val_loss: 0.6311 - val_acc: 0.8152\n",
      "Epoch 7/10\n",
      "40000/40000 [==============================] - 3s 65us/step - loss: 0.2494 - acc: 0.9304 - val_loss: 0.6308 - val_acc: 0.8211\n",
      "Epoch 8/10\n",
      "40000/40000 [==============================] - 3s 65us/step - loss: 0.2099 - acc: 0.9426 - val_loss: 0.6430 - val_acc: 0.8218\n",
      "Epoch 9/10\n",
      "40000/40000 [==============================] - 3s 66us/step - loss: 0.1679 - acc: 0.9555 - val_loss: 0.6501 - val_acc: 0.8203\n",
      "Epoch 10/10\n",
      "40000/40000 [==============================] - 3s 65us/step - loss: 0.1406 - acc: 0.9641 - val_loss: 0.6732 - val_acc: 0.8207\n"
     ]
    }
   ],
   "source": [
    "history = model.fit(train,\n",
    "          y_train_cat, \n",
    "          validation_data=(val, y_val_cat),\n",
    "          batch_size=512, \n",
    "          epochs=10)"
   ]
  },
  {
   "cell_type": "code",
   "execution_count": 152,
   "metadata": {},
   "outputs": [
    {
     "data": {
      "image/png": "[encoded data removed]",
      "text/plain": [
       "<Figure size 864x288 with 2 Axes>"
      ]
     },
     "metadata": {
      "needs_background": "light"
     },
     "output_type": "display_data"
    }
   ],
   "source": [
    "plot_learning_curve(history)"
   ]
  },
  {
   "cell_type": "markdown",
   "metadata": {},
   "source": [
    "## multi-layer CNN with max pooling"
   ]
  },
  {
   "cell_type": "markdown",
   "metadata": {},
   "source": [
    "Based on https://blog.keras.io/using-pre-trained-word-embeddings-in-a-keras-model.html\n",
    "\n",
    "This reduces the length of the sequence by progressive max pooling and using multiple layers."
   ]
  },
  {
   "cell_type": "code",
   "execution_count": 134,
   "metadata": {},
   "outputs": [],
   "source": [
    "padding = 'post'\n",
    "truncating = 'post'\n",
    "\n",
    "train = pad_sequences(train_k, maxlen=MAX_SEQUENCE_LENGTH, padding=padding, truncating=truncating)\n",
    "val = pad_sequences(val_k, maxlen=MAX_SEQUENCE_LENGTH, padding=padding, truncating=truncating)"
   ]
  },
  {
   "cell_type": "code",
   "execution_count": 135,
   "metadata": {},
   "outputs": [
    {
     "data": {
      "text/plain": [
       "(40000, 52)"
      ]
     },
     "execution_count": 135,
     "metadata": {},
     "output_type": "execute_result"
    }
   ],
   "source": [
    "train.shape"
   ]
  },
  {
   "cell_type": "code",
   "execution_count": 141,
   "metadata": {},
   "outputs": [],
   "source": [
    "embedding_layer = Embedding(len(word_index) + 1,\n",
    "                            EMBEDDING_DIM,\n",
    "                            weights=[embedding_weights],\n",
    "                            input_length=MAX_SEQUENCE_LENGTH,\n",
    "                            trainable=False)"
   ]
  },
  {
   "cell_type": "code",
   "execution_count": 142,
   "metadata": {},
   "outputs": [],
   "source": [
    "model = Sequential()\n",
    "model.add(embedding_layer)\n",
    "model.add(Conv1D(200, 4, activation='relu'))\n",
    "model.add(MaxPooling1D(3))\n",
    "model.add(Conv1D(200, 4, activation='relu'))\n",
    "model.add(MaxPooling1D(3))\n",
    "model.add(Conv1D(200, 4, activation='relu'))\n",
    "model.add(GlobalMaxPooling1D())\n",
    "model.add(Dense(20, activation='softmax'))"
   ]
  },
  {
   "cell_type": "code",
   "execution_count": 143,
   "metadata": {},
   "outputs": [
    {
     "name": "stdout",
     "output_type": "stream",
     "text": [
      "_________________________________________________________________\n",
      "Layer (type)                 Output Shape              Param #   \n",
      "=================================================================\n",
      "embedding_7 (Embedding)      (None, 52, 300)           14886900  \n",
      "_________________________________________________________________\n",
      "conv1d_35 (Conv1D)           (None, 49, 200)           240200    \n",
      "_________________________________________________________________\n",
      "max_pooling1d_21 (MaxPooling (None, 16, 200)           0         \n",
      "_________________________________________________________________\n",
      "conv1d_36 (Conv1D)           (None, 13, 200)           160200    \n",
      "_________________________________________________________________\n",
      "max_pooling1d_22 (MaxPooling (None, 4, 200)            0         \n",
      "_________________________________________________________________\n",
      "conv1d_37 (Conv1D)           (None, 1, 200)            160200    \n",
      "_________________________________________________________________\n",
      "global_max_pooling1d_11 (Glo (None, 200)               0         \n",
      "_________________________________________________________________\n",
      "dense_26 (Dense)             (None, 20)                4020      \n",
      "=================================================================\n",
      "Total params: 15,451,520\n",
      "Trainable params: 564,620\n",
      "Non-trainable params: 14,886,900\n",
      "_________________________________________________________________\n"
     ]
    }
   ],
   "source": [
    "model.summary()"
   ]
  },
  {
   "cell_type": "code",
   "execution_count": 144,
   "metadata": {},
   "outputs": [],
   "source": [
    "model.compile(optimizer='adam', loss='categorical_crossentropy', \n",
    "              metrics=['accuracy'])"
   ]
  },
  {
   "cell_type": "code",
   "execution_count": 145,
   "metadata": {},
   "outputs": [
    {
     "name": "stdout",
     "output_type": "stream",
     "text": [
      "Train on 40000 samples, validate on 40000 samples\n",
      "Epoch 1/10\n",
      "40000/40000 [==============================] - 5s 115us/step - loss: 1.2918 - acc: 0.6277 - val_loss: 0.8410 - val_acc: 0.7587\n",
      "Epoch 2/10\n",
      "40000/40000 [==============================] - 4s 98us/step - loss: 0.6742 - acc: 0.8065 - val_loss: 0.7246 - val_acc: 0.7960\n",
      "Epoch 3/10\n",
      "40000/40000 [==============================] - 4s 98us/step - loss: 0.4872 - acc: 0.8581 - val_loss: 0.7275 - val_acc: 0.8051\n",
      "Epoch 4/10\n",
      "40000/40000 [==============================] - 4s 97us/step - loss: 0.3493 - acc: 0.8956 - val_loss: 0.7345 - val_acc: 0.8076\n",
      "Epoch 5/10\n",
      "40000/40000 [==============================] - 4s 96us/step - loss: 0.2355 - acc: 0.9305 - val_loss: 0.8185 - val_acc: 0.8040\n",
      "Epoch 6/10\n",
      "40000/40000 [==============================] - 4s 97us/step - loss: 0.1726 - acc: 0.9502 - val_loss: 0.8404 - val_acc: 0.8035\n",
      "Epoch 7/10\n",
      "40000/40000 [==============================] - 4s 96us/step - loss: 0.1334 - acc: 0.9641 - val_loss: 0.9039 - val_acc: 0.8079\n",
      "Epoch 8/10\n",
      "40000/40000 [==============================] - 4s 96us/step - loss: 0.1180 - acc: 0.9691 - val_loss: 0.9795 - val_acc: 0.8020\n",
      "Epoch 9/10\n",
      "40000/40000 [==============================] - 4s 96us/step - loss: 0.1031 - acc: 0.9745 - val_loss: 0.9872 - val_acc: 0.8053\n",
      "Epoch 10/10\n",
      "40000/40000 [==============================] - 4s 96us/step - loss: 0.0930 - acc: 0.9775 - val_loss: 0.9617 - val_acc: 0.8046\n"
     ]
    },
    {
     "data": {
      "text/plain": [
       "<keras.callbacks.History at 0x14c335e2ba8>"
      ]
     },
     "execution_count": 145,
     "metadata": {},
     "output_type": "execute_result"
    }
   ],
   "source": [
    "model.fit(train,\n",
    "          y_train_cat, \n",
    "          validation_data=(val, y_val_cat),\n",
    "          batch_size=128, \n",
    "          epochs=10)"
   ]
  },
  {
   "cell_type": "code",
   "execution_count": 146,
   "metadata": {},
   "outputs": [
    {
     "data": {
      "image/png": "[encoded data removed]",
      "text/plain": [
       "<Figure size 864x288 with 2 Axes>"
      ]
     },
     "metadata": {
      "needs_background": "light"
     },
     "output_type": "display_data"
    }
   ],
   "source": [
    "plot_learning_curve(history)"
   ]
  },
  {
   "cell_type": "markdown",
   "metadata": {},
   "source": [
    "- worse than globalmaxpooling"
   ]
  },
  {
   "cell_type": "markdown",
   "metadata": {},
   "source": [
    "## k-max pooling"
   ]
  },
  {
   "cell_type": "markdown",
   "metadata": {},
   "source": [
    "As a final CNN architecture, we return to the idea of global max pooling, but instead of a global max pooling taking only the top result for each feature map, we can take the top k results.\n",
    "\n",
    "We'll try $k=2$ to see if we get an improvement"
   ]
  },
  {
   "cell_type": "code",
   "execution_count": 153,
   "metadata": {},
   "outputs": [],
   "source": [
    "# from https://github.com/bicepjai/Deep-Survey-Text-Classification/blob/master/deep_models/paper_02_cnn_sent_model/models.ipynb\n",
    "from utils import KMaxPooling"
   ]
  },
  {
   "cell_type": "code",
   "execution_count": 184,
   "metadata": {},
   "outputs": [],
   "source": [
    "train = pad_sequences(train_k, maxlen=MAX_LENGTH)\n",
    "val = pad_sequences(val_k, maxlen=MAX_LENGTH)"
   ]
  },
  {
   "cell_type": "code",
   "execution_count": 185,
   "metadata": {},
   "outputs": [],
   "source": [
    "embedding_layer = Embedding(len(word_index) + 1,\n",
    "                            EMBEDDING_DIM,\n",
    "                            weights=[embedding_weights],\n",
    "                            input_length=MAX_LENGTH,\n",
    "                            trainable=False)"
   ]
  },
  {
   "cell_type": "code",
   "execution_count": 196,
   "metadata": {},
   "outputs": [
    {
     "name": "stderr",
     "output_type": "stream",
     "text": [
      "C:\\Anaconda3\\envs\\congress\\lib\\site-packages\\ipykernel_launcher.py:11: UserWarning: Update your `Model` call to the Keras 2 API: `Model(inputs=Tensor(\"in..., outputs=Tensor(\"co...)`\n",
      "  # This is added back by InteractiveShellApp.init_path()\n"
     ]
    }
   ],
   "source": [
    "filter_sizes = (3, 4, 5)\n",
    "num_filters = 100\n",
    "\n",
    "convs = []\n",
    "for fsz in filter_sizes:\n",
    "    conv = Conv1D(num_filters, fsz, activation='relu')(graph_in)\n",
    "    pool = KMaxPooling(2)(conv)\n",
    "    convs.append(pool)\n",
    "\n",
    "out = Concatenate()(convs)\n",
    "graph = Model(input=graph_in, output=out)"
   ]
  },
  {
   "cell_type": "code",
   "execution_count": 197,
   "metadata": {},
   "outputs": [],
   "source": [
    "model = Sequential()\n",
    "model.add(embedding_layer)\n",
    "model.add(graph)\n",
    "model.add(Flatten())\n",
    "model.add(Dense(50, activation='relu'))\n",
    "model.add(Dense(20, activation='softmax'))"
   ]
  },
  {
   "cell_type": "code",
   "execution_count": 198,
   "metadata": {},
   "outputs": [
    {
     "name": "stdout",
     "output_type": "stream",
     "text": [
      "_________________________________________________________________\n",
      "Layer (type)                 Output Shape              Param #   \n",
      "=================================================================\n",
      "embedding_10 (Embedding)     (None, 229, 300)          14886900  \n",
      "_________________________________________________________________\n",
      "model_6 (Model)              (None, 2, 300)            360300    \n",
      "_________________________________________________________________\n",
      "flatten_14 (Flatten)         (None, 600)               0         \n",
      "_________________________________________________________________\n",
      "dense_49 (Dense)             (None, 50)                30050     \n",
      "_________________________________________________________________\n",
      "dense_50 (Dense)             (None, 20)                1020      \n",
      "=================================================================\n",
      "Total params: 15,278,270\n",
      "Trainable params: 391,370\n",
      "Non-trainable params: 14,886,900\n",
      "_________________________________________________________________\n"
     ]
    }
   ],
   "source": [
    "model.compile(optimizer='adam', loss='categorical_crossentropy', \n",
    "              metrics=['accuracy'])\n",
    "model.summary()"
   ]
  },
  {
   "cell_type": "code",
   "execution_count": 199,
   "metadata": {},
   "outputs": [
    {
     "name": "stdout",
     "output_type": "stream",
     "text": [
      "Train on 40000 samples, validate on 40000 samples\n",
      "Epoch 1/10\n",
      "40000/40000 [==============================] - 47s 1ms/step - loss: 1.4868 - acc: 0.5901 - val_loss: 0.9117 - val_acc: 0.7418\n",
      "Epoch 2/10\n",
      "40000/40000 [==============================] - 45s 1ms/step - loss: 0.7518 - acc: 0.7849 - val_loss: 0.7648 - val_acc: 0.7795\n",
      "Epoch 3/10\n",
      "40000/40000 [==============================] - 45s 1ms/step - loss: 0.5777 - acc: 0.8340 - val_loss: 0.6866 - val_acc: 0.8011\n",
      "Epoch 4/10\n",
      "40000/40000 [==============================] - 45s 1ms/step - loss: 0.4605 - acc: 0.8664 - val_loss: 0.6576 - val_acc: 0.8107\n",
      "Epoch 5/10\n",
      "40000/40000 [==============================] - 45s 1ms/step - loss: 0.3739 - acc: 0.8909 - val_loss: 0.6577 - val_acc: 0.8117\n",
      "Epoch 6/10\n",
      "40000/40000 [==============================] - 45s 1ms/step - loss: 0.2958 - acc: 0.9153 - val_loss: 0.6708 - val_acc: 0.8127\n",
      "Epoch 7/10\n",
      "40000/40000 [==============================] - 45s 1ms/step - loss: 0.2369 - acc: 0.9333 - val_loss: 0.7196 - val_acc: 0.8037\n",
      "Epoch 8/10\n",
      "40000/40000 [==============================] - 46s 1ms/step - loss: 0.1940 - acc: 0.9471 - val_loss: 0.7034 - val_acc: 0.8146\n",
      "Epoch 9/10\n",
      "40000/40000 [==============================] - 53s 1ms/step - loss: 0.1586 - acc: 0.9568 - val_loss: 0.7084 - val_acc: 0.8178\n",
      "Epoch 10/10\n",
      "40000/40000 [==============================] - 45s 1ms/step - loss: 0.1410 - acc: 0.9640 - val_loss: 0.7849 - val_acc: 0.8085\n"
     ]
    }
   ],
   "source": [
    "history = model.fit(train,\n",
    "                    y_train_cat, \n",
    "                    validation_data=(val, y_val_cat),\n",
    "                    batch_size=256, \n",
    "                    epochs=10)"
   ]
  },
  {
   "cell_type": "code",
   "execution_count": 200,
   "metadata": {},
   "outputs": [
    {
     "data": {
      "image/png": "[encoded data removed]",
      "text/plain": [
       "<Figure size 864x288 with 2 Axes>"
      ]
     },
     "metadata": {
      "needs_background": "light"
     },
     "output_type": "display_data"
    }
   ],
   "source": [
    "plot_learning_curve(history)"
   ]
  },
  {
   "cell_type": "markdown",
   "metadata": {},
   "source": [
    "- still worse than globalmaxpooling"
   ]
  },
  {
   "cell_type": "markdown",
   "metadata": {},
   "source": [
    "## CNN summary"
   ]
  },
  {
   "cell_type": "markdown",
   "metadata": {},
   "source": [
    "Similar to https://arxiv.org/pdf/1510.03820.pdf, we find that global max pooling works best.\n",
    "\n",
    "The same paper also provides some other useful recommendations if we want to fine tune the model hyperparameters:\n",
    "- filter size is important 1-10. find best filter size, then use that and surrounding sizes.\n",
    "- number of filters from 100 to 600\n",
    "- dropout between 0.1 to 0.5, but not too important; l2 not helpful"
   ]
  },
  {
   "cell_type": "markdown",
   "metadata": {},
   "source": [
    "# RNN - bidirectional LSTM"
   ]
  },
  {
   "cell_type": "markdown",
   "metadata": {},
   "source": [
    "We'll try a standard LSTM architecture too."
   ]
  },
  {
   "cell_type": "code",
   "execution_count": 201,
   "metadata": {},
   "outputs": [],
   "source": [
    "MAX_SEQUENCE_LENGTH = 52"
   ]
  },
  {
   "cell_type": "code",
   "execution_count": 202,
   "metadata": {},
   "outputs": [],
   "source": [
    "padding = 'post'\n",
    "truncating = 'post'\n",
    "\n",
    "train = pad_sequences(train_k, maxlen=MAX_SEQUENCE_LENGTH, padding=padding, truncating=truncating)\n",
    "val = pad_sequences(val_k, maxlen=MAX_SEQUENCE_LENGTH, padding=padding, truncating=truncating)"
   ]
  },
  {
   "cell_type": "code",
   "execution_count": 203,
   "metadata": {},
   "outputs": [],
   "source": [
    "from keras.layers import LSTM\n",
    "from keras.layers import Bidirectional"
   ]
  },
  {
   "cell_type": "code",
   "execution_count": 204,
   "metadata": {},
   "outputs": [],
   "source": [
    "embedding_layer = Embedding(len(word_index) + 1,\n",
    "                            EMBEDDING_DIM,\n",
    "                            weights=[embedding_weights],\n",
    "                            input_length=MAX_SEQUENCE_LENGTH,\n",
    "                            trainable=False)"
   ]
  },
  {
   "cell_type": "code",
   "execution_count": 205,
   "metadata": {},
   "outputs": [],
   "source": [
    "model = Sequential()\n",
    "model.add(embedding_layer)\n",
    "model.add(Bidirectional(LSTM(MAX_SEQUENCE_LENGTH, return_sequences=True)))\n",
    "model.add(Bidirectional(LSTM(MAX_SEQUENCE_LENGTH, return_sequences=True)))\n",
    "model.add(GlobalMaxPooling1D())\n",
    "model.add(Dense(20, activation='softmax'))"
   ]
  },
  {
   "cell_type": "code",
   "execution_count": 206,
   "metadata": {},
   "outputs": [
    {
     "name": "stdout",
     "output_type": "stream",
     "text": [
      "_________________________________________________________________\n",
      "Layer (type)                 Output Shape              Param #   \n",
      "=================================================================\n",
      "embedding_11 (Embedding)     (None, 52, 300)           14886900  \n",
      "_________________________________________________________________\n",
      "bidirectional_1 (Bidirection (None, 52, 104)           146848    \n",
      "_________________________________________________________________\n",
      "bidirectional_2 (Bidirection (None, 52, 104)           65312     \n",
      "_________________________________________________________________\n",
      "global_max_pooling1d_15 (Glo (None, 104)               0         \n",
      "_________________________________________________________________\n",
      "dense_51 (Dense)             (None, 20)                2100      \n",
      "=================================================================\n",
      "Total params: 15,101,160\n",
      "Trainable params: 214,260\n",
      "Non-trainable params: 14,886,900\n",
      "_________________________________________________________________\n"
     ]
    }
   ],
   "source": [
    "model.summary()"
   ]
  },
  {
   "cell_type": "code",
   "execution_count": 207,
   "metadata": {},
   "outputs": [],
   "source": [
    "model.compile(optimizer='adam', loss='categorical_crossentropy', \n",
    "              metrics=['accuracy'])"
   ]
  },
  {
   "cell_type": "code",
   "execution_count": 208,
   "metadata": {},
   "outputs": [
    {
     "name": "stdout",
     "output_type": "stream",
     "text": [
      "Train on 40000 samples, validate on 40000 samples\n",
      "Epoch 1/10\n",
      "40000/40000 [==============================] - 125s 3ms/step - loss: 1.5062 - acc: 0.5720 - val_loss: 0.9952 - val_acc: 0.7179\n",
      "Epoch 2/10\n",
      "40000/40000 [==============================] - 123s 3ms/step - loss: 0.8649 - acc: 0.7510 - val_loss: 0.8198 - val_acc: 0.7631\n",
      "Epoch 3/10\n",
      "40000/40000 [==============================] - 121s 3ms/step - loss: 0.7143 - acc: 0.7940 - val_loss: 0.7431 - val_acc: 0.7829\n",
      "Epoch 4/10\n",
      "40000/40000 [==============================] - 121s 3ms/step - loss: 0.6287 - acc: 0.8143 - val_loss: 0.6956 - val_acc: 0.7948\n",
      "Epoch 5/10\n",
      "40000/40000 [==============================] - 118s 3ms/step - loss: 0.5615 - acc: 0.8322 - val_loss: 0.6790 - val_acc: 0.8021\n",
      "Epoch 6/10\n",
      "40000/40000 [==============================] - 120s 3ms/step - loss: 0.5086 - acc: 0.8486 - val_loss: 0.6638 - val_acc: 0.8052\n",
      "Epoch 7/10\n",
      "40000/40000 [==============================] - 122s 3ms/step - loss: 0.4600 - acc: 0.8615 - val_loss: 0.6661 - val_acc: 0.8069\n",
      "Epoch 8/10\n",
      "40000/40000 [==============================] - 123s 3ms/step - loss: 0.4201 - acc: 0.8721 - val_loss: 0.6620 - val_acc: 0.8087\n",
      "Epoch 9/10\n",
      "40000/40000 [==============================] - 211s 5ms/step - loss: 0.3858 - acc: 0.8835 - val_loss: 0.6483 - val_acc: 0.8133\n",
      "Epoch 10/10\n",
      "40000/40000 [==============================] - 286s 7ms/step - loss: 0.3476 - acc: 0.8942 - val_loss: 0.6714 - val_acc: 0.8127\n"
     ]
    }
   ],
   "source": [
    "history = model.fit(train,\n",
    "                  y_train_cat, \n",
    "                  validation_data=(val, y_val_cat),\n",
    "                  batch_size=128, \n",
    "                  epochs=10)"
   ]
  },
  {
   "cell_type": "code",
   "execution_count": 209,
   "metadata": {},
   "outputs": [
    {
     "data": {
      "image/png": "[encoded data removed]",
      "text/plain": [
       "<Figure size 864x288 with 2 Axes>"
      ]
     },
     "metadata": {
      "needs_background": "light"
     },
     "output_type": "display_data"
    }
   ],
   "source": [
    "plot_learning_curve(history)"
   ]
  },
  {
   "cell_type": "markdown",
   "metadata": {},
   "source": [
    "- comparable to CNNs"
   ]
  },
  {
   "cell_type": "markdown",
   "metadata": {},
   "source": [
    "# Bert"
   ]
  },
  {
   "cell_type": "markdown",
   "metadata": {},
   "source": [
    "https://arxiv.org/abs/1810.04805\n",
    "\n",
    "Try 2 approaches:\n",
    "1. feature-based approach - see section 5.4 of the bert paper. Just as in the Bert paper, we can try taking the last layer, or the penultimate layer, or adding the last few layers, or concatening the last few layers.\n",
    "2. fine-tune bert - either fine tune all the layers as suggested in the Bert paper, using a low learning rate. Or freeze all but the top few hidden layers and train just those."
   ]
  },
  {
   "cell_type": "markdown",
   "metadata": {},
   "source": [
    "## tokenizer"
   ]
  },
  {
   "cell_type": "code",
   "execution_count": 14,
   "metadata": {},
   "outputs": [],
   "source": [
    "MAX_SEQUENCE_LENGTH = 52"
   ]
  },
  {
   "cell_type": "code",
   "execution_count": 15,
   "metadata": {},
   "outputs": [],
   "source": [
    "from keras_bert import load_trained_model_from_checkpoint\n",
    "\n",
    "pretrained_model_path = Path(r\"D:\\data\\uncased_L-12_H-768_A-12\")\n",
    "\n",
    "config_path = pretrained_model_path / \"bert_config.json\"\n",
    "checkpoint_path = pretrained_model_path / \"bert_model.ckpt\"\n",
    "dict_path = pretrained_model_path / \"vocab.txt\""
   ]
  },
  {
   "cell_type": "code",
   "execution_count": 16,
   "metadata": {},
   "outputs": [],
   "source": [
    "from keras_bert import Tokenizer\n",
    "import codecs\n",
    "\n",
    "token_dict = {} \n",
    "with codecs.open(dict_path, 'r', 'utf8') as reader:\n",
    "    for line in reader:\n",
    "        token = line.strip()\n",
    "        token_dict[token] = len(token_dict)\n",
    "\n",
    "tokenizer = Tokenizer(token_dict)"
   ]
  },
  {
   "cell_type": "code",
   "execution_count": 17,
   "metadata": {},
   "outputs": [
    {
     "data": {
      "text/plain": [
       "[['[CLS]',\n",
       "  'this',\n",
       "  'here',\n",
       "  \"'\",\n",
       "  's',\n",
       "  'an',\n",
       "  'example',\n",
       "  'of',\n",
       "  'using',\n",
       "  'the',\n",
       "  'bert',\n",
       "  'token',\n",
       "  '##izer',\n",
       "  '[SEP]'],\n",
       " ['[CLS]', 'af', '##fa', '##ble', '[SEP]']]"
      ]
     },
     "execution_count": 17,
     "metadata": {},
     "output_type": "execute_result"
    }
   ],
   "source": [
    "texts = [\"This here's an example of using the BERT tokenizer\", \"affable\"]\n",
    "tokens = [tokenizer.tokenize(text) for text in texts]\n",
    "tokens"
   ]
  },
  {
   "cell_type": "code",
   "execution_count": 18,
   "metadata": {},
   "outputs": [],
   "source": [
    "indices_segments = [tokenizer.encode(first=text, max_len=MAX_SEQUENCE_LENGTH) for text in texts]\n",
    "indices, segments = zip(*indices_segments)\n",
    "indices = np.asarray(indices)\n",
    "segments = np.asarray(segments)"
   ]
  },
  {
   "cell_type": "code",
   "execution_count": 19,
   "metadata": {},
   "outputs": [],
   "source": [
    "def get_input(texts):\n",
    "    indices_segments = [tokenizer.encode(first=text, max_len=52) for text in texts]\n",
    "    indices, segments = zip(*indices_segments)\n",
    "    indices = np.asarray(indices)\n",
    "    segments = np.asarray(segments)\n",
    "    return [indices, segments]"
   ]
  },
  {
   "cell_type": "code",
   "execution_count": 20,
   "metadata": {},
   "outputs": [],
   "source": [
    "train_indices, _ = get_input(X_train['description'])\n",
    "val_indices, _ = get_input(X_val['description'])"
   ]
  },
  {
   "cell_type": "markdown",
   "metadata": {},
   "source": [
    "## feature-based approach"
   ]
  },
  {
   "cell_type": "code",
   "execution_count": 16,
   "metadata": {},
   "outputs": [
    {
     "name": "stdout",
     "output_type": "stream",
     "text": [
      "__________________________________________________________________________________________________\n",
      "Layer (type)                    Output Shape         Param #     Connected to                     \n",
      "==================================================================================================\n",
      "Input-Token (InputLayer)        (None, 52)           0                                            \n",
      "__________________________________________________________________________________________________\n",
      "Input-Segment (InputLayer)      (None, 52)           0                                            \n",
      "__________________________________________________________________________________________________\n",
      "Embedding-Token (TokenEmbedding [(None, 52, 768), (3 23440896    Input-Token[0][0]                \n",
      "__________________________________________________________________________________________________\n",
      "Embedding-Segment (Embedding)   (None, 52, 768)      1536        Input-Segment[0][0]              \n",
      "__________________________________________________________________________________________________\n",
      "Embedding-Token-Segment (Add)   (None, 52, 768)      0           Embedding-Token[0][0]            \n",
      "                                                                 Embedding-Segment[0][0]          \n",
      "__________________________________________________________________________________________________\n",
      "Embedding-Position (PositionEmb (None, 52, 768)      39936       Embedding-Token-Segment[0][0]    \n",
      "__________________________________________________________________________________________________\n",
      "Embedding-Dropout (Dropout)     (None, 52, 768)      0           Embedding-Position[0][0]         \n",
      "__________________________________________________________________________________________________\n",
      "Embedding-Norm (LayerNormalizat (None, 52, 768)      1536        Embedding-Dropout[0][0]          \n",
      "__________________________________________________________________________________________________\n",
      "Encoder-1-MultiHeadSelfAttentio (None, 52, 768)      2362368     Embedding-Norm[0][0]             \n",
      "__________________________________________________________________________________________________\n",
      "Encoder-1-MultiHeadSelfAttentio (None, 52, 768)      0           Encoder-1-MultiHeadSelfAttention[\n",
      "__________________________________________________________________________________________________\n",
      "Encoder-1-MultiHeadSelfAttentio (None, 52, 768)      0           Embedding-Norm[0][0]             \n",
      "                                                                 Encoder-1-MultiHeadSelfAttention-\n",
      "__________________________________________________________________________________________________\n",
      "Encoder-1-MultiHeadSelfAttentio (None, 52, 768)      1536        Encoder-1-MultiHeadSelfAttention-\n",
      "__________________________________________________________________________________________________\n",
      "Encoder-1-FeedForward (FeedForw (None, 52, 768)      4722432     Encoder-1-MultiHeadSelfAttention-\n",
      "__________________________________________________________________________________________________\n",
      "Encoder-1-FeedForward-Dropout ( (None, 52, 768)      0           Encoder-1-FeedForward[0][0]      \n",
      "__________________________________________________________________________________________________\n",
      "Encoder-1-FeedForward-Add (Add) (None, 52, 768)      0           Encoder-1-MultiHeadSelfAttention-\n",
      "                                                                 Encoder-1-FeedForward-Dropout[0][\n",
      "__________________________________________________________________________________________________\n",
      "Encoder-1-FeedForward-Norm (Lay (None, 52, 768)      1536        Encoder-1-FeedForward-Add[0][0]  \n",
      "__________________________________________________________________________________________________\n",
      "Encoder-2-MultiHeadSelfAttentio (None, 52, 768)      2362368     Encoder-1-FeedForward-Norm[0][0] \n",
      "__________________________________________________________________________________________________\n",
      "Encoder-2-MultiHeadSelfAttentio (None, 52, 768)      0           Encoder-2-MultiHeadSelfAttention[\n",
      "__________________________________________________________________________________________________\n",
      "Encoder-2-MultiHeadSelfAttentio (None, 52, 768)      0           Encoder-1-FeedForward-Norm[0][0] \n",
      "                                                                 Encoder-2-MultiHeadSelfAttention-\n",
      "__________________________________________________________________________________________________\n",
      "Encoder-2-MultiHeadSelfAttentio (None, 52, 768)      1536        Encoder-2-MultiHeadSelfAttention-\n",
      "__________________________________________________________________________________________________\n",
      "Encoder-2-FeedForward (FeedForw (None, 52, 768)      4722432     Encoder-2-MultiHeadSelfAttention-\n",
      "__________________________________________________________________________________________________\n",
      "Encoder-2-FeedForward-Dropout ( (None, 52, 768)      0           Encoder-2-FeedForward[0][0]      \n",
      "__________________________________________________________________________________________________\n",
      "Encoder-2-FeedForward-Add (Add) (None, 52, 768)      0           Encoder-2-MultiHeadSelfAttention-\n",
      "                                                                 Encoder-2-FeedForward-Dropout[0][\n",
      "__________________________________________________________________________________________________\n",
      "Encoder-2-FeedForward-Norm (Lay (None, 52, 768)      1536        Encoder-2-FeedForward-Add[0][0]  \n",
      "__________________________________________________________________________________________________\n",
      "Encoder-3-MultiHeadSelfAttentio (None, 52, 768)      2362368     Encoder-2-FeedForward-Norm[0][0] \n",
      "__________________________________________________________________________________________________\n",
      "Encoder-3-MultiHeadSelfAttentio (None, 52, 768)      0           Encoder-3-MultiHeadSelfAttention[\n",
      "__________________________________________________________________________________________________\n",
      "Encoder-3-MultiHeadSelfAttentio (None, 52, 768)      0           Encoder-2-FeedForward-Norm[0][0] \n",
      "                                                                 Encoder-3-MultiHeadSelfAttention-\n",
      "__________________________________________________________________________________________________\n",
      "Encoder-3-MultiHeadSelfAttentio (None, 52, 768)      1536        Encoder-3-MultiHeadSelfAttention-\n",
      "__________________________________________________________________________________________________\n",
      "Encoder-3-FeedForward (FeedForw (None, 52, 768)      4722432     Encoder-3-MultiHeadSelfAttention-\n",
      "__________________________________________________________________________________________________\n",
      "Encoder-3-FeedForward-Dropout ( (None, 52, 768)      0           Encoder-3-FeedForward[0][0]      \n",
      "__________________________________________________________________________________________________\n",
      "Encoder-3-FeedForward-Add (Add) (None, 52, 768)      0           Encoder-3-MultiHeadSelfAttention-\n",
      "                                                                 Encoder-3-FeedForward-Dropout[0][\n",
      "__________________________________________________________________________________________________\n",
      "Encoder-3-FeedForward-Norm (Lay (None, 52, 768)      1536        Encoder-3-FeedForward-Add[0][0]  \n",
      "__________________________________________________________________________________________________\n",
      "Encoder-4-MultiHeadSelfAttentio (None, 52, 768)      2362368     Encoder-3-FeedForward-Norm[0][0] \n",
      "__________________________________________________________________________________________________\n",
      "Encoder-4-MultiHeadSelfAttentio (None, 52, 768)      0           Encoder-4-MultiHeadSelfAttention[\n",
      "__________________________________________________________________________________________________\n",
      "Encoder-4-MultiHeadSelfAttentio (None, 52, 768)      0           Encoder-3-FeedForward-Norm[0][0] \n",
      "                                                                 Encoder-4-MultiHeadSelfAttention-\n",
      "__________________________________________________________________________________________________\n",
      "Encoder-4-MultiHeadSelfAttentio (None, 52, 768)      1536        Encoder-4-MultiHeadSelfAttention-\n",
      "__________________________________________________________________________________________________\n",
      "Encoder-4-FeedForward (FeedForw (None, 52, 768)      4722432     Encoder-4-MultiHeadSelfAttention-\n",
      "__________________________________________________________________________________________________\n",
      "Encoder-4-FeedForward-Dropout ( (None, 52, 768)      0           Encoder-4-FeedForward[0][0]      \n",
      "__________________________________________________________________________________________________\n",
      "Encoder-4-FeedForward-Add (Add) (None, 52, 768)      0           Encoder-4-MultiHeadSelfAttention-\n",
      "                                                                 Encoder-4-FeedForward-Dropout[0][\n",
      "__________________________________________________________________________________________________\n",
      "Encoder-4-FeedForward-Norm (Lay (None, 52, 768)      1536        Encoder-4-FeedForward-Add[0][0]  \n",
      "__________________________________________________________________________________________________\n",
      "Encoder-5-MultiHeadSelfAttentio (None, 52, 768)      2362368     Encoder-4-FeedForward-Norm[0][0] \n",
      "__________________________________________________________________________________________________\n",
      "Encoder-5-MultiHeadSelfAttentio (None, 52, 768)      0           Encoder-5-MultiHeadSelfAttention[\n",
      "__________________________________________________________________________________________________\n",
      "Encoder-5-MultiHeadSelfAttentio (None, 52, 768)      0           Encoder-4-FeedForward-Norm[0][0] \n",
      "                                                                 Encoder-5-MultiHeadSelfAttention-\n",
      "__________________________________________________________________________________________________\n",
      "Encoder-5-MultiHeadSelfAttentio (None, 52, 768)      1536        Encoder-5-MultiHeadSelfAttention-\n",
      "__________________________________________________________________________________________________\n",
      "Encoder-5-FeedForward (FeedForw (None, 52, 768)      4722432     Encoder-5-MultiHeadSelfAttention-\n",
      "__________________________________________________________________________________________________\n",
      "Encoder-5-FeedForward-Dropout ( (None, 52, 768)      0           Encoder-5-FeedForward[0][0]      \n",
      "__________________________________________________________________________________________________\n",
      "Encoder-5-FeedForward-Add (Add) (None, 52, 768)      0           Encoder-5-MultiHeadSelfAttention-\n",
      "                                                                 Encoder-5-FeedForward-Dropout[0][\n",
      "__________________________________________________________________________________________________\n",
      "Encoder-5-FeedForward-Norm (Lay (None, 52, 768)      1536        Encoder-5-FeedForward-Add[0][0]  \n",
      "__________________________________________________________________________________________________\n",
      "Encoder-6-MultiHeadSelfAttentio (None, 52, 768)      2362368     Encoder-5-FeedForward-Norm[0][0] \n",
      "__________________________________________________________________________________________________\n",
      "Encoder-6-MultiHeadSelfAttentio (None, 52, 768)      0           Encoder-6-MultiHeadSelfAttention[\n",
      "__________________________________________________________________________________________________\n",
      "Encoder-6-MultiHeadSelfAttentio (None, 52, 768)      0           Encoder-5-FeedForward-Norm[0][0] \n",
      "                                                                 Encoder-6-MultiHeadSelfAttention-\n",
      "__________________________________________________________________________________________________\n",
      "Encoder-6-MultiHeadSelfAttentio (None, 52, 768)      1536        Encoder-6-MultiHeadSelfAttention-\n",
      "__________________________________________________________________________________________________\n",
      "Encoder-6-FeedForward (FeedForw (None, 52, 768)      4722432     Encoder-6-MultiHeadSelfAttention-\n",
      "__________________________________________________________________________________________________\n",
      "Encoder-6-FeedForward-Dropout ( (None, 52, 768)      0           Encoder-6-FeedForward[0][0]      \n",
      "__________________________________________________________________________________________________\n",
      "Encoder-6-FeedForward-Add (Add) (None, 52, 768)      0           Encoder-6-MultiHeadSelfAttention-\n",
      "                                                                 Encoder-6-FeedForward-Dropout[0][\n",
      "__________________________________________________________________________________________________\n",
      "Encoder-6-FeedForward-Norm (Lay (None, 52, 768)      1536        Encoder-6-FeedForward-Add[0][0]  \n",
      "__________________________________________________________________________________________________\n",
      "Encoder-7-MultiHeadSelfAttentio (None, 52, 768)      2362368     Encoder-6-FeedForward-Norm[0][0] \n",
      "__________________________________________________________________________________________________\n",
      "Encoder-7-MultiHeadSelfAttentio (None, 52, 768)      0           Encoder-7-MultiHeadSelfAttention[\n",
      "__________________________________________________________________________________________________\n",
      "Encoder-7-MultiHeadSelfAttentio (None, 52, 768)      0           Encoder-6-FeedForward-Norm[0][0] \n",
      "                                                                 Encoder-7-MultiHeadSelfAttention-\n",
      "__________________________________________________________________________________________________\n",
      "Encoder-7-MultiHeadSelfAttentio (None, 52, 768)      1536        Encoder-7-MultiHeadSelfAttention-\n",
      "__________________________________________________________________________________________________\n",
      "Encoder-7-FeedForward (FeedForw (None, 52, 768)      4722432     Encoder-7-MultiHeadSelfAttention-\n",
      "__________________________________________________________________________________________________\n",
      "Encoder-7-FeedForward-Dropout ( (None, 52, 768)      0           Encoder-7-FeedForward[0][0]      \n",
      "__________________________________________________________________________________________________\n",
      "Encoder-7-FeedForward-Add (Add) (None, 52, 768)      0           Encoder-7-MultiHeadSelfAttention-\n",
      "                                                                 Encoder-7-FeedForward-Dropout[0][\n",
      "__________________________________________________________________________________________________\n",
      "Encoder-7-FeedForward-Norm (Lay (None, 52, 768)      1536        Encoder-7-FeedForward-Add[0][0]  \n",
      "__________________________________________________________________________________________________\n",
      "Encoder-8-MultiHeadSelfAttentio (None, 52, 768)      2362368     Encoder-7-FeedForward-Norm[0][0] \n",
      "__________________________________________________________________________________________________\n",
      "Encoder-8-MultiHeadSelfAttentio (None, 52, 768)      0           Encoder-8-MultiHeadSelfAttention[\n",
      "__________________________________________________________________________________________________\n",
      "Encoder-8-MultiHeadSelfAttentio (None, 52, 768)      0           Encoder-7-FeedForward-Norm[0][0] \n",
      "                                                                 Encoder-8-MultiHeadSelfAttention-\n",
      "__________________________________________________________________________________________________\n",
      "Encoder-8-MultiHeadSelfAttentio (None, 52, 768)      1536        Encoder-8-MultiHeadSelfAttention-\n",
      "__________________________________________________________________________________________________\n",
      "Encoder-8-FeedForward (FeedForw (None, 52, 768)      4722432     Encoder-8-MultiHeadSelfAttention-\n",
      "__________________________________________________________________________________________________\n",
      "Encoder-8-FeedForward-Dropout ( (None, 52, 768)      0           Encoder-8-FeedForward[0][0]      \n",
      "__________________________________________________________________________________________________\n",
      "Encoder-8-FeedForward-Add (Add) (None, 52, 768)      0           Encoder-8-MultiHeadSelfAttention-\n",
      "                                                                 Encoder-8-FeedForward-Dropout[0][\n",
      "__________________________________________________________________________________________________\n",
      "Encoder-8-FeedForward-Norm (Lay (None, 52, 768)      1536        Encoder-8-FeedForward-Add[0][0]  \n",
      "__________________________________________________________________________________________________\n",
      "Encoder-9-MultiHeadSelfAttentio (None, 52, 768)      2362368     Encoder-8-FeedForward-Norm[0][0] \n",
      "__________________________________________________________________________________________________\n",
      "Encoder-9-MultiHeadSelfAttentio (None, 52, 768)      0           Encoder-9-MultiHeadSelfAttention[\n",
      "__________________________________________________________________________________________________\n",
      "Encoder-9-MultiHeadSelfAttentio (None, 52, 768)      0           Encoder-8-FeedForward-Norm[0][0] \n",
      "                                                                 Encoder-9-MultiHeadSelfAttention-\n",
      "__________________________________________________________________________________________________\n",
      "Encoder-9-MultiHeadSelfAttentio (None, 52, 768)      1536        Encoder-9-MultiHeadSelfAttention-\n",
      "__________________________________________________________________________________________________\n",
      "Encoder-9-FeedForward (FeedForw (None, 52, 768)      4722432     Encoder-9-MultiHeadSelfAttention-\n",
      "__________________________________________________________________________________________________\n",
      "Encoder-9-FeedForward-Dropout ( (None, 52, 768)      0           Encoder-9-FeedForward[0][0]      \n",
      "__________________________________________________________________________________________________\n",
      "Encoder-9-FeedForward-Add (Add) (None, 52, 768)      0           Encoder-9-MultiHeadSelfAttention-\n",
      "                                                                 Encoder-9-FeedForward-Dropout[0][\n",
      "__________________________________________________________________________________________________\n",
      "Encoder-9-FeedForward-Norm (Lay (None, 52, 768)      1536        Encoder-9-FeedForward-Add[0][0]  \n",
      "__________________________________________________________________________________________________\n",
      "Encoder-10-MultiHeadSelfAttenti (None, 52, 768)      2362368     Encoder-9-FeedForward-Norm[0][0] \n",
      "__________________________________________________________________________________________________\n",
      "Encoder-10-MultiHeadSelfAttenti (None, 52, 768)      0           Encoder-10-MultiHeadSelfAttention\n",
      "__________________________________________________________________________________________________\n",
      "Encoder-10-MultiHeadSelfAttenti (None, 52, 768)      0           Encoder-9-FeedForward-Norm[0][0] \n",
      "                                                                 Encoder-10-MultiHeadSelfAttention\n",
      "__________________________________________________________________________________________________\n",
      "Encoder-10-MultiHeadSelfAttenti (None, 52, 768)      1536        Encoder-10-MultiHeadSelfAttention\n",
      "__________________________________________________________________________________________________\n",
      "Encoder-10-FeedForward (FeedFor (None, 52, 768)      4722432     Encoder-10-MultiHeadSelfAttention\n",
      "__________________________________________________________________________________________________\n",
      "Encoder-10-FeedForward-Dropout  (None, 52, 768)      0           Encoder-10-FeedForward[0][0]     \n",
      "__________________________________________________________________________________________________\n",
      "Encoder-10-FeedForward-Add (Add (None, 52, 768)      0           Encoder-10-MultiHeadSelfAttention\n",
      "                                                                 Encoder-10-FeedForward-Dropout[0]\n",
      "__________________________________________________________________________________________________\n",
      "Encoder-10-FeedForward-Norm (La (None, 52, 768)      1536        Encoder-10-FeedForward-Add[0][0] \n",
      "__________________________________________________________________________________________________\n",
      "Encoder-11-MultiHeadSelfAttenti (None, 52, 768)      2362368     Encoder-10-FeedForward-Norm[0][0]\n",
      "__________________________________________________________________________________________________\n",
      "Encoder-11-MultiHeadSelfAttenti (None, 52, 768)      0           Encoder-11-MultiHeadSelfAttention\n",
      "__________________________________________________________________________________________________\n",
      "Encoder-11-MultiHeadSelfAttenti (None, 52, 768)      0           Encoder-10-FeedForward-Norm[0][0]\n",
      "                                                                 Encoder-11-MultiHeadSelfAttention\n",
      "__________________________________________________________________________________________________\n",
      "Encoder-11-MultiHeadSelfAttenti (None, 52, 768)      1536        Encoder-11-MultiHeadSelfAttention\n",
      "__________________________________________________________________________________________________\n",
      "Encoder-11-FeedForward (FeedFor (None, 52, 768)      4722432     Encoder-11-MultiHeadSelfAttention\n",
      "__________________________________________________________________________________________________\n",
      "Encoder-11-FeedForward-Dropout  (None, 52, 768)      0           Encoder-11-FeedForward[0][0]     \n",
      "__________________________________________________________________________________________________\n",
      "Encoder-11-FeedForward-Add (Add (None, 52, 768)      0           Encoder-11-MultiHeadSelfAttention\n",
      "                                                                 Encoder-11-FeedForward-Dropout[0]\n",
      "__________________________________________________________________________________________________\n",
      "Encoder-11-FeedForward-Norm (La (None, 52, 768)      1536        Encoder-11-FeedForward-Add[0][0] \n",
      "__________________________________________________________________________________________________\n",
      "Encoder-12-MultiHeadSelfAttenti (None, 52, 768)      2362368     Encoder-11-FeedForward-Norm[0][0]\n",
      "__________________________________________________________________________________________________\n",
      "Encoder-12-MultiHeadSelfAttenti (None, 52, 768)      0           Encoder-12-MultiHeadSelfAttention\n",
      "__________________________________________________________________________________________________\n",
      "Encoder-12-MultiHeadSelfAttenti (None, 52, 768)      0           Encoder-11-FeedForward-Norm[0][0]\n",
      "                                                                 Encoder-12-MultiHeadSelfAttention\n",
      "__________________________________________________________________________________________________\n",
      "Encoder-12-MultiHeadSelfAttenti (None, 52, 768)      1536        Encoder-12-MultiHeadSelfAttention\n",
      "__________________________________________________________________________________________________\n",
      "Encoder-12-FeedForward (FeedFor (None, 52, 768)      4722432     Encoder-12-MultiHeadSelfAttention\n",
      "__________________________________________________________________________________________________\n",
      "Encoder-12-FeedForward-Dropout  (None, 52, 768)      0           Encoder-12-FeedForward[0][0]     \n",
      "__________________________________________________________________________________________________\n",
      "Encoder-12-FeedForward-Add (Add (None, 52, 768)      0           Encoder-12-MultiHeadSelfAttention\n",
      "                                                                 Encoder-12-FeedForward-Dropout[0]\n",
      "__________________________________________________________________________________________________\n",
      "Encoder-12-FeedForward-Norm (La (None, 52, 768)      1536        Encoder-12-FeedForward-Add[0][0] \n",
      "==================================================================================================\n",
      "Total params: 108,538,368\n",
      "Trainable params: 0\n",
      "Non-trainable params: 108,538,368\n",
      "__________________________________________________________________________________________________\n"
     ]
    }
   ],
   "source": [
    "bert = load_trained_model_from_checkpoint(config_path, checkpoint_path, seq_len=MAX_SEQUENCE_LENGTH)\n",
    "bert.summary()"
   ]
  },
  {
   "cell_type": "code",
   "execution_count": 17,
   "metadata": {},
   "outputs": [
    {
     "data": {
      "text/plain": [
       "(2, 52, 768)"
      ]
     },
     "execution_count": 17,
     "metadata": {},
     "output_type": "execute_result"
    }
   ],
   "source": [
    "predictions = bert.predict([indices, np.zeros(indices.shape)])\n",
    "predictions.shape"
   ]
  },
  {
   "cell_type": "code",
   "execution_count": 85,
   "metadata": {},
   "outputs": [
    {
     "name": "stdout",
     "output_type": "stream",
     "text": [
      "__________________________________________________________________________________________________\n",
      "Layer (type)                    Output Shape         Param #     Connected to                     \n",
      "==================================================================================================\n",
      "Input-Token (InputLayer)        (None, 52)           0                                            \n",
      "__________________________________________________________________________________________________\n",
      "Input-Segment (InputLayer)      (None, 52)           0                                            \n",
      "__________________________________________________________________________________________________\n",
      "Embedding-Token (TokenEmbedding [(None, 52, 768), (3 23440896    Input-Token[0][0]                \n",
      "__________________________________________________________________________________________________\n",
      "Embedding-Segment (Embedding)   (None, 52, 768)      1536        Input-Segment[0][0]              \n",
      "__________________________________________________________________________________________________\n",
      "Embedding-Token-Segment (Add)   (None, 52, 768)      0           Embedding-Token[0][0]            \n",
      "                                                                 Embedding-Segment[0][0]          \n",
      "__________________________________________________________________________________________________\n",
      "Embedding-Position (PositionEmb (None, 52, 768)      39936       Embedding-Token-Segment[0][0]    \n",
      "__________________________________________________________________________________________________\n",
      "Embedding-Dropout (Dropout)     (None, 52, 768)      0           Embedding-Position[0][0]         \n",
      "__________________________________________________________________________________________________\n",
      "Embedding-Norm (LayerNormalizat (None, 52, 768)      1536        Embedding-Dropout[0][0]          \n",
      "__________________________________________________________________________________________________\n",
      "Encoder-1-MultiHeadSelfAttentio (None, 52, 768)      2362368     Embedding-Norm[0][0]             \n",
      "__________________________________________________________________________________________________\n",
      "Encoder-1-MultiHeadSelfAttentio (None, 52, 768)      0           Encoder-1-MultiHeadSelfAttention[\n",
      "__________________________________________________________________________________________________\n",
      "Encoder-1-MultiHeadSelfAttentio (None, 52, 768)      0           Embedding-Norm[0][0]             \n",
      "                                                                 Encoder-1-MultiHeadSelfAttention-\n",
      "__________________________________________________________________________________________________\n",
      "Encoder-1-MultiHeadSelfAttentio (None, 52, 768)      1536        Encoder-1-MultiHeadSelfAttention-\n",
      "__________________________________________________________________________________________________\n",
      "Encoder-1-FeedForward (FeedForw (None, 52, 768)      4722432     Encoder-1-MultiHeadSelfAttention-\n",
      "__________________________________________________________________________________________________\n",
      "Encoder-1-FeedForward-Dropout ( (None, 52, 768)      0           Encoder-1-FeedForward[0][0]      \n",
      "__________________________________________________________________________________________________\n",
      "Encoder-1-FeedForward-Add (Add) (None, 52, 768)      0           Encoder-1-MultiHeadSelfAttention-\n",
      "                                                                 Encoder-1-FeedForward-Dropout[0][\n",
      "__________________________________________________________________________________________________\n",
      "Encoder-1-FeedForward-Norm (Lay (None, 52, 768)      1536        Encoder-1-FeedForward-Add[0][0]  \n",
      "__________________________________________________________________________________________________\n",
      "Encoder-2-MultiHeadSelfAttentio (None, 52, 768)      2362368     Encoder-1-FeedForward-Norm[0][0] \n",
      "__________________________________________________________________________________________________\n",
      "Encoder-2-MultiHeadSelfAttentio (None, 52, 768)      0           Encoder-2-MultiHeadSelfAttention[\n",
      "__________________________________________________________________________________________________\n",
      "Encoder-2-MultiHeadSelfAttentio (None, 52, 768)      0           Encoder-1-FeedForward-Norm[0][0] \n",
      "                                                                 Encoder-2-MultiHeadSelfAttention-\n",
      "__________________________________________________________________________________________________\n",
      "Encoder-2-MultiHeadSelfAttentio (None, 52, 768)      1536        Encoder-2-MultiHeadSelfAttention-\n",
      "__________________________________________________________________________________________________\n",
      "Encoder-2-FeedForward (FeedForw (None, 52, 768)      4722432     Encoder-2-MultiHeadSelfAttention-\n",
      "__________________________________________________________________________________________________\n",
      "Encoder-2-FeedForward-Dropout ( (None, 52, 768)      0           Encoder-2-FeedForward[0][0]      \n",
      "__________________________________________________________________________________________________\n",
      "Encoder-2-FeedForward-Add (Add) (None, 52, 768)      0           Encoder-2-MultiHeadSelfAttention-\n",
      "                                                                 Encoder-2-FeedForward-Dropout[0][\n",
      "__________________________________________________________________________________________________\n",
      "Encoder-2-FeedForward-Norm (Lay (None, 52, 768)      1536        Encoder-2-FeedForward-Add[0][0]  \n",
      "__________________________________________________________________________________________________\n",
      "Encoder-3-MultiHeadSelfAttentio (None, 52, 768)      2362368     Encoder-2-FeedForward-Norm[0][0] \n",
      "__________________________________________________________________________________________________\n",
      "Encoder-3-MultiHeadSelfAttentio (None, 52, 768)      0           Encoder-3-MultiHeadSelfAttention[\n",
      "__________________________________________________________________________________________________\n",
      "Encoder-3-MultiHeadSelfAttentio (None, 52, 768)      0           Encoder-2-FeedForward-Norm[0][0] \n",
      "                                                                 Encoder-3-MultiHeadSelfAttention-\n",
      "__________________________________________________________________________________________________\n",
      "Encoder-3-MultiHeadSelfAttentio (None, 52, 768)      1536        Encoder-3-MultiHeadSelfAttention-\n",
      "__________________________________________________________________________________________________\n",
      "Encoder-3-FeedForward (FeedForw (None, 52, 768)      4722432     Encoder-3-MultiHeadSelfAttention-\n",
      "__________________________________________________________________________________________________\n",
      "Encoder-3-FeedForward-Dropout ( (None, 52, 768)      0           Encoder-3-FeedForward[0][0]      \n",
      "__________________________________________________________________________________________________\n",
      "Encoder-3-FeedForward-Add (Add) (None, 52, 768)      0           Encoder-3-MultiHeadSelfAttention-\n",
      "                                                                 Encoder-3-FeedForward-Dropout[0][\n",
      "__________________________________________________________________________________________________\n",
      "Encoder-3-FeedForward-Norm (Lay (None, 52, 768)      1536        Encoder-3-FeedForward-Add[0][0]  \n",
      "__________________________________________________________________________________________________\n",
      "Encoder-4-MultiHeadSelfAttentio (None, 52, 768)      2362368     Encoder-3-FeedForward-Norm[0][0] \n",
      "__________________________________________________________________________________________________\n",
      "Encoder-4-MultiHeadSelfAttentio (None, 52, 768)      0           Encoder-4-MultiHeadSelfAttention[\n",
      "__________________________________________________________________________________________________\n",
      "Encoder-4-MultiHeadSelfAttentio (None, 52, 768)      0           Encoder-3-FeedForward-Norm[0][0] \n",
      "                                                                 Encoder-4-MultiHeadSelfAttention-\n",
      "__________________________________________________________________________________________________\n",
      "Encoder-4-MultiHeadSelfAttentio (None, 52, 768)      1536        Encoder-4-MultiHeadSelfAttention-\n",
      "__________________________________________________________________________________________________\n",
      "Encoder-4-FeedForward (FeedForw (None, 52, 768)      4722432     Encoder-4-MultiHeadSelfAttention-\n",
      "__________________________________________________________________________________________________\n",
      "Encoder-4-FeedForward-Dropout ( (None, 52, 768)      0           Encoder-4-FeedForward[0][0]      \n",
      "__________________________________________________________________________________________________\n",
      "Encoder-4-FeedForward-Add (Add) (None, 52, 768)      0           Encoder-4-MultiHeadSelfAttention-\n",
      "                                                                 Encoder-4-FeedForward-Dropout[0][\n",
      "__________________________________________________________________________________________________\n",
      "Encoder-4-FeedForward-Norm (Lay (None, 52, 768)      1536        Encoder-4-FeedForward-Add[0][0]  \n",
      "__________________________________________________________________________________________________\n",
      "Encoder-5-MultiHeadSelfAttentio (None, 52, 768)      2362368     Encoder-4-FeedForward-Norm[0][0] \n",
      "__________________________________________________________________________________________________\n",
      "Encoder-5-MultiHeadSelfAttentio (None, 52, 768)      0           Encoder-5-MultiHeadSelfAttention[\n",
      "__________________________________________________________________________________________________\n",
      "Encoder-5-MultiHeadSelfAttentio (None, 52, 768)      0           Encoder-4-FeedForward-Norm[0][0] \n",
      "                                                                 Encoder-5-MultiHeadSelfAttention-\n",
      "__________________________________________________________________________________________________\n",
      "Encoder-5-MultiHeadSelfAttentio (None, 52, 768)      1536        Encoder-5-MultiHeadSelfAttention-\n",
      "__________________________________________________________________________________________________\n",
      "Encoder-5-FeedForward (FeedForw (None, 52, 768)      4722432     Encoder-5-MultiHeadSelfAttention-\n",
      "__________________________________________________________________________________________________\n",
      "Encoder-5-FeedForward-Dropout ( (None, 52, 768)      0           Encoder-5-FeedForward[0][0]      \n",
      "__________________________________________________________________________________________________\n",
      "Encoder-5-FeedForward-Add (Add) (None, 52, 768)      0           Encoder-5-MultiHeadSelfAttention-\n",
      "                                                                 Encoder-5-FeedForward-Dropout[0][\n",
      "__________________________________________________________________________________________________\n",
      "Encoder-5-FeedForward-Norm (Lay (None, 52, 768)      1536        Encoder-5-FeedForward-Add[0][0]  \n",
      "__________________________________________________________________________________________________\n",
      "Encoder-6-MultiHeadSelfAttentio (None, 52, 768)      2362368     Encoder-5-FeedForward-Norm[0][0] \n",
      "__________________________________________________________________________________________________\n",
      "Encoder-6-MultiHeadSelfAttentio (None, 52, 768)      0           Encoder-6-MultiHeadSelfAttention[\n",
      "__________________________________________________________________________________________________\n",
      "Encoder-6-MultiHeadSelfAttentio (None, 52, 768)      0           Encoder-5-FeedForward-Norm[0][0] \n",
      "                                                                 Encoder-6-MultiHeadSelfAttention-\n",
      "__________________________________________________________________________________________________\n",
      "Encoder-6-MultiHeadSelfAttentio (None, 52, 768)      1536        Encoder-6-MultiHeadSelfAttention-\n",
      "__________________________________________________________________________________________________\n",
      "Encoder-6-FeedForward (FeedForw (None, 52, 768)      4722432     Encoder-6-MultiHeadSelfAttention-\n",
      "__________________________________________________________________________________________________\n",
      "Encoder-6-FeedForward-Dropout ( (None, 52, 768)      0           Encoder-6-FeedForward[0][0]      \n",
      "__________________________________________________________________________________________________\n",
      "Encoder-6-FeedForward-Add (Add) (None, 52, 768)      0           Encoder-6-MultiHeadSelfAttention-\n",
      "                                                                 Encoder-6-FeedForward-Dropout[0][\n",
      "__________________________________________________________________________________________________\n",
      "Encoder-6-FeedForward-Norm (Lay (None, 52, 768)      1536        Encoder-6-FeedForward-Add[0][0]  \n",
      "__________________________________________________________________________________________________\n",
      "Encoder-7-MultiHeadSelfAttentio (None, 52, 768)      2362368     Encoder-6-FeedForward-Norm[0][0] \n",
      "__________________________________________________________________________________________________\n",
      "Encoder-7-MultiHeadSelfAttentio (None, 52, 768)      0           Encoder-7-MultiHeadSelfAttention[\n",
      "__________________________________________________________________________________________________\n",
      "Encoder-7-MultiHeadSelfAttentio (None, 52, 768)      0           Encoder-6-FeedForward-Norm[0][0] \n",
      "                                                                 Encoder-7-MultiHeadSelfAttention-\n",
      "__________________________________________________________________________________________________\n",
      "Encoder-7-MultiHeadSelfAttentio (None, 52, 768)      1536        Encoder-7-MultiHeadSelfAttention-\n",
      "__________________________________________________________________________________________________\n",
      "Encoder-7-FeedForward (FeedForw (None, 52, 768)      4722432     Encoder-7-MultiHeadSelfAttention-\n",
      "__________________________________________________________________________________________________\n",
      "Encoder-7-FeedForward-Dropout ( (None, 52, 768)      0           Encoder-7-FeedForward[0][0]      \n",
      "__________________________________________________________________________________________________\n",
      "Encoder-7-FeedForward-Add (Add) (None, 52, 768)      0           Encoder-7-MultiHeadSelfAttention-\n",
      "                                                                 Encoder-7-FeedForward-Dropout[0][\n",
      "__________________________________________________________________________________________________\n",
      "Encoder-7-FeedForward-Norm (Lay (None, 52, 768)      1536        Encoder-7-FeedForward-Add[0][0]  \n",
      "__________________________________________________________________________________________________\n",
      "Encoder-8-MultiHeadSelfAttentio (None, 52, 768)      2362368     Encoder-7-FeedForward-Norm[0][0] \n",
      "__________________________________________________________________________________________________\n",
      "Encoder-8-MultiHeadSelfAttentio (None, 52, 768)      0           Encoder-8-MultiHeadSelfAttention[\n",
      "__________________________________________________________________________________________________\n",
      "Encoder-8-MultiHeadSelfAttentio (None, 52, 768)      0           Encoder-7-FeedForward-Norm[0][0] \n",
      "                                                                 Encoder-8-MultiHeadSelfAttention-\n",
      "__________________________________________________________________________________________________\n",
      "Encoder-8-MultiHeadSelfAttentio (None, 52, 768)      1536        Encoder-8-MultiHeadSelfAttention-\n",
      "__________________________________________________________________________________________________\n",
      "Encoder-8-FeedForward (FeedForw (None, 52, 768)      4722432     Encoder-8-MultiHeadSelfAttention-\n",
      "__________________________________________________________________________________________________\n",
      "Encoder-8-FeedForward-Dropout ( (None, 52, 768)      0           Encoder-8-FeedForward[0][0]      \n",
      "__________________________________________________________________________________________________\n",
      "Encoder-8-FeedForward-Add (Add) (None, 52, 768)      0           Encoder-8-MultiHeadSelfAttention-\n",
      "                                                                 Encoder-8-FeedForward-Dropout[0][\n",
      "__________________________________________________________________________________________________\n",
      "Encoder-8-FeedForward-Norm (Lay (None, 52, 768)      1536        Encoder-8-FeedForward-Add[0][0]  \n",
      "__________________________________________________________________________________________________\n",
      "Encoder-9-MultiHeadSelfAttentio (None, 52, 768)      2362368     Encoder-8-FeedForward-Norm[0][0] \n",
      "__________________________________________________________________________________________________\n",
      "Encoder-9-MultiHeadSelfAttentio (None, 52, 768)      0           Encoder-9-MultiHeadSelfAttention[\n",
      "__________________________________________________________________________________________________\n",
      "Encoder-9-MultiHeadSelfAttentio (None, 52, 768)      0           Encoder-8-FeedForward-Norm[0][0] \n",
      "                                                                 Encoder-9-MultiHeadSelfAttention-\n",
      "__________________________________________________________________________________________________\n",
      "Encoder-9-MultiHeadSelfAttentio (None, 52, 768)      1536        Encoder-9-MultiHeadSelfAttention-\n",
      "__________________________________________________________________________________________________\n",
      "Encoder-9-FeedForward (FeedForw (None, 52, 768)      4722432     Encoder-9-MultiHeadSelfAttention-\n",
      "__________________________________________________________________________________________________\n",
      "Encoder-9-FeedForward-Dropout ( (None, 52, 768)      0           Encoder-9-FeedForward[0][0]      \n",
      "__________________________________________________________________________________________________\n",
      "Encoder-9-FeedForward-Add (Add) (None, 52, 768)      0           Encoder-9-MultiHeadSelfAttention-\n",
      "                                                                 Encoder-9-FeedForward-Dropout[0][\n",
      "__________________________________________________________________________________________________\n",
      "Encoder-9-FeedForward-Norm (Lay (None, 52, 768)      1536        Encoder-9-FeedForward-Add[0][0]  \n",
      "__________________________________________________________________________________________________\n",
      "Encoder-10-MultiHeadSelfAttenti (None, 52, 768)      2362368     Encoder-9-FeedForward-Norm[0][0] \n",
      "__________________________________________________________________________________________________\n",
      "Encoder-10-MultiHeadSelfAttenti (None, 52, 768)      0           Encoder-10-MultiHeadSelfAttention\n",
      "__________________________________________________________________________________________________\n",
      "Encoder-10-MultiHeadSelfAttenti (None, 52, 768)      0           Encoder-9-FeedForward-Norm[0][0] \n",
      "                                                                 Encoder-10-MultiHeadSelfAttention\n",
      "__________________________________________________________________________________________________\n",
      "Encoder-10-MultiHeadSelfAttenti (None, 52, 768)      1536        Encoder-10-MultiHeadSelfAttention\n",
      "__________________________________________________________________________________________________\n",
      "Encoder-10-FeedForward (FeedFor (None, 52, 768)      4722432     Encoder-10-MultiHeadSelfAttention\n",
      "__________________________________________________________________________________________________\n",
      "Encoder-10-FeedForward-Dropout  (None, 52, 768)      0           Encoder-10-FeedForward[0][0]     \n",
      "__________________________________________________________________________________________________\n",
      "Encoder-10-FeedForward-Add (Add (None, 52, 768)      0           Encoder-10-MultiHeadSelfAttention\n",
      "                                                                 Encoder-10-FeedForward-Dropout[0]\n",
      "__________________________________________________________________________________________________\n",
      "Encoder-10-FeedForward-Norm (La (None, 52, 768)      1536        Encoder-10-FeedForward-Add[0][0] \n",
      "__________________________________________________________________________________________________\n",
      "Encoder-11-MultiHeadSelfAttenti (None, 52, 768)      2362368     Encoder-10-FeedForward-Norm[0][0]\n",
      "__________________________________________________________________________________________________\n",
      "Encoder-11-MultiHeadSelfAttenti (None, 52, 768)      0           Encoder-11-MultiHeadSelfAttention\n",
      "__________________________________________________________________________________________________\n",
      "Encoder-11-MultiHeadSelfAttenti (None, 52, 768)      0           Encoder-10-FeedForward-Norm[0][0]\n",
      "                                                                 Encoder-11-MultiHeadSelfAttention\n",
      "__________________________________________________________________________________________________\n",
      "Encoder-11-MultiHeadSelfAttenti (None, 52, 768)      1536        Encoder-11-MultiHeadSelfAttention\n",
      "__________________________________________________________________________________________________\n",
      "Encoder-11-FeedForward (FeedFor (None, 52, 768)      4722432     Encoder-11-MultiHeadSelfAttention\n",
      "__________________________________________________________________________________________________\n",
      "Encoder-11-FeedForward-Dropout  (None, 52, 768)      0           Encoder-11-FeedForward[0][0]     \n",
      "__________________________________________________________________________________________________\n",
      "Encoder-11-FeedForward-Add (Add (None, 52, 768)      0           Encoder-11-MultiHeadSelfAttention\n",
      "                                                                 Encoder-11-FeedForward-Dropout[0]\n",
      "__________________________________________________________________________________________________\n",
      "Encoder-11-FeedForward-Norm (La (None, 52, 768)      1536        Encoder-11-FeedForward-Add[0][0] \n",
      "__________________________________________________________________________________________________\n",
      "Encoder-12-MultiHeadSelfAttenti (None, 52, 768)      2362368     Encoder-11-FeedForward-Norm[0][0]\n",
      "__________________________________________________________________________________________________\n",
      "Encoder-12-MultiHeadSelfAttenti (None, 52, 768)      0           Encoder-12-MultiHeadSelfAttention\n",
      "__________________________________________________________________________________________________\n",
      "Encoder-12-MultiHeadSelfAttenti (None, 52, 768)      0           Encoder-11-FeedForward-Norm[0][0]\n",
      "                                                                 Encoder-12-MultiHeadSelfAttention\n",
      "__________________________________________________________________________________________________\n",
      "Encoder-12-MultiHeadSelfAttenti (None, 52, 768)      1536        Encoder-12-MultiHeadSelfAttention\n",
      "__________________________________________________________________________________________________\n",
      "Encoder-12-FeedForward (FeedFor (None, 52, 768)      4722432     Encoder-12-MultiHeadSelfAttention\n",
      "__________________________________________________________________________________________________\n",
      "Encoder-12-FeedForward-Dropout  (None, 52, 768)      0           Encoder-12-FeedForward[0][0]     \n",
      "__________________________________________________________________________________________________\n",
      "Encoder-12-FeedForward-Add (Add (None, 52, 768)      0           Encoder-12-MultiHeadSelfAttention\n",
      "                                                                 Encoder-12-FeedForward-Dropout[0]\n",
      "__________________________________________________________________________________________________\n",
      "Encoder-12-FeedForward-Norm (La (None, 52, 768)      1536        Encoder-12-FeedForward-Add[0][0] \n",
      "__________________________________________________________________________________________________\n",
      "concatenate_6 (Concatenate)     (None, 52, 2304)     0           Encoder-12-FeedForward-Norm[0][0]\n",
      "                                                                 Encoder-12-FeedForward-Add[0][0] \n",
      "                                                                 Encoder-12-FeedForward-Dropout[0]\n",
      "==================================================================================================\n",
      "Total params: 108,538,368\n",
      "Trainable params: 0\n",
      "Non-trainable params: 108,538,368\n",
      "__________________________________________________________________________________________________\n"
     ]
    }
   ],
   "source": [
    "output = Concatenate()([bert.layers[-1].output, bert.layers[-2].output, bert.layers[-3].output])\n",
    "# output = Add()([bert.layers[-1].output, bert.layers[-2].output, bert.layers[-3].output])\n",
    "\n",
    "bert_model = Model(bert.input, output)\n",
    "bert_model.trainable = False\n",
    "\n",
    "for layer in bert_model.layers:\n",
    "    layer.trainable = False\n",
    "    \n",
    "bert_model.summary()"
   ]
  },
  {
   "cell_type": "code",
   "execution_count": 86,
   "metadata": {},
   "outputs": [],
   "source": [
    "x = bert_model(bert.input)\n",
    "# x = Lambda(lambda x: x[:,0,:])(x) # to select one element only\n",
    "model = Model(bert.input, x)"
   ]
  },
  {
   "cell_type": "code",
   "execution_count": 87,
   "metadata": {
    "scrolled": true
   },
   "outputs": [
    {
     "data": {
      "text/html": [
       "<div>\n",
       "<style scoped>\n",
       "    .dataframe tbody tr th:only-of-type {\n",
       "        vertical-align: middle;\n",
       "    }\n",
       "\n",
       "    .dataframe tbody tr th {\n",
       "        vertical-align: top;\n",
       "    }\n",
       "\n",
       "    .dataframe thead th {\n",
       "        text-align: right;\n",
       "    }\n",
       "</style>\n",
       "<table border=\"1\" class=\"dataframe\">\n",
       "  <thead>\n",
       "    <tr style=\"text-align: right;\">\n",
       "      <th></th>\n",
       "      <th>Layer Type</th>\n",
       "      <th>Layer Name</th>\n",
       "      <th>Layer Trainable</th>\n",
       "    </tr>\n",
       "  </thead>\n",
       "  <tbody>\n",
       "    <tr>\n",
       "      <th>0</th>\n",
       "      <td>&lt;keras.engine.input_layer.InputLayer object at 0x000002565D50DC50&gt;</td>\n",
       "      <td>Input-Token</td>\n",
       "      <td>False</td>\n",
       "    </tr>\n",
       "    <tr>\n",
       "      <th>1</th>\n",
       "      <td>&lt;keras.engine.input_layer.InputLayer object at 0x000002565D50DF60&gt;</td>\n",
       "      <td>Input-Segment</td>\n",
       "      <td>False</td>\n",
       "    </tr>\n",
       "    <tr>\n",
       "      <th>2</th>\n",
       "      <td>&lt;keras_bert.layers.embedding.TokenEmbedding object at 0x00000256350DACF8&gt;</td>\n",
       "      <td>Embedding-Token</td>\n",
       "      <td>False</td>\n",
       "    </tr>\n",
       "    <tr>\n",
       "      <th>3</th>\n",
       "      <td>&lt;keras.layers.embeddings.Embedding object at 0x0000025640608550&gt;</td>\n",
       "      <td>Embedding-Segment</td>\n",
       "      <td>False</td>\n",
       "    </tr>\n",
       "    <tr>\n",
       "      <th>4</th>\n",
       "      <td>&lt;keras.layers.merge.Add object at 0x0000025640608198&gt;</td>\n",
       "      <td>Embedding-Token-Segment</td>\n",
       "      <td>False</td>\n",
       "    </tr>\n",
       "    <tr>\n",
       "      <th>5</th>\n",
       "      <td>&lt;keras_pos_embd.pos_embd.PositionEmbedding object at 0x00000256406089E8&gt;</td>\n",
       "      <td>Embedding-Position</td>\n",
       "      <td>False</td>\n",
       "    </tr>\n",
       "    <tr>\n",
       "      <th>6</th>\n",
       "      <td>&lt;keras.layers.core.Dropout object at 0x00000256406085F8&gt;</td>\n",
       "      <td>Embedding-Dropout</td>\n",
       "      <td>False</td>\n",
       "    </tr>\n",
       "    <tr>\n",
       "      <th>7</th>\n",
       "      <td>&lt;keras_layer_normalization.layer_normalization.LayerNormalization object at 0x0000025640644CF8&gt;</td>\n",
       "      <td>Embedding-Norm</td>\n",
       "      <td>False</td>\n",
       "    </tr>\n",
       "    <tr>\n",
       "      <th>8</th>\n",
       "      <td>&lt;keras_multi_head.multi_head_attention.MultiHeadAttention object at 0x0000025640608D68&gt;</td>\n",
       "      <td>Encoder-1-MultiHeadSelfAttention</td>\n",
       "      <td>False</td>\n",
       "    </tr>\n",
       "    <tr>\n",
       "      <th>9</th>\n",
       "      <td>&lt;keras.layers.core.Dropout object at 0x0000025640608518&gt;</td>\n",
       "      <td>Encoder-1-MultiHeadSelfAttention-Dropout</td>\n",
       "      <td>False</td>\n",
       "    </tr>\n",
       "    <tr>\n",
       "      <th>10</th>\n",
       "      <td>&lt;keras.layers.merge.Add object at 0x000002565D5A7A90&gt;</td>\n",
       "      <td>Encoder-1-MultiHeadSelfAttention-Add</td>\n",
       "      <td>False</td>\n",
       "    </tr>\n",
       "    <tr>\n",
       "      <th>11</th>\n",
       "      <td>&lt;keras_layer_normalization.layer_normalization.LayerNormalization object at 0x000002565D5D7CF8&gt;</td>\n",
       "      <td>Encoder-1-MultiHeadSelfAttention-Norm</td>\n",
       "      <td>False</td>\n",
       "    </tr>\n",
       "    <tr>\n",
       "      <th>12</th>\n",
       "      <td>&lt;keras_position_wise_feed_forward.feed_forward.FeedForward object at 0x000002565D5D74E0&gt;</td>\n",
       "      <td>Encoder-1-FeedForward</td>\n",
       "      <td>False</td>\n",
       "    </tr>\n",
       "    <tr>\n",
       "      <th>13</th>\n",
       "      <td>&lt;keras.layers.core.Dropout object at 0x00000256618A76A0&gt;</td>\n",
       "      <td>Encoder-1-FeedForward-Dropout</td>\n",
       "      <td>False</td>\n",
       "    </tr>\n",
       "    <tr>\n",
       "      <th>14</th>\n",
       "      <td>&lt;keras.layers.merge.Add object at 0x0000025661948080&gt;</td>\n",
       "      <td>Encoder-1-FeedForward-Add</td>\n",
       "      <td>False</td>\n",
       "    </tr>\n",
       "    <tr>\n",
       "      <th>15</th>\n",
       "      <td>&lt;keras_layer_normalization.layer_normalization.LayerNormalization object at 0x0000025661948F98&gt;</td>\n",
       "      <td>Encoder-1-FeedForward-Norm</td>\n",
       "      <td>False</td>\n",
       "    </tr>\n",
       "    <tr>\n",
       "      <th>16</th>\n",
       "      <td>&lt;keras_multi_head.multi_head_attention.MultiHeadAttention object at 0x0000025661948E10&gt;</td>\n",
       "      <td>Encoder-2-MultiHeadSelfAttention</td>\n",
       "      <td>False</td>\n",
       "    </tr>\n",
       "    <tr>\n",
       "      <th>17</th>\n",
       "      <td>&lt;keras.layers.core.Dropout object at 0x0000025661BF9D68&gt;</td>\n",
       "      <td>Encoder-2-MultiHeadSelfAttention-Dropout</td>\n",
       "      <td>False</td>\n",
       "    </tr>\n",
       "    <tr>\n",
       "      <th>18</th>\n",
       "      <td>&lt;keras.layers.merge.Add object at 0x0000025661C75BA8&gt;</td>\n",
       "      <td>Encoder-2-MultiHeadSelfAttention-Add</td>\n",
       "      <td>False</td>\n",
       "    </tr>\n",
       "    <tr>\n",
       "      <th>19</th>\n",
       "      <td>&lt;keras_layer_normalization.layer_normalization.LayerNormalization object at 0x0000025661C405C0&gt;</td>\n",
       "      <td>Encoder-2-MultiHeadSelfAttention-Norm</td>\n",
       "      <td>False</td>\n",
       "    </tr>\n",
       "    <tr>\n",
       "      <th>20</th>\n",
       "      <td>&lt;keras_position_wise_feed_forward.feed_forward.FeedForward object at 0x0000025661C40EB8&gt;</td>\n",
       "      <td>Encoder-2-FeedForward</td>\n",
       "      <td>False</td>\n",
       "    </tr>\n",
       "    <tr>\n",
       "      <th>21</th>\n",
       "      <td>&lt;keras.layers.core.Dropout object at 0x0000025662774D68&gt;</td>\n",
       "      <td>Encoder-2-FeedForward-Dropout</td>\n",
       "      <td>False</td>\n",
       "    </tr>\n",
       "    <tr>\n",
       "      <th>22</th>\n",
       "      <td>&lt;keras.layers.merge.Add object at 0x00000256628216D8&gt;</td>\n",
       "      <td>Encoder-2-FeedForward-Add</td>\n",
       "      <td>False</td>\n",
       "    </tr>\n",
       "    <tr>\n",
       "      <th>23</th>\n",
       "      <td>&lt;keras_layer_normalization.layer_normalization.LayerNormalization object at 0x00000256628218D0&gt;</td>\n",
       "      <td>Encoder-2-FeedForward-Norm</td>\n",
       "      <td>False</td>\n",
       "    </tr>\n",
       "    <tr>\n",
       "      <th>24</th>\n",
       "      <td>&lt;keras_multi_head.multi_head_attention.MultiHeadAttention object at 0x0000025662821EB8&gt;</td>\n",
       "      <td>Encoder-3-MultiHeadSelfAttention</td>\n",
       "      <td>False</td>\n",
       "    </tr>\n",
       "    <tr>\n",
       "      <th>25</th>\n",
       "      <td>&lt;keras.layers.core.Dropout object at 0x00000256628ACE48&gt;</td>\n",
       "      <td>Encoder-3-MultiHeadSelfAttention-Dropout</td>\n",
       "      <td>False</td>\n",
       "    </tr>\n",
       "    <tr>\n",
       "      <th>26</th>\n",
       "      <td>&lt;keras.layers.merge.Add object at 0x0000025662929128&gt;</td>\n",
       "      <td>Encoder-3-MultiHeadSelfAttention-Add</td>\n",
       "      <td>False</td>\n",
       "    </tr>\n",
       "    <tr>\n",
       "      <th>27</th>\n",
       "      <td>&lt;keras_layer_normalization.layer_normalization.LayerNormalization object at 0x0000025662929F98&gt;</td>\n",
       "      <td>Encoder-3-MultiHeadSelfAttention-Norm</td>\n",
       "      <td>False</td>\n",
       "    </tr>\n",
       "    <tr>\n",
       "      <th>28</th>\n",
       "      <td>&lt;keras_position_wise_feed_forward.feed_forward.FeedForward object at 0x0000025662929E80&gt;</td>\n",
       "      <td>Encoder-3-FeedForward</td>\n",
       "      <td>False</td>\n",
       "    </tr>\n",
       "    <tr>\n",
       "      <th>29</th>\n",
       "      <td>&lt;keras.layers.core.Dropout object at 0x0000025662B63940&gt;</td>\n",
       "      <td>Encoder-3-FeedForward-Dropout</td>\n",
       "      <td>False</td>\n",
       "    </tr>\n",
       "    <tr>\n",
       "      <th>...</th>\n",
       "      <td>...</td>\n",
       "      <td>...</td>\n",
       "      <td>...</td>\n",
       "    </tr>\n",
       "    <tr>\n",
       "      <th>75</th>\n",
       "      <td>&lt;keras_layer_normalization.layer_normalization.LayerNormalization object at 0x0000025665511A20&gt;</td>\n",
       "      <td>Encoder-9-MultiHeadSelfAttention-Norm</td>\n",
       "      <td>False</td>\n",
       "    </tr>\n",
       "    <tr>\n",
       "      <th>76</th>\n",
       "      <td>&lt;keras_position_wise_feed_forward.feed_forward.FeedForward object at 0x0000025665511EF0&gt;</td>\n",
       "      <td>Encoder-9-FeedForward</td>\n",
       "      <td>False</td>\n",
       "    </tr>\n",
       "    <tr>\n",
       "      <th>77</th>\n",
       "      <td>&lt;keras.layers.core.Dropout object at 0x0000025665755BE0&gt;</td>\n",
       "      <td>Encoder-9-FeedForward-Dropout</td>\n",
       "      <td>False</td>\n",
       "    </tr>\n",
       "    <tr>\n",
       "      <th>78</th>\n",
       "      <td>&lt;keras.layers.merge.Add object at 0x00000256657A4780&gt;</td>\n",
       "      <td>Encoder-9-FeedForward-Add</td>\n",
       "      <td>False</td>\n",
       "    </tr>\n",
       "    <tr>\n",
       "      <th>79</th>\n",
       "      <td>&lt;keras_layer_normalization.layer_normalization.LayerNormalization object at 0x00000256657FAE80&gt;</td>\n",
       "      <td>Encoder-9-FeedForward-Norm</td>\n",
       "      <td>False</td>\n",
       "    </tr>\n",
       "    <tr>\n",
       "      <th>80</th>\n",
       "      <td>&lt;keras_multi_head.multi_head_attention.MultiHeadAttention object at 0x00000256657FAB00&gt;</td>\n",
       "      <td>Encoder-10-MultiHeadSelfAttention</td>\n",
       "      <td>False</td>\n",
       "    </tr>\n",
       "    <tr>\n",
       "      <th>81</th>\n",
       "      <td>&lt;keras.layers.core.Dropout object at 0x0000025665889F60&gt;</td>\n",
       "      <td>Encoder-10-MultiHeadSelfAttention-Dropout</td>\n",
       "      <td>False</td>\n",
       "    </tr>\n",
       "    <tr>\n",
       "      <th>82</th>\n",
       "      <td>&lt;keras.layers.merge.Add object at 0x0000025665904748&gt;</td>\n",
       "      <td>Encoder-10-MultiHeadSelfAttention-Add</td>\n",
       "      <td>False</td>\n",
       "    </tr>\n",
       "    <tr>\n",
       "      <th>83</th>\n",
       "      <td>&lt;keras_layer_normalization.layer_normalization.LayerNormalization object at 0x0000025665904940&gt;</td>\n",
       "      <td>Encoder-10-MultiHeadSelfAttention-Norm</td>\n",
       "      <td>False</td>\n",
       "    </tr>\n",
       "    <tr>\n",
       "      <th>84</th>\n",
       "      <td>&lt;keras_position_wise_feed_forward.feed_forward.FeedForward object at 0x0000025665904F28&gt;</td>\n",
       "      <td>Encoder-10-FeedForward</td>\n",
       "      <td>False</td>\n",
       "    </tr>\n",
       "    <tr>\n",
       "      <th>85</th>\n",
       "      <td>&lt;keras.layers.core.Dropout object at 0x0000025665B11978&gt;</td>\n",
       "      <td>Encoder-10-FeedForward-Dropout</td>\n",
       "      <td>False</td>\n",
       "    </tr>\n",
       "    <tr>\n",
       "      <th>86</th>\n",
       "      <td>&lt;keras.layers.merge.Add object at 0x0000025665BB3B70&gt;</td>\n",
       "      <td>Encoder-10-FeedForward-Add</td>\n",
       "      <td>False</td>\n",
       "    </tr>\n",
       "    <tr>\n",
       "      <th>87</th>\n",
       "      <td>&lt;keras_layer_normalization.layer_normalization.LayerNormalization object at 0x0000025665BB3D68&gt;</td>\n",
       "      <td>Encoder-10-FeedForward-Norm</td>\n",
       "      <td>False</td>\n",
       "    </tr>\n",
       "    <tr>\n",
       "      <th>88</th>\n",
       "      <td>&lt;keras_multi_head.multi_head_attention.MultiHeadAttention object at 0x0000025665BB3CC0&gt;</td>\n",
       "      <td>Encoder-11-MultiHeadSelfAttention</td>\n",
       "      <td>False</td>\n",
       "    </tr>\n",
       "    <tr>\n",
       "      <th>89</th>\n",
       "      <td>&lt;keras.layers.core.Dropout object at 0x0000025665C723C8&gt;</td>\n",
       "      <td>Encoder-11-MultiHeadSelfAttention-Dropout</td>\n",
       "      <td>False</td>\n",
       "    </tr>\n",
       "    <tr>\n",
       "      <th>90</th>\n",
       "      <td>&lt;keras.layers.merge.Add object at 0x0000025665CBEEF0&gt;</td>\n",
       "      <td>Encoder-11-MultiHeadSelfAttention-Add</td>\n",
       "      <td>False</td>\n",
       "    </tr>\n",
       "    <tr>\n",
       "      <th>91</th>\n",
       "      <td>&lt;keras_layer_normalization.layer_normalization.LayerNormalization object at 0x0000025665CBEDA0&gt;</td>\n",
       "      <td>Encoder-11-MultiHeadSelfAttention-Norm</td>\n",
       "      <td>False</td>\n",
       "    </tr>\n",
       "    <tr>\n",
       "      <th>92</th>\n",
       "      <td>&lt;keras_position_wise_feed_forward.feed_forward.FeedForward object at 0x0000025665CEB400&gt;</td>\n",
       "      <td>Encoder-11-FeedForward</td>\n",
       "      <td>False</td>\n",
       "    </tr>\n",
       "    <tr>\n",
       "      <th>93</th>\n",
       "      <td>&lt;keras.layers.core.Dropout object at 0x0000025665F049B0&gt;</td>\n",
       "      <td>Encoder-11-FeedForward-Dropout</td>\n",
       "      <td>False</td>\n",
       "    </tr>\n",
       "    <tr>\n",
       "      <th>94</th>\n",
       "      <td>&lt;keras.layers.merge.Add object at 0x000002566603BE80&gt;</td>\n",
       "      <td>Encoder-11-FeedForward-Add</td>\n",
       "      <td>False</td>\n",
       "    </tr>\n",
       "    <tr>\n",
       "      <th>95</th>\n",
       "      <td>&lt;keras_layer_normalization.layer_normalization.LayerNormalization object at 0x0000025665FA96A0&gt;</td>\n",
       "      <td>Encoder-11-FeedForward-Norm</td>\n",
       "      <td>False</td>\n",
       "    </tr>\n",
       "    <tr>\n",
       "      <th>96</th>\n",
       "      <td>&lt;keras_multi_head.multi_head_attention.MultiHeadAttention object at 0x0000025665FA98D0&gt;</td>\n",
       "      <td>Encoder-12-MultiHeadSelfAttention</td>\n",
       "      <td>False</td>\n",
       "    </tr>\n",
       "    <tr>\n",
       "      <th>97</th>\n",
       "      <td>&lt;keras.layers.core.Dropout object at 0x000002566605EC88&gt;</td>\n",
       "      <td>Encoder-12-MultiHeadSelfAttention-Dropout</td>\n",
       "      <td>False</td>\n",
       "    </tr>\n",
       "    <tr>\n",
       "      <th>98</th>\n",
       "      <td>&lt;keras.layers.merge.Add object at 0x00000256660ABEB8&gt;</td>\n",
       "      <td>Encoder-12-MultiHeadSelfAttention-Add</td>\n",
       "      <td>False</td>\n",
       "    </tr>\n",
       "    <tr>\n",
       "      <th>99</th>\n",
       "      <td>&lt;keras_layer_normalization.layer_normalization.LayerNormalization object at 0x00000256660ABBA8&gt;</td>\n",
       "      <td>Encoder-12-MultiHeadSelfAttention-Norm</td>\n",
       "      <td>False</td>\n",
       "    </tr>\n",
       "    <tr>\n",
       "      <th>100</th>\n",
       "      <td>&lt;keras_position_wise_feed_forward.feed_forward.FeedForward object at 0x00000256660ABEF0&gt;</td>\n",
       "      <td>Encoder-12-FeedForward</td>\n",
       "      <td>False</td>\n",
       "    </tr>\n",
       "    <tr>\n",
       "      <th>101</th>\n",
       "      <td>&lt;keras.layers.core.Dropout object at 0x0000025666342AC8&gt;</td>\n",
       "      <td>Encoder-12-FeedForward-Dropout</td>\n",
       "      <td>False</td>\n",
       "    </tr>\n",
       "    <tr>\n",
       "      <th>102</th>\n",
       "      <td>&lt;keras.layers.merge.Add object at 0x0000025666396F28&gt;</td>\n",
       "      <td>Encoder-12-FeedForward-Add</td>\n",
       "      <td>False</td>\n",
       "    </tr>\n",
       "    <tr>\n",
       "      <th>103</th>\n",
       "      <td>&lt;keras_layer_normalization.layer_normalization.LayerNormalization object at 0x0000025666396400&gt;</td>\n",
       "      <td>Encoder-12-FeedForward-Norm</td>\n",
       "      <td>False</td>\n",
       "    </tr>\n",
       "    <tr>\n",
       "      <th>104</th>\n",
       "      <td>&lt;keras.layers.merge.Concatenate object at 0x00000258C0EB9668&gt;</td>\n",
       "      <td>concatenate_6</td>\n",
       "      <td>False</td>\n",
       "    </tr>\n",
       "  </tbody>\n",
       "</table>\n",
       "<p>105 rows × 3 columns</p>\n",
       "</div>"
      ],
      "text/plain": [
       "                                                                                          Layer Type  \\\n",
       "0    <keras.engine.input_layer.InputLayer object at 0x000002565D50DC50>                                \n",
       "1    <keras.engine.input_layer.InputLayer object at 0x000002565D50DF60>                                \n",
       "2    <keras_bert.layers.embedding.TokenEmbedding object at 0x00000256350DACF8>                         \n",
       "3    <keras.layers.embeddings.Embedding object at 0x0000025640608550>                                  \n",
       "4    <keras.layers.merge.Add object at 0x0000025640608198>                                             \n",
       "5    <keras_pos_embd.pos_embd.PositionEmbedding object at 0x00000256406089E8>                          \n",
       "6    <keras.layers.core.Dropout object at 0x00000256406085F8>                                          \n",
       "7    <keras_layer_normalization.layer_normalization.LayerNormalization object at 0x0000025640644CF8>   \n",
       "8    <keras_multi_head.multi_head_attention.MultiHeadAttention object at 0x0000025640608D68>           \n",
       "9    <keras.layers.core.Dropout object at 0x0000025640608518>                                          \n",
       "10   <keras.layers.merge.Add object at 0x000002565D5A7A90>                                             \n",
       "11   <keras_layer_normalization.layer_normalization.LayerNormalization object at 0x000002565D5D7CF8>   \n",
       "12   <keras_position_wise_feed_forward.feed_forward.FeedForward object at 0x000002565D5D74E0>          \n",
       "13   <keras.layers.core.Dropout object at 0x00000256618A76A0>                                          \n",
       "14   <keras.layers.merge.Add object at 0x0000025661948080>                                             \n",
       "15   <keras_layer_normalization.layer_normalization.LayerNormalization object at 0x0000025661948F98>   \n",
       "16   <keras_multi_head.multi_head_attention.MultiHeadAttention object at 0x0000025661948E10>           \n",
       "17   <keras.layers.core.Dropout object at 0x0000025661BF9D68>                                          \n",
       "18   <keras.layers.merge.Add object at 0x0000025661C75BA8>                                             \n",
       "19   <keras_layer_normalization.layer_normalization.LayerNormalization object at 0x0000025661C405C0>   \n",
       "20   <keras_position_wise_feed_forward.feed_forward.FeedForward object at 0x0000025661C40EB8>          \n",
       "21   <keras.layers.core.Dropout object at 0x0000025662774D68>                                          \n",
       "22   <keras.layers.merge.Add object at 0x00000256628216D8>                                             \n",
       "23   <keras_layer_normalization.layer_normalization.LayerNormalization object at 0x00000256628218D0>   \n",
       "24   <keras_multi_head.multi_head_attention.MultiHeadAttention object at 0x0000025662821EB8>           \n",
       "25   <keras.layers.core.Dropout object at 0x00000256628ACE48>                                          \n",
       "26   <keras.layers.merge.Add object at 0x0000025662929128>                                             \n",
       "27   <keras_layer_normalization.layer_normalization.LayerNormalization object at 0x0000025662929F98>   \n",
       "28   <keras_position_wise_feed_forward.feed_forward.FeedForward object at 0x0000025662929E80>          \n",
       "29   <keras.layers.core.Dropout object at 0x0000025662B63940>                                          \n",
       "..                                                        ...                                          \n",
       "75   <keras_layer_normalization.layer_normalization.LayerNormalization object at 0x0000025665511A20>   \n",
       "76   <keras_position_wise_feed_forward.feed_forward.FeedForward object at 0x0000025665511EF0>          \n",
       "77   <keras.layers.core.Dropout object at 0x0000025665755BE0>                                          \n",
       "78   <keras.layers.merge.Add object at 0x00000256657A4780>                                             \n",
       "79   <keras_layer_normalization.layer_normalization.LayerNormalization object at 0x00000256657FAE80>   \n",
       "80   <keras_multi_head.multi_head_attention.MultiHeadAttention object at 0x00000256657FAB00>           \n",
       "81   <keras.layers.core.Dropout object at 0x0000025665889F60>                                          \n",
       "82   <keras.layers.merge.Add object at 0x0000025665904748>                                             \n",
       "83   <keras_layer_normalization.layer_normalization.LayerNormalization object at 0x0000025665904940>   \n",
       "84   <keras_position_wise_feed_forward.feed_forward.FeedForward object at 0x0000025665904F28>          \n",
       "85   <keras.layers.core.Dropout object at 0x0000025665B11978>                                          \n",
       "86   <keras.layers.merge.Add object at 0x0000025665BB3B70>                                             \n",
       "87   <keras_layer_normalization.layer_normalization.LayerNormalization object at 0x0000025665BB3D68>   \n",
       "88   <keras_multi_head.multi_head_attention.MultiHeadAttention object at 0x0000025665BB3CC0>           \n",
       "89   <keras.layers.core.Dropout object at 0x0000025665C723C8>                                          \n",
       "90   <keras.layers.merge.Add object at 0x0000025665CBEEF0>                                             \n",
       "91   <keras_layer_normalization.layer_normalization.LayerNormalization object at 0x0000025665CBEDA0>   \n",
       "92   <keras_position_wise_feed_forward.feed_forward.FeedForward object at 0x0000025665CEB400>          \n",
       "93   <keras.layers.core.Dropout object at 0x0000025665F049B0>                                          \n",
       "94   <keras.layers.merge.Add object at 0x000002566603BE80>                                             \n",
       "95   <keras_layer_normalization.layer_normalization.LayerNormalization object at 0x0000025665FA96A0>   \n",
       "96   <keras_multi_head.multi_head_attention.MultiHeadAttention object at 0x0000025665FA98D0>           \n",
       "97   <keras.layers.core.Dropout object at 0x000002566605EC88>                                          \n",
       "98   <keras.layers.merge.Add object at 0x00000256660ABEB8>                                             \n",
       "99   <keras_layer_normalization.layer_normalization.LayerNormalization object at 0x00000256660ABBA8>   \n",
       "100  <keras_position_wise_feed_forward.feed_forward.FeedForward object at 0x00000256660ABEF0>          \n",
       "101  <keras.layers.core.Dropout object at 0x0000025666342AC8>                                          \n",
       "102  <keras.layers.merge.Add object at 0x0000025666396F28>                                             \n",
       "103  <keras_layer_normalization.layer_normalization.LayerNormalization object at 0x0000025666396400>   \n",
       "104  <keras.layers.merge.Concatenate object at 0x00000258C0EB9668>                                     \n",
       "\n",
       "                                    Layer Name  Layer Trainable  \n",
       "0    Input-Token                                False            \n",
       "1    Input-Segment                              False            \n",
       "2    Embedding-Token                            False            \n",
       "3    Embedding-Segment                          False            \n",
       "4    Embedding-Token-Segment                    False            \n",
       "5    Embedding-Position                         False            \n",
       "6    Embedding-Dropout                          False            \n",
       "7    Embedding-Norm                             False            \n",
       "8    Encoder-1-MultiHeadSelfAttention           False            \n",
       "9    Encoder-1-MultiHeadSelfAttention-Dropout   False            \n",
       "10   Encoder-1-MultiHeadSelfAttention-Add       False            \n",
       "11   Encoder-1-MultiHeadSelfAttention-Norm      False            \n",
       "12   Encoder-1-FeedForward                      False            \n",
       "13   Encoder-1-FeedForward-Dropout              False            \n",
       "14   Encoder-1-FeedForward-Add                  False            \n",
       "15   Encoder-1-FeedForward-Norm                 False            \n",
       "16   Encoder-2-MultiHeadSelfAttention           False            \n",
       "17   Encoder-2-MultiHeadSelfAttention-Dropout   False            \n",
       "18   Encoder-2-MultiHeadSelfAttention-Add       False            \n",
       "19   Encoder-2-MultiHeadSelfAttention-Norm      False            \n",
       "20   Encoder-2-FeedForward                      False            \n",
       "21   Encoder-2-FeedForward-Dropout              False            \n",
       "22   Encoder-2-FeedForward-Add                  False            \n",
       "23   Encoder-2-FeedForward-Norm                 False            \n",
       "24   Encoder-3-MultiHeadSelfAttention           False            \n",
       "25   Encoder-3-MultiHeadSelfAttention-Dropout   False            \n",
       "26   Encoder-3-MultiHeadSelfAttention-Add       False            \n",
       "27   Encoder-3-MultiHeadSelfAttention-Norm      False            \n",
       "28   Encoder-3-FeedForward                      False            \n",
       "29   Encoder-3-FeedForward-Dropout              False            \n",
       "..                             ...                ...            \n",
       "75   Encoder-9-MultiHeadSelfAttention-Norm      False            \n",
       "76   Encoder-9-FeedForward                      False            \n",
       "77   Encoder-9-FeedForward-Dropout              False            \n",
       "78   Encoder-9-FeedForward-Add                  False            \n",
       "79   Encoder-9-FeedForward-Norm                 False            \n",
       "80   Encoder-10-MultiHeadSelfAttention          False            \n",
       "81   Encoder-10-MultiHeadSelfAttention-Dropout  False            \n",
       "82   Encoder-10-MultiHeadSelfAttention-Add      False            \n",
       "83   Encoder-10-MultiHeadSelfAttention-Norm     False            \n",
       "84   Encoder-10-FeedForward                     False            \n",
       "85   Encoder-10-FeedForward-Dropout             False            \n",
       "86   Encoder-10-FeedForward-Add                 False            \n",
       "87   Encoder-10-FeedForward-Norm                False            \n",
       "88   Encoder-11-MultiHeadSelfAttention          False            \n",
       "89   Encoder-11-MultiHeadSelfAttention-Dropout  False            \n",
       "90   Encoder-11-MultiHeadSelfAttention-Add      False            \n",
       "91   Encoder-11-MultiHeadSelfAttention-Norm     False            \n",
       "92   Encoder-11-FeedForward                     False            \n",
       "93   Encoder-11-FeedForward-Dropout             False            \n",
       "94   Encoder-11-FeedForward-Add                 False            \n",
       "95   Encoder-11-FeedForward-Norm                False            \n",
       "96   Encoder-12-MultiHeadSelfAttention          False            \n",
       "97   Encoder-12-MultiHeadSelfAttention-Dropout  False            \n",
       "98   Encoder-12-MultiHeadSelfAttention-Add      False            \n",
       "99   Encoder-12-MultiHeadSelfAttention-Norm     False            \n",
       "100  Encoder-12-FeedForward                     False            \n",
       "101  Encoder-12-FeedForward-Dropout             False            \n",
       "102  Encoder-12-FeedForward-Add                 False            \n",
       "103  Encoder-12-FeedForward-Norm                False            \n",
       "104  concatenate_6                              False            \n",
       "\n",
       "[105 rows x 3 columns]"
      ]
     },
     "execution_count": 87,
     "metadata": {},
     "output_type": "execute_result"
    }
   ],
   "source": [
    "import pandas as pd\n",
    "pd.set_option('max_colwidth', -1)\n",
    "\n",
    "layers = [(layer, layer.name, layer.trainable) for layer in bert_model.layers]\n",
    "pd.DataFrame(layers, columns=['Layer Type', 'Layer Name', 'Layer Trainable'])"
   ]
  },
  {
   "cell_type": "code",
   "execution_count": 88,
   "metadata": {},
   "outputs": [],
   "source": [
    "train_embeddings = model.predict([train_indices, np.zeros(train_indices.shape)])"
   ]
  },
  {
   "cell_type": "code",
   "execution_count": 90,
   "metadata": {},
   "outputs": [],
   "source": [
    "val_embeddings = model.predict([val_indices, np.zeros(val_indices.shape)])"
   ]
  },
  {
   "cell_type": "code",
   "execution_count": null,
   "metadata": {},
   "outputs": [],
   "source": [
    "train_embeddings.shape"
   ]
  },
  {
   "cell_type": "code",
   "execution_count": 111,
   "metadata": {},
   "outputs": [
    {
     "data": {
      "text/plain": [
       "<tf.Tensor 'input_6:0' shape=(?, 52, 2304) dtype=float32>"
      ]
     },
     "execution_count": 111,
     "metadata": {},
     "output_type": "execute_result"
    }
   ],
   "source": [
    "graph_in = Input(shape=(train_embeddings.shape[1], train_embeddings.shape[2]))\n",
    "graph_in"
   ]
  },
  {
   "cell_type": "code",
   "execution_count": 116,
   "metadata": {},
   "outputs": [
    {
     "name": "stderr",
     "output_type": "stream",
     "text": [
      "C:\\Anaconda3\\envs\\congress\\lib\\site-packages\\ipykernel_launcher.py:11: UserWarning: Update your `Model` call to the Keras 2 API: `Model(inputs=Tensor(\"in..., outputs=Tensor(\"co...)`\n",
      "  # This is added back by InteractiveShellApp.init_path()\n"
     ]
    }
   ],
   "source": [
    "filter_sizes = (3, 4, 5)\n",
    "num_filters = 100\n",
    "\n",
    "convs = []\n",
    "for fsz in filter_sizes:\n",
    "    conv = Conv1D(num_filters, fsz, activation='relu')(graph_in)\n",
    "    pool = GlobalMaxPooling1D()(conv)\n",
    "    convs.append(pool)\n",
    "\n",
    "out = Concatenate()(convs)\n",
    "graph = Model(input=graph_in, output=out)"
   ]
  },
  {
   "cell_type": "code",
   "execution_count": 113,
   "metadata": {},
   "outputs": [],
   "source": [
    "model = Sequential()\n",
    "model.add(graph)\n",
    "model.add(Dense(50, activation='relu'))\n",
    "model.add(Dense(20, activation='softmax'))"
   ]
  },
  {
   "cell_type": "code",
   "execution_count": 114,
   "metadata": {},
   "outputs": [
    {
     "name": "stdout",
     "output_type": "stream",
     "text": [
      "_________________________________________________________________\n",
      "Layer (type)                 Output Shape              Param #   \n",
      "=================================================================\n",
      "model_22 (Model)             (None, 300)               2765100   \n",
      "_________________________________________________________________\n",
      "dropout_5 (Dropout)          (None, 300)               0         \n",
      "_________________________________________________________________\n",
      "dense_13 (Dense)             (None, 50)                15050     \n",
      "_________________________________________________________________\n",
      "dense_14 (Dense)             (None, 20)                1020      \n",
      "=================================================================\n",
      "Total params: 2,781,170\n",
      "Trainable params: 2,781,170\n",
      "Non-trainable params: 0\n",
      "_________________________________________________________________\n"
     ]
    }
   ],
   "source": [
    "model.compile(optimizer='adam', loss='categorical_crossentropy', \n",
    "              metrics=['accuracy'])\n",
    "model.summary()"
   ]
  },
  {
   "cell_type": "code",
   "execution_count": 95,
   "metadata": {},
   "outputs": [
    {
     "name": "stdout",
     "output_type": "stream",
     "text": [
      "Train on 40000 samples, validate on 40000 samples\n",
      "Epoch 1/10\n",
      "40000/40000 [==============================] - 172s 4ms/step - loss: 1.6759 - acc: 0.5114 - val_loss: 0.9224 - val_acc: 0.7391\n",
      "Epoch 2/10\n",
      "40000/40000 [==============================] - 203s 5ms/step - loss: 0.8040 - acc: 0.7705 - val_loss: 0.7250 - val_acc: 0.7873\n",
      "Epoch 3/10\n",
      "40000/40000 [==============================] - 178s 4ms/step - loss: 0.6244 - acc: 0.8183 - val_loss: 0.7081 - val_acc: 0.7945\n",
      "Epoch 4/10\n",
      "40000/40000 [==============================] - 218s 5ms/step - loss: 0.5210 - acc: 0.8465 - val_loss: 0.6800 - val_acc: 0.8085\n",
      "Epoch 5/10\n",
      "40000/40000 [==============================] - 219s 5ms/step - loss: 0.4346 - acc: 0.8690 - val_loss: 0.6848 - val_acc: 0.8095\n",
      "Epoch 6/10\n",
      "40000/40000 [==============================] - 186s 5ms/step - loss: 0.3728 - acc: 0.8848 - val_loss: 0.7105 - val_acc: 0.8124\n",
      "Epoch 7/10\n",
      "40000/40000 [==============================] - 178s 4ms/step - loss: 0.3184 - acc: 0.9016 - val_loss: 0.7156 - val_acc: 0.8115\n",
      "Epoch 8/10\n",
      "40000/40000 [==============================] - 163s 4ms/step - loss: 0.2705 - acc: 0.9151 - val_loss: 0.7363 - val_acc: 0.8114\n",
      "Epoch 9/10\n",
      "40000/40000 [==============================] - 182s 5ms/step - loss: 0.2390 - acc: 0.9264 - val_loss: 0.7715 - val_acc: 0.8182\n",
      "Epoch 10/10\n",
      "40000/40000 [==============================] - 167s 4ms/step - loss: 0.2214 - acc: 0.9313 - val_loss: 0.7973 - val_acc: 0.8103\n"
     ]
    }
   ],
   "source": [
    "history = model.fit(train_embeddings,\n",
    "          y_train_cat, \n",
    "          validation_data=(val_embeddings, y_val_cat),\n",
    "          batch_size=128, \n",
    "          epochs=10)"
   ]
  },
  {
   "cell_type": "code",
   "execution_count": 96,
   "metadata": {},
   "outputs": [
    {
     "data": {
      "image/png": "[encoded data removed]",
      "text/plain": [
       "<Figure size 864x288 with 2 Axes>"
      ]
     },
     "metadata": {
      "needs_background": "light"
     },
     "output_type": "display_data"
    }
   ],
   "source": [
    "plot_learning_curve(history, 10)"
   ]
  },
  {
   "cell_type": "markdown",
   "metadata": {},
   "source": [
    "from best to worst:\n",
    "- taking the last layer (~83%)\n",
    "- adding the last 3 layers (~82.5%)\n",
    "- taking the penultimate layer (~82%)\n",
    "- concatenating the last 3 layers (~81%)"
   ]
  },
  {
   "cell_type": "markdown",
   "metadata": {},
   "source": [
    "## fine tuning approach"
   ]
  },
  {
   "cell_type": "code",
   "execution_count": 21,
   "metadata": {},
   "outputs": [],
   "source": [
    "bert = load_trained_model_from_checkpoint(config_path, checkpoint_path, seq_len=MAX_SEQUENCE_LENGTH)"
   ]
  },
  {
   "cell_type": "code",
   "execution_count": 22,
   "metadata": {},
   "outputs": [
    {
     "name": "stdout",
     "output_type": "stream",
     "text": [
      "__________________________________________________________________________________________________\n",
      "Layer (type)                    Output Shape         Param #     Connected to                     \n",
      "==================================================================================================\n",
      "Input-Token (InputLayer)        (None, 52)           0                                            \n",
      "__________________________________________________________________________________________________\n",
      "Input-Segment (InputLayer)      (None, 52)           0                                            \n",
      "__________________________________________________________________________________________________\n",
      "Embedding-Token (TokenEmbedding [(None, 52, 768), (3 23440896    Input-Token[0][0]                \n",
      "__________________________________________________________________________________________________\n",
      "Embedding-Segment (Embedding)   (None, 52, 768)      1536        Input-Segment[0][0]              \n",
      "__________________________________________________________________________________________________\n",
      "Embedding-Token-Segment (Add)   (None, 52, 768)      0           Embedding-Token[0][0]            \n",
      "                                                                 Embedding-Segment[0][0]          \n",
      "__________________________________________________________________________________________________\n",
      "Embedding-Position (PositionEmb (None, 52, 768)      39936       Embedding-Token-Segment[0][0]    \n",
      "__________________________________________________________________________________________________\n",
      "Embedding-Dropout (Dropout)     (None, 52, 768)      0           Embedding-Position[0][0]         \n",
      "__________________________________________________________________________________________________\n",
      "Embedding-Norm (LayerNormalizat (None, 52, 768)      1536        Embedding-Dropout[0][0]          \n",
      "__________________________________________________________________________________________________\n",
      "Encoder-1-MultiHeadSelfAttentio (None, 52, 768)      2362368     Embedding-Norm[0][0]             \n",
      "__________________________________________________________________________________________________\n",
      "Encoder-1-MultiHeadSelfAttentio (None, 52, 768)      0           Encoder-1-MultiHeadSelfAttention[\n",
      "__________________________________________________________________________________________________\n",
      "Encoder-1-MultiHeadSelfAttentio (None, 52, 768)      0           Embedding-Norm[0][0]             \n",
      "                                                                 Encoder-1-MultiHeadSelfAttention-\n",
      "__________________________________________________________________________________________________\n",
      "Encoder-1-MultiHeadSelfAttentio (None, 52, 768)      1536        Encoder-1-MultiHeadSelfAttention-\n",
      "__________________________________________________________________________________________________\n",
      "Encoder-1-FeedForward (FeedForw (None, 52, 768)      4722432     Encoder-1-MultiHeadSelfAttention-\n",
      "__________________________________________________________________________________________________\n",
      "Encoder-1-FeedForward-Dropout ( (None, 52, 768)      0           Encoder-1-FeedForward[0][0]      \n",
      "__________________________________________________________________________________________________\n",
      "Encoder-1-FeedForward-Add (Add) (None, 52, 768)      0           Encoder-1-MultiHeadSelfAttention-\n",
      "                                                                 Encoder-1-FeedForward-Dropout[0][\n",
      "__________________________________________________________________________________________________\n",
      "Encoder-1-FeedForward-Norm (Lay (None, 52, 768)      1536        Encoder-1-FeedForward-Add[0][0]  \n",
      "__________________________________________________________________________________________________\n",
      "Encoder-2-MultiHeadSelfAttentio (None, 52, 768)      2362368     Encoder-1-FeedForward-Norm[0][0] \n",
      "__________________________________________________________________________________________________\n",
      "Encoder-2-MultiHeadSelfAttentio (None, 52, 768)      0           Encoder-2-MultiHeadSelfAttention[\n",
      "__________________________________________________________________________________________________\n",
      "Encoder-2-MultiHeadSelfAttentio (None, 52, 768)      0           Encoder-1-FeedForward-Norm[0][0] \n",
      "                                                                 Encoder-2-MultiHeadSelfAttention-\n",
      "__________________________________________________________________________________________________\n",
      "Encoder-2-MultiHeadSelfAttentio (None, 52, 768)      1536        Encoder-2-MultiHeadSelfAttention-\n",
      "__________________________________________________________________________________________________\n",
      "Encoder-2-FeedForward (FeedForw (None, 52, 768)      4722432     Encoder-2-MultiHeadSelfAttention-\n",
      "__________________________________________________________________________________________________\n",
      "Encoder-2-FeedForward-Dropout ( (None, 52, 768)      0           Encoder-2-FeedForward[0][0]      \n",
      "__________________________________________________________________________________________________\n",
      "Encoder-2-FeedForward-Add (Add) (None, 52, 768)      0           Encoder-2-MultiHeadSelfAttention-\n",
      "                                                                 Encoder-2-FeedForward-Dropout[0][\n",
      "__________________________________________________________________________________________________\n",
      "Encoder-2-FeedForward-Norm (Lay (None, 52, 768)      1536        Encoder-2-FeedForward-Add[0][0]  \n",
      "__________________________________________________________________________________________________\n",
      "Encoder-3-MultiHeadSelfAttentio (None, 52, 768)      2362368     Encoder-2-FeedForward-Norm[0][0] \n",
      "__________________________________________________________________________________________________\n",
      "Encoder-3-MultiHeadSelfAttentio (None, 52, 768)      0           Encoder-3-MultiHeadSelfAttention[\n",
      "__________________________________________________________________________________________________\n",
      "Encoder-3-MultiHeadSelfAttentio (None, 52, 768)      0           Encoder-2-FeedForward-Norm[0][0] \n",
      "                                                                 Encoder-3-MultiHeadSelfAttention-\n",
      "__________________________________________________________________________________________________\n",
      "Encoder-3-MultiHeadSelfAttentio (None, 52, 768)      1536        Encoder-3-MultiHeadSelfAttention-\n",
      "__________________________________________________________________________________________________\n",
      "Encoder-3-FeedForward (FeedForw (None, 52, 768)      4722432     Encoder-3-MultiHeadSelfAttention-\n",
      "__________________________________________________________________________________________________\n",
      "Encoder-3-FeedForward-Dropout ( (None, 52, 768)      0           Encoder-3-FeedForward[0][0]      \n",
      "__________________________________________________________________________________________________\n",
      "Encoder-3-FeedForward-Add (Add) (None, 52, 768)      0           Encoder-3-MultiHeadSelfAttention-\n",
      "                                                                 Encoder-3-FeedForward-Dropout[0][\n",
      "__________________________________________________________________________________________________\n",
      "Encoder-3-FeedForward-Norm (Lay (None, 52, 768)      1536        Encoder-3-FeedForward-Add[0][0]  \n",
      "__________________________________________________________________________________________________\n",
      "Encoder-4-MultiHeadSelfAttentio (None, 52, 768)      2362368     Encoder-3-FeedForward-Norm[0][0] \n",
      "__________________________________________________________________________________________________\n",
      "Encoder-4-MultiHeadSelfAttentio (None, 52, 768)      0           Encoder-4-MultiHeadSelfAttention[\n",
      "__________________________________________________________________________________________________\n",
      "Encoder-4-MultiHeadSelfAttentio (None, 52, 768)      0           Encoder-3-FeedForward-Norm[0][0] \n",
      "                                                                 Encoder-4-MultiHeadSelfAttention-\n",
      "__________________________________________________________________________________________________\n",
      "Encoder-4-MultiHeadSelfAttentio (None, 52, 768)      1536        Encoder-4-MultiHeadSelfAttention-\n",
      "__________________________________________________________________________________________________\n",
      "Encoder-4-FeedForward (FeedForw (None, 52, 768)      4722432     Encoder-4-MultiHeadSelfAttention-\n",
      "__________________________________________________________________________________________________\n",
      "Encoder-4-FeedForward-Dropout ( (None, 52, 768)      0           Encoder-4-FeedForward[0][0]      \n",
      "__________________________________________________________________________________________________\n",
      "Encoder-4-FeedForward-Add (Add) (None, 52, 768)      0           Encoder-4-MultiHeadSelfAttention-\n",
      "                                                                 Encoder-4-FeedForward-Dropout[0][\n",
      "__________________________________________________________________________________________________\n",
      "Encoder-4-FeedForward-Norm (Lay (None, 52, 768)      1536        Encoder-4-FeedForward-Add[0][0]  \n",
      "__________________________________________________________________________________________________\n",
      "Encoder-5-MultiHeadSelfAttentio (None, 52, 768)      2362368     Encoder-4-FeedForward-Norm[0][0] \n",
      "__________________________________________________________________________________________________\n",
      "Encoder-5-MultiHeadSelfAttentio (None, 52, 768)      0           Encoder-5-MultiHeadSelfAttention[\n",
      "__________________________________________________________________________________________________\n",
      "Encoder-5-MultiHeadSelfAttentio (None, 52, 768)      0           Encoder-4-FeedForward-Norm[0][0] \n",
      "                                                                 Encoder-5-MultiHeadSelfAttention-\n",
      "__________________________________________________________________________________________________\n",
      "Encoder-5-MultiHeadSelfAttentio (None, 52, 768)      1536        Encoder-5-MultiHeadSelfAttention-\n",
      "__________________________________________________________________________________________________\n",
      "Encoder-5-FeedForward (FeedForw (None, 52, 768)      4722432     Encoder-5-MultiHeadSelfAttention-\n",
      "__________________________________________________________________________________________________\n",
      "Encoder-5-FeedForward-Dropout ( (None, 52, 768)      0           Encoder-5-FeedForward[0][0]      \n",
      "__________________________________________________________________________________________________\n",
      "Encoder-5-FeedForward-Add (Add) (None, 52, 768)      0           Encoder-5-MultiHeadSelfAttention-\n",
      "                                                                 Encoder-5-FeedForward-Dropout[0][\n",
      "__________________________________________________________________________________________________\n",
      "Encoder-5-FeedForward-Norm (Lay (None, 52, 768)      1536        Encoder-5-FeedForward-Add[0][0]  \n",
      "__________________________________________________________________________________________________\n",
      "Encoder-6-MultiHeadSelfAttentio (None, 52, 768)      2362368     Encoder-5-FeedForward-Norm[0][0] \n",
      "__________________________________________________________________________________________________\n",
      "Encoder-6-MultiHeadSelfAttentio (None, 52, 768)      0           Encoder-6-MultiHeadSelfAttention[\n",
      "__________________________________________________________________________________________________\n",
      "Encoder-6-MultiHeadSelfAttentio (None, 52, 768)      0           Encoder-5-FeedForward-Norm[0][0] \n",
      "                                                                 Encoder-6-MultiHeadSelfAttention-\n",
      "__________________________________________________________________________________________________\n",
      "Encoder-6-MultiHeadSelfAttentio (None, 52, 768)      1536        Encoder-6-MultiHeadSelfAttention-\n",
      "__________________________________________________________________________________________________\n",
      "Encoder-6-FeedForward (FeedForw (None, 52, 768)      4722432     Encoder-6-MultiHeadSelfAttention-\n",
      "__________________________________________________________________________________________________\n",
      "Encoder-6-FeedForward-Dropout ( (None, 52, 768)      0           Encoder-6-FeedForward[0][0]      \n",
      "__________________________________________________________________________________________________\n",
      "Encoder-6-FeedForward-Add (Add) (None, 52, 768)      0           Encoder-6-MultiHeadSelfAttention-\n",
      "                                                                 Encoder-6-FeedForward-Dropout[0][\n",
      "__________________________________________________________________________________________________\n",
      "Encoder-6-FeedForward-Norm (Lay (None, 52, 768)      1536        Encoder-6-FeedForward-Add[0][0]  \n",
      "__________________________________________________________________________________________________\n",
      "Encoder-7-MultiHeadSelfAttentio (None, 52, 768)      2362368     Encoder-6-FeedForward-Norm[0][0] \n",
      "__________________________________________________________________________________________________\n",
      "Encoder-7-MultiHeadSelfAttentio (None, 52, 768)      0           Encoder-7-MultiHeadSelfAttention[\n",
      "__________________________________________________________________________________________________\n",
      "Encoder-7-MultiHeadSelfAttentio (None, 52, 768)      0           Encoder-6-FeedForward-Norm[0][0] \n",
      "                                                                 Encoder-7-MultiHeadSelfAttention-\n",
      "__________________________________________________________________________________________________\n",
      "Encoder-7-MultiHeadSelfAttentio (None, 52, 768)      1536        Encoder-7-MultiHeadSelfAttention-\n",
      "__________________________________________________________________________________________________\n",
      "Encoder-7-FeedForward (FeedForw (None, 52, 768)      4722432     Encoder-7-MultiHeadSelfAttention-\n",
      "__________________________________________________________________________________________________\n",
      "Encoder-7-FeedForward-Dropout ( (None, 52, 768)      0           Encoder-7-FeedForward[0][0]      \n",
      "__________________________________________________________________________________________________\n",
      "Encoder-7-FeedForward-Add (Add) (None, 52, 768)      0           Encoder-7-MultiHeadSelfAttention-\n",
      "                                                                 Encoder-7-FeedForward-Dropout[0][\n",
      "__________________________________________________________________________________________________\n",
      "Encoder-7-FeedForward-Norm (Lay (None, 52, 768)      1536        Encoder-7-FeedForward-Add[0][0]  \n",
      "__________________________________________________________________________________________________\n",
      "Encoder-8-MultiHeadSelfAttentio (None, 52, 768)      2362368     Encoder-7-FeedForward-Norm[0][0] \n",
      "__________________________________________________________________________________________________\n",
      "Encoder-8-MultiHeadSelfAttentio (None, 52, 768)      0           Encoder-8-MultiHeadSelfAttention[\n",
      "__________________________________________________________________________________________________\n",
      "Encoder-8-MultiHeadSelfAttentio (None, 52, 768)      0           Encoder-7-FeedForward-Norm[0][0] \n",
      "                                                                 Encoder-8-MultiHeadSelfAttention-\n",
      "__________________________________________________________________________________________________\n",
      "Encoder-8-MultiHeadSelfAttentio (None, 52, 768)      1536        Encoder-8-MultiHeadSelfAttention-\n",
      "__________________________________________________________________________________________________\n",
      "Encoder-8-FeedForward (FeedForw (None, 52, 768)      4722432     Encoder-8-MultiHeadSelfAttention-\n",
      "__________________________________________________________________________________________________\n",
      "Encoder-8-FeedForward-Dropout ( (None, 52, 768)      0           Encoder-8-FeedForward[0][0]      \n",
      "__________________________________________________________________________________________________\n",
      "Encoder-8-FeedForward-Add (Add) (None, 52, 768)      0           Encoder-8-MultiHeadSelfAttention-\n",
      "                                                                 Encoder-8-FeedForward-Dropout[0][\n",
      "__________________________________________________________________________________________________\n",
      "Encoder-8-FeedForward-Norm (Lay (None, 52, 768)      1536        Encoder-8-FeedForward-Add[0][0]  \n",
      "__________________________________________________________________________________________________\n",
      "Encoder-9-MultiHeadSelfAttentio (None, 52, 768)      2362368     Encoder-8-FeedForward-Norm[0][0] \n",
      "__________________________________________________________________________________________________\n",
      "Encoder-9-MultiHeadSelfAttentio (None, 52, 768)      0           Encoder-9-MultiHeadSelfAttention[\n",
      "__________________________________________________________________________________________________\n",
      "Encoder-9-MultiHeadSelfAttentio (None, 52, 768)      0           Encoder-8-FeedForward-Norm[0][0] \n",
      "                                                                 Encoder-9-MultiHeadSelfAttention-\n",
      "__________________________________________________________________________________________________\n",
      "Encoder-9-MultiHeadSelfAttentio (None, 52, 768)      1536        Encoder-9-MultiHeadSelfAttention-\n",
      "__________________________________________________________________________________________________\n",
      "Encoder-9-FeedForward (FeedForw (None, 52, 768)      4722432     Encoder-9-MultiHeadSelfAttention-\n",
      "__________________________________________________________________________________________________\n",
      "Encoder-9-FeedForward-Dropout ( (None, 52, 768)      0           Encoder-9-FeedForward[0][0]      \n",
      "__________________________________________________________________________________________________\n",
      "Encoder-9-FeedForward-Add (Add) (None, 52, 768)      0           Encoder-9-MultiHeadSelfAttention-\n",
      "                                                                 Encoder-9-FeedForward-Dropout[0][\n",
      "__________________________________________________________________________________________________\n",
      "Encoder-9-FeedForward-Norm (Lay (None, 52, 768)      1536        Encoder-9-FeedForward-Add[0][0]  \n",
      "__________________________________________________________________________________________________\n",
      "Encoder-10-MultiHeadSelfAttenti (None, 52, 768)      2362368     Encoder-9-FeedForward-Norm[0][0] \n",
      "__________________________________________________________________________________________________\n",
      "Encoder-10-MultiHeadSelfAttenti (None, 52, 768)      0           Encoder-10-MultiHeadSelfAttention\n",
      "__________________________________________________________________________________________________\n",
      "Encoder-10-MultiHeadSelfAttenti (None, 52, 768)      0           Encoder-9-FeedForward-Norm[0][0] \n",
      "                                                                 Encoder-10-MultiHeadSelfAttention\n",
      "__________________________________________________________________________________________________\n",
      "Encoder-10-MultiHeadSelfAttenti (None, 52, 768)      1536        Encoder-10-MultiHeadSelfAttention\n",
      "__________________________________________________________________________________________________\n",
      "Encoder-10-FeedForward (FeedFor (None, 52, 768)      4722432     Encoder-10-MultiHeadSelfAttention\n",
      "__________________________________________________________________________________________________\n",
      "Encoder-10-FeedForward-Dropout  (None, 52, 768)      0           Encoder-10-FeedForward[0][0]     \n",
      "__________________________________________________________________________________________________\n",
      "Encoder-10-FeedForward-Add (Add (None, 52, 768)      0           Encoder-10-MultiHeadSelfAttention\n",
      "                                                                 Encoder-10-FeedForward-Dropout[0]\n",
      "__________________________________________________________________________________________________\n",
      "Encoder-10-FeedForward-Norm (La (None, 52, 768)      1536        Encoder-10-FeedForward-Add[0][0] \n",
      "__________________________________________________________________________________________________\n",
      "Encoder-11-MultiHeadSelfAttenti (None, 52, 768)      2362368     Encoder-10-FeedForward-Norm[0][0]\n",
      "__________________________________________________________________________________________________\n",
      "Encoder-11-MultiHeadSelfAttenti (None, 52, 768)      0           Encoder-11-MultiHeadSelfAttention\n",
      "__________________________________________________________________________________________________\n",
      "Encoder-11-MultiHeadSelfAttenti (None, 52, 768)      0           Encoder-10-FeedForward-Norm[0][0]\n",
      "                                                                 Encoder-11-MultiHeadSelfAttention\n",
      "__________________________________________________________________________________________________\n",
      "Encoder-11-MultiHeadSelfAttenti (None, 52, 768)      1536        Encoder-11-MultiHeadSelfAttention\n",
      "__________________________________________________________________________________________________\n",
      "Encoder-11-FeedForward (FeedFor (None, 52, 768)      4722432     Encoder-11-MultiHeadSelfAttention\n",
      "__________________________________________________________________________________________________\n",
      "Encoder-11-FeedForward-Dropout  (None, 52, 768)      0           Encoder-11-FeedForward[0][0]     \n",
      "__________________________________________________________________________________________________\n",
      "Encoder-11-FeedForward-Add (Add (None, 52, 768)      0           Encoder-11-MultiHeadSelfAttention\n",
      "                                                                 Encoder-11-FeedForward-Dropout[0]\n",
      "__________________________________________________________________________________________________\n",
      "Encoder-11-FeedForward-Norm (La (None, 52, 768)      1536        Encoder-11-FeedForward-Add[0][0] \n",
      "__________________________________________________________________________________________________\n",
      "Encoder-12-MultiHeadSelfAttenti (None, 52, 768)      2362368     Encoder-11-FeedForward-Norm[0][0]\n",
      "__________________________________________________________________________________________________\n",
      "Encoder-12-MultiHeadSelfAttenti (None, 52, 768)      0           Encoder-12-MultiHeadSelfAttention\n",
      "__________________________________________________________________________________________________\n",
      "Encoder-12-MultiHeadSelfAttenti (None, 52, 768)      0           Encoder-11-FeedForward-Norm[0][0]\n",
      "                                                                 Encoder-12-MultiHeadSelfAttention\n",
      "__________________________________________________________________________________________________\n",
      "Encoder-12-MultiHeadSelfAttenti (None, 52, 768)      1536        Encoder-12-MultiHeadSelfAttention\n",
      "__________________________________________________________________________________________________\n",
      "Encoder-12-FeedForward (FeedFor (None, 52, 768)      4722432     Encoder-12-MultiHeadSelfAttention\n",
      "__________________________________________________________________________________________________\n",
      "Encoder-12-FeedForward-Dropout  (None, 52, 768)      0           Encoder-12-FeedForward[0][0]     \n",
      "__________________________________________________________________________________________________\n",
      "Encoder-12-FeedForward-Add (Add (None, 52, 768)      0           Encoder-12-MultiHeadSelfAttention\n",
      "                                                                 Encoder-12-FeedForward-Dropout[0]\n",
      "__________________________________________________________________________________________________\n",
      "Encoder-12-FeedForward-Norm (La (None, 52, 768)      1536        Encoder-12-FeedForward-Add[0][0] \n",
      "==================================================================================================\n",
      "Total params: 108,538,368\n",
      "Trainable params: 0\n",
      "Non-trainable params: 108,538,368\n",
      "__________________________________________________________________________________________________\n"
     ]
    }
   ],
   "source": [
    "output = bert.layers[-1].output\n",
    "bert_model = Model(bert.input, output)\n",
    "bert_model.trainable = True\n",
    "\n",
    "for layer in bert_model.layers:\n",
    "    layer.trainable = False\n",
    "    \n",
    "bert_model.summary()"
   ]
  },
  {
   "cell_type": "code",
   "execution_count": 23,
   "metadata": {},
   "outputs": [],
   "source": [
    "bert_model.trainable = True\n",
    "\n",
    "set_trainable = False\n",
    "for layer in bert_model.layers:\n",
    "    if layer.name=='Embedding-Token': # 'Encoder-9-MultiHeadSelfAttention':\n",
    "        set_trainable = True\n",
    "    if set_trainable:\n",
    "        layer.trainable = True\n",
    "    else:\n",
    "        layer.trainable = False"
   ]
  },
  {
   "cell_type": "code",
   "execution_count": 24,
   "metadata": {},
   "outputs": [
    {
     "data": {
      "text/html": [
       "<div>\n",
       "<style scoped>\n",
       "    .dataframe tbody tr th:only-of-type {\n",
       "        vertical-align: middle;\n",
       "    }\n",
       "\n",
       "    .dataframe tbody tr th {\n",
       "        vertical-align: top;\n",
       "    }\n",
       "\n",
       "    .dataframe thead th {\n",
       "        text-align: right;\n",
       "    }\n",
       "</style>\n",
       "<table border=\"1\" class=\"dataframe\">\n",
       "  <thead>\n",
       "    <tr style=\"text-align: right;\">\n",
       "      <th></th>\n",
       "      <th>Layer Type</th>\n",
       "      <th>Layer Name</th>\n",
       "      <th>Layer Trainable</th>\n",
       "    </tr>\n",
       "  </thead>\n",
       "  <tbody>\n",
       "    <tr>\n",
       "      <th>0</th>\n",
       "      <td>&lt;keras.engine.input_layer.InputLayer object at 0x000002FA83A9C7B8&gt;</td>\n",
       "      <td>Input-Token</td>\n",
       "      <td>False</td>\n",
       "    </tr>\n",
       "    <tr>\n",
       "      <th>1</th>\n",
       "      <td>&lt;keras.engine.input_layer.InputLayer object at 0x000002FA83A9CF60&gt;</td>\n",
       "      <td>Input-Segment</td>\n",
       "      <td>False</td>\n",
       "    </tr>\n",
       "    <tr>\n",
       "      <th>2</th>\n",
       "      <td>&lt;keras_bert.layers.embedding.TokenEmbedding object at 0x000002FAFB4AE438&gt;</td>\n",
       "      <td>Embedding-Token</td>\n",
       "      <td>True</td>\n",
       "    </tr>\n",
       "    <tr>\n",
       "      <th>3</th>\n",
       "      <td>&lt;keras.layers.embeddings.Embedding object at 0x000002FA83A9C550&gt;</td>\n",
       "      <td>Embedding-Segment</td>\n",
       "      <td>True</td>\n",
       "    </tr>\n",
       "    <tr>\n",
       "      <th>4</th>\n",
       "      <td>&lt;keras.layers.merge.Add object at 0x000002FA83A9CB00&gt;</td>\n",
       "      <td>Embedding-Token-Segment</td>\n",
       "      <td>True</td>\n",
       "    </tr>\n",
       "    <tr>\n",
       "      <th>5</th>\n",
       "      <td>&lt;keras_pos_embd.pos_embd.PositionEmbedding object at 0x000002FA83A9CE48&gt;</td>\n",
       "      <td>Embedding-Position</td>\n",
       "      <td>True</td>\n",
       "    </tr>\n",
       "    <tr>\n",
       "      <th>6</th>\n",
       "      <td>&lt;keras.layers.core.Dropout object at 0x000002FA83A9CEF0&gt;</td>\n",
       "      <td>Embedding-Dropout</td>\n",
       "      <td>True</td>\n",
       "    </tr>\n",
       "    <tr>\n",
       "      <th>7</th>\n",
       "      <td>&lt;keras_layer_normalization.layer_normalization.LayerNormalization object at 0x000002FA83A9C5C0&gt;</td>\n",
       "      <td>Embedding-Norm</td>\n",
       "      <td>True</td>\n",
       "    </tr>\n",
       "    <tr>\n",
       "      <th>8</th>\n",
       "      <td>&lt;keras_multi_head.multi_head_attention.MultiHeadAttention object at 0x000002FA83A9CF28&gt;</td>\n",
       "      <td>Encoder-1-MultiHeadSelfAttention</td>\n",
       "      <td>True</td>\n",
       "    </tr>\n",
       "    <tr>\n",
       "      <th>9</th>\n",
       "      <td>&lt;keras.layers.core.Dropout object at 0x000002FAA4F505C0&gt;</td>\n",
       "      <td>Encoder-1-MultiHeadSelfAttention-Dropout</td>\n",
       "      <td>True</td>\n",
       "    </tr>\n",
       "    <tr>\n",
       "      <th>10</th>\n",
       "      <td>&lt;keras.layers.merge.Add object at 0x000002FAA4E03CC0&gt;</td>\n",
       "      <td>Encoder-1-MultiHeadSelfAttention-Add</td>\n",
       "      <td>True</td>\n",
       "    </tr>\n",
       "    <tr>\n",
       "      <th>11</th>\n",
       "      <td>&lt;keras_layer_normalization.layer_normalization.LayerNormalization object at 0x000002FAA4E03AC8&gt;</td>\n",
       "      <td>Encoder-1-MultiHeadSelfAttention-Norm</td>\n",
       "      <td>True</td>\n",
       "    </tr>\n",
       "    <tr>\n",
       "      <th>12</th>\n",
       "      <td>&lt;keras_position_wise_feed_forward.feed_forward.FeedForward object at 0x000002FAA4E03940&gt;</td>\n",
       "      <td>Encoder-1-FeedForward</td>\n",
       "      <td>True</td>\n",
       "    </tr>\n",
       "    <tr>\n",
       "      <th>13</th>\n",
       "      <td>&lt;keras.layers.core.Dropout object at 0x000002FAA5801E10&gt;</td>\n",
       "      <td>Encoder-1-FeedForward-Dropout</td>\n",
       "      <td>True</td>\n",
       "    </tr>\n",
       "    <tr>\n",
       "      <th>14</th>\n",
       "      <td>&lt;keras.layers.merge.Add object at 0x000002FA9D4DBC50&gt;</td>\n",
       "      <td>Encoder-1-FeedForward-Add</td>\n",
       "      <td>True</td>\n",
       "    </tr>\n",
       "    <tr>\n",
       "      <th>15</th>\n",
       "      <td>&lt;keras_layer_normalization.layer_normalization.LayerNormalization object at 0x000002FA9D4DBF98&gt;</td>\n",
       "      <td>Encoder-1-FeedForward-Norm</td>\n",
       "      <td>True</td>\n",
       "    </tr>\n",
       "    <tr>\n",
       "      <th>16</th>\n",
       "      <td>&lt;keras_multi_head.multi_head_attention.MultiHeadAttention object at 0x000002FA9D4DBDD8&gt;</td>\n",
       "      <td>Encoder-2-MultiHeadSelfAttention</td>\n",
       "      <td>True</td>\n",
       "    </tr>\n",
       "    <tr>\n",
       "      <th>17</th>\n",
       "      <td>&lt;keras.layers.core.Dropout object at 0x000002FA9D5982E8&gt;</td>\n",
       "      <td>Encoder-2-MultiHeadSelfAttention-Dropout</td>\n",
       "      <td>True</td>\n",
       "    </tr>\n",
       "    <tr>\n",
       "      <th>18</th>\n",
       "      <td>&lt;keras.layers.merge.Add object at 0x000002FA9D5DFD30&gt;</td>\n",
       "      <td>Encoder-2-MultiHeadSelfAttention-Add</td>\n",
       "      <td>True</td>\n",
       "    </tr>\n",
       "    <tr>\n",
       "      <th>19</th>\n",
       "      <td>&lt;keras_layer_normalization.layer_normalization.LayerNormalization object at 0x000002FAA16CDD68&gt;</td>\n",
       "      <td>Encoder-2-MultiHeadSelfAttention-Norm</td>\n",
       "      <td>True</td>\n",
       "    </tr>\n",
       "    <tr>\n",
       "      <th>20</th>\n",
       "      <td>&lt;keras_position_wise_feed_forward.feed_forward.FeedForward object at 0x000002FAA16CD550&gt;</td>\n",
       "      <td>Encoder-2-FeedForward</td>\n",
       "      <td>True</td>\n",
       "    </tr>\n",
       "    <tr>\n",
       "      <th>21</th>\n",
       "      <td>&lt;keras.layers.core.Dropout object at 0x000002FAA18CED30&gt;</td>\n",
       "      <td>Encoder-2-FeedForward-Dropout</td>\n",
       "      <td>True</td>\n",
       "    </tr>\n",
       "    <tr>\n",
       "      <th>22</th>\n",
       "      <td>&lt;keras.layers.merge.Add object at 0x000002FAA1B73978&gt;</td>\n",
       "      <td>Encoder-2-FeedForward-Add</td>\n",
       "      <td>True</td>\n",
       "    </tr>\n",
       "    <tr>\n",
       "      <th>23</th>\n",
       "      <td>&lt;keras_layer_normalization.layer_normalization.LayerNormalization object at 0x000002FAA1B739B0&gt;</td>\n",
       "      <td>Encoder-2-FeedForward-Norm</td>\n",
       "      <td>True</td>\n",
       "    </tr>\n",
       "    <tr>\n",
       "      <th>24</th>\n",
       "      <td>&lt;keras_multi_head.multi_head_attention.MultiHeadAttention object at 0x000002FAA1B73F98&gt;</td>\n",
       "      <td>Encoder-3-MultiHeadSelfAttention</td>\n",
       "      <td>True</td>\n",
       "    </tr>\n",
       "    <tr>\n",
       "      <th>25</th>\n",
       "      <td>&lt;keras.layers.core.Dropout object at 0x000002FAA1C02080&gt;</td>\n",
       "      <td>Encoder-3-MultiHeadSelfAttention-Dropout</td>\n",
       "      <td>True</td>\n",
       "    </tr>\n",
       "    <tr>\n",
       "      <th>26</th>\n",
       "      <td>&lt;keras.layers.merge.Add object at 0x000002FAA257F0F0&gt;</td>\n",
       "      <td>Encoder-3-MultiHeadSelfAttention-Add</td>\n",
       "      <td>True</td>\n",
       "    </tr>\n",
       "    <tr>\n",
       "      <th>27</th>\n",
       "      <td>&lt;keras_layer_normalization.layer_normalization.LayerNormalization object at 0x000002FAA257FF98&gt;</td>\n",
       "      <td>Encoder-3-MultiHeadSelfAttention-Norm</td>\n",
       "      <td>True</td>\n",
       "    </tr>\n",
       "    <tr>\n",
       "      <th>28</th>\n",
       "      <td>&lt;keras_position_wise_feed_forward.feed_forward.FeedForward object at 0x000002FAA257FDA0&gt;</td>\n",
       "      <td>Encoder-3-FeedForward</td>\n",
       "      <td>True</td>\n",
       "    </tr>\n",
       "    <tr>\n",
       "      <th>29</th>\n",
       "      <td>&lt;keras.layers.core.Dropout object at 0x000002FAA2798940&gt;</td>\n",
       "      <td>Encoder-3-FeedForward-Dropout</td>\n",
       "      <td>True</td>\n",
       "    </tr>\n",
       "    <tr>\n",
       "      <th>...</th>\n",
       "      <td>...</td>\n",
       "      <td>...</td>\n",
       "      <td>...</td>\n",
       "    </tr>\n",
       "    <tr>\n",
       "      <th>74</th>\n",
       "      <td>&lt;keras.layers.merge.Add object at 0x000002FAA4C95F28&gt;</td>\n",
       "      <td>Encoder-9-MultiHeadSelfAttention-Add</td>\n",
       "      <td>True</td>\n",
       "    </tr>\n",
       "    <tr>\n",
       "      <th>75</th>\n",
       "      <td>&lt;keras_layer_normalization.layer_normalization.LayerNormalization object at 0x000002FAA4C95D30&gt;</td>\n",
       "      <td>Encoder-9-MultiHeadSelfAttention-Norm</td>\n",
       "      <td>True</td>\n",
       "    </tr>\n",
       "    <tr>\n",
       "      <th>76</th>\n",
       "      <td>&lt;keras_position_wise_feed_forward.feed_forward.FeedForward object at 0x000002FAA4CC83C8&gt;</td>\n",
       "      <td>Encoder-9-FeedForward</td>\n",
       "      <td>True</td>\n",
       "    </tr>\n",
       "    <tr>\n",
       "      <th>77</th>\n",
       "      <td>&lt;keras.layers.core.Dropout object at 0x000002FAA51CA898&gt;</td>\n",
       "      <td>Encoder-9-FeedForward-Dropout</td>\n",
       "      <td>True</td>\n",
       "    </tr>\n",
       "    <tr>\n",
       "      <th>78</th>\n",
       "      <td>&lt;keras.layers.merge.Add object at 0x000002FAA5304D68&gt;</td>\n",
       "      <td>Encoder-9-FeedForward-Add</td>\n",
       "      <td>True</td>\n",
       "    </tr>\n",
       "    <tr>\n",
       "      <th>79</th>\n",
       "      <td>&lt;keras_layer_normalization.layer_normalization.LayerNormalization object at 0x000002FAA5272F28&gt;</td>\n",
       "      <td>Encoder-9-FeedForward-Norm</td>\n",
       "      <td>True</td>\n",
       "    </tr>\n",
       "    <tr>\n",
       "      <th>80</th>\n",
       "      <td>&lt;keras_multi_head.multi_head_attention.MultiHeadAttention object at 0x000002FAA5272A20&gt;</td>\n",
       "      <td>Encoder-10-MultiHeadSelfAttention</td>\n",
       "      <td>True</td>\n",
       "    </tr>\n",
       "    <tr>\n",
       "      <th>81</th>\n",
       "      <td>&lt;keras.layers.core.Dropout object at 0x000002FAA532C400&gt;</td>\n",
       "      <td>Encoder-10-MultiHeadSelfAttention-Dropout</td>\n",
       "      <td>True</td>\n",
       "    </tr>\n",
       "    <tr>\n",
       "      <th>82</th>\n",
       "      <td>&lt;keras.layers.merge.Add object at 0x000002FAA5375048&gt;</td>\n",
       "      <td>Encoder-10-MultiHeadSelfAttention-Add</td>\n",
       "      <td>True</td>\n",
       "    </tr>\n",
       "    <tr>\n",
       "      <th>83</th>\n",
       "      <td>&lt;keras_layer_normalization.layer_normalization.LayerNormalization object at 0x000002FAA5375A58&gt;</td>\n",
       "      <td>Encoder-10-MultiHeadSelfAttention-Norm</td>\n",
       "      <td>True</td>\n",
       "    </tr>\n",
       "    <tr>\n",
       "      <th>84</th>\n",
       "      <td>&lt;keras_position_wise_feed_forward.feed_forward.FeedForward object at 0x000002FAA5375F28&gt;</td>\n",
       "      <td>Encoder-10-FeedForward</td>\n",
       "      <td>True</td>\n",
       "    </tr>\n",
       "    <tr>\n",
       "      <th>85</th>\n",
       "      <td>&lt;keras.layers.core.Dropout object at 0x000002FAA55BAC18&gt;</td>\n",
       "      <td>Encoder-10-FeedForward-Dropout</td>\n",
       "      <td>True</td>\n",
       "    </tr>\n",
       "    <tr>\n",
       "      <th>86</th>\n",
       "      <td>&lt;keras.layers.merge.Add object at 0x000002FAA5608B00&gt;</td>\n",
       "      <td>Encoder-10-FeedForward-Add</td>\n",
       "      <td>True</td>\n",
       "    </tr>\n",
       "    <tr>\n",
       "      <th>87</th>\n",
       "      <td>&lt;keras_layer_normalization.layer_normalization.LayerNormalization object at 0x000002FAA565DE48&gt;</td>\n",
       "      <td>Encoder-10-FeedForward-Norm</td>\n",
       "      <td>True</td>\n",
       "    </tr>\n",
       "    <tr>\n",
       "      <th>88</th>\n",
       "      <td>&lt;keras_multi_head.multi_head_attention.MultiHeadAttention object at 0x000002FAA565DB38&gt;</td>\n",
       "      <td>Encoder-11-MultiHeadSelfAttention</td>\n",
       "      <td>True</td>\n",
       "    </tr>\n",
       "    <tr>\n",
       "      <th>89</th>\n",
       "      <td>&lt;keras.layers.core.Dropout object at 0x000002FAA56EEEF0&gt;</td>\n",
       "      <td>Encoder-11-MultiHeadSelfAttention-Dropout</td>\n",
       "      <td>True</td>\n",
       "    </tr>\n",
       "    <tr>\n",
       "      <th>90</th>\n",
       "      <td>&lt;keras.layers.merge.Add object at 0x000002FAA576A940&gt;</td>\n",
       "      <td>Encoder-11-MultiHeadSelfAttention-Add</td>\n",
       "      <td>True</td>\n",
       "    </tr>\n",
       "    <tr>\n",
       "      <th>91</th>\n",
       "      <td>&lt;keras_layer_normalization.layer_normalization.LayerNormalization object at 0x000002FAA576A978&gt;</td>\n",
       "      <td>Encoder-11-MultiHeadSelfAttention-Norm</td>\n",
       "      <td>True</td>\n",
       "    </tr>\n",
       "    <tr>\n",
       "      <th>92</th>\n",
       "      <td>&lt;keras_position_wise_feed_forward.feed_forward.FeedForward object at 0x000002FAA576AF60&gt;</td>\n",
       "      <td>Encoder-11-FeedForward</td>\n",
       "      <td>True</td>\n",
       "    </tr>\n",
       "    <tr>\n",
       "      <th>93</th>\n",
       "      <td>&lt;keras.layers.core.Dropout object at 0x000002FAA61BAF28&gt;</td>\n",
       "      <td>Encoder-11-FeedForward-Dropout</td>\n",
       "      <td>True</td>\n",
       "    </tr>\n",
       "    <tr>\n",
       "      <th>94</th>\n",
       "      <td>&lt;keras.layers.merge.Add object at 0x000002FAA625CEF0&gt;</td>\n",
       "      <td>Encoder-11-FeedForward-Add</td>\n",
       "      <td>True</td>\n",
       "    </tr>\n",
       "    <tr>\n",
       "      <th>95</th>\n",
       "      <td>&lt;keras_layer_normalization.layer_normalization.LayerNormalization object at 0x000002FAA625CE10&gt;</td>\n",
       "      <td>Encoder-11-FeedForward-Norm</td>\n",
       "      <td>True</td>\n",
       "    </tr>\n",
       "    <tr>\n",
       "      <th>96</th>\n",
       "      <td>&lt;keras_multi_head.multi_head_attention.MultiHeadAttention object at 0x000002FAA625CEB8&gt;</td>\n",
       "      <td>Encoder-12-MultiHeadSelfAttention</td>\n",
       "      <td>True</td>\n",
       "    </tr>\n",
       "    <tr>\n",
       "      <th>97</th>\n",
       "      <td>&lt;keras.layers.core.Dropout object at 0x000002FAA631A400&gt;</td>\n",
       "      <td>Encoder-12-MultiHeadSelfAttention-Dropout</td>\n",
       "      <td>True</td>\n",
       "    </tr>\n",
       "    <tr>\n",
       "      <th>98</th>\n",
       "      <td>&lt;keras.layers.merge.Add object at 0x000002FAA6363DD8&gt;</td>\n",
       "      <td>Encoder-12-MultiHeadSelfAttention-Add</td>\n",
       "      <td>True</td>\n",
       "    </tr>\n",
       "    <tr>\n",
       "      <th>99</th>\n",
       "      <td>&lt;keras_layer_normalization.layer_normalization.LayerNormalization object at 0x000002FAA6394DD8&gt;</td>\n",
       "      <td>Encoder-12-MultiHeadSelfAttention-Norm</td>\n",
       "      <td>True</td>\n",
       "    </tr>\n",
       "    <tr>\n",
       "      <th>100</th>\n",
       "      <td>&lt;keras_position_wise_feed_forward.feed_forward.FeedForward object at 0x000002FAA6394550&gt;</td>\n",
       "      <td>Encoder-12-FeedForward</td>\n",
       "      <td>True</td>\n",
       "    </tr>\n",
       "    <tr>\n",
       "      <th>101</th>\n",
       "      <td>&lt;keras.layers.core.Dropout object at 0x000002FAA65ACC88&gt;</td>\n",
       "      <td>Encoder-12-FeedForward-Dropout</td>\n",
       "      <td>True</td>\n",
       "    </tr>\n",
       "    <tr>\n",
       "      <th>102</th>\n",
       "      <td>&lt;keras.layers.merge.Add object at 0x000002FAA66E3438&gt;</td>\n",
       "      <td>Encoder-12-FeedForward-Add</td>\n",
       "      <td>True</td>\n",
       "    </tr>\n",
       "    <tr>\n",
       "      <th>103</th>\n",
       "      <td>&lt;keras_layer_normalization.layer_normalization.LayerNormalization object at 0x000002FAA66546D8&gt;</td>\n",
       "      <td>Encoder-12-FeedForward-Norm</td>\n",
       "      <td>True</td>\n",
       "    </tr>\n",
       "  </tbody>\n",
       "</table>\n",
       "<p>104 rows × 3 columns</p>\n",
       "</div>"
      ],
      "text/plain": [
       "                                                                                          Layer Type  \\\n",
       "0    <keras.engine.input_layer.InputLayer object at 0x000002FA83A9C7B8>                                \n",
       "1    <keras.engine.input_layer.InputLayer object at 0x000002FA83A9CF60>                                \n",
       "2    <keras_bert.layers.embedding.TokenEmbedding object at 0x000002FAFB4AE438>                         \n",
       "3    <keras.layers.embeddings.Embedding object at 0x000002FA83A9C550>                                  \n",
       "4    <keras.layers.merge.Add object at 0x000002FA83A9CB00>                                             \n",
       "5    <keras_pos_embd.pos_embd.PositionEmbedding object at 0x000002FA83A9CE48>                          \n",
       "6    <keras.layers.core.Dropout object at 0x000002FA83A9CEF0>                                          \n",
       "7    <keras_layer_normalization.layer_normalization.LayerNormalization object at 0x000002FA83A9C5C0>   \n",
       "8    <keras_multi_head.multi_head_attention.MultiHeadAttention object at 0x000002FA83A9CF28>           \n",
       "9    <keras.layers.core.Dropout object at 0x000002FAA4F505C0>                                          \n",
       "10   <keras.layers.merge.Add object at 0x000002FAA4E03CC0>                                             \n",
       "11   <keras_layer_normalization.layer_normalization.LayerNormalization object at 0x000002FAA4E03AC8>   \n",
       "12   <keras_position_wise_feed_forward.feed_forward.FeedForward object at 0x000002FAA4E03940>          \n",
       "13   <keras.layers.core.Dropout object at 0x000002FAA5801E10>                                          \n",
       "14   <keras.layers.merge.Add object at 0x000002FA9D4DBC50>                                             \n",
       "15   <keras_layer_normalization.layer_normalization.LayerNormalization object at 0x000002FA9D4DBF98>   \n",
       "16   <keras_multi_head.multi_head_attention.MultiHeadAttention object at 0x000002FA9D4DBDD8>           \n",
       "17   <keras.layers.core.Dropout object at 0x000002FA9D5982E8>                                          \n",
       "18   <keras.layers.merge.Add object at 0x000002FA9D5DFD30>                                             \n",
       "19   <keras_layer_normalization.layer_normalization.LayerNormalization object at 0x000002FAA16CDD68>   \n",
       "20   <keras_position_wise_feed_forward.feed_forward.FeedForward object at 0x000002FAA16CD550>          \n",
       "21   <keras.layers.core.Dropout object at 0x000002FAA18CED30>                                          \n",
       "22   <keras.layers.merge.Add object at 0x000002FAA1B73978>                                             \n",
       "23   <keras_layer_normalization.layer_normalization.LayerNormalization object at 0x000002FAA1B739B0>   \n",
       "24   <keras_multi_head.multi_head_attention.MultiHeadAttention object at 0x000002FAA1B73F98>           \n",
       "25   <keras.layers.core.Dropout object at 0x000002FAA1C02080>                                          \n",
       "26   <keras.layers.merge.Add object at 0x000002FAA257F0F0>                                             \n",
       "27   <keras_layer_normalization.layer_normalization.LayerNormalization object at 0x000002FAA257FF98>   \n",
       "28   <keras_position_wise_feed_forward.feed_forward.FeedForward object at 0x000002FAA257FDA0>          \n",
       "29   <keras.layers.core.Dropout object at 0x000002FAA2798940>                                          \n",
       "..                                                        ...                                          \n",
       "74   <keras.layers.merge.Add object at 0x000002FAA4C95F28>                                             \n",
       "75   <keras_layer_normalization.layer_normalization.LayerNormalization object at 0x000002FAA4C95D30>   \n",
       "76   <keras_position_wise_feed_forward.feed_forward.FeedForward object at 0x000002FAA4CC83C8>          \n",
       "77   <keras.layers.core.Dropout object at 0x000002FAA51CA898>                                          \n",
       "78   <keras.layers.merge.Add object at 0x000002FAA5304D68>                                             \n",
       "79   <keras_layer_normalization.layer_normalization.LayerNormalization object at 0x000002FAA5272F28>   \n",
       "80   <keras_multi_head.multi_head_attention.MultiHeadAttention object at 0x000002FAA5272A20>           \n",
       "81   <keras.layers.core.Dropout object at 0x000002FAA532C400>                                          \n",
       "82   <keras.layers.merge.Add object at 0x000002FAA5375048>                                             \n",
       "83   <keras_layer_normalization.layer_normalization.LayerNormalization object at 0x000002FAA5375A58>   \n",
       "84   <keras_position_wise_feed_forward.feed_forward.FeedForward object at 0x000002FAA5375F28>          \n",
       "85   <keras.layers.core.Dropout object at 0x000002FAA55BAC18>                                          \n",
       "86   <keras.layers.merge.Add object at 0x000002FAA5608B00>                                             \n",
       "87   <keras_layer_normalization.layer_normalization.LayerNormalization object at 0x000002FAA565DE48>   \n",
       "88   <keras_multi_head.multi_head_attention.MultiHeadAttention object at 0x000002FAA565DB38>           \n",
       "89   <keras.layers.core.Dropout object at 0x000002FAA56EEEF0>                                          \n",
       "90   <keras.layers.merge.Add object at 0x000002FAA576A940>                                             \n",
       "91   <keras_layer_normalization.layer_normalization.LayerNormalization object at 0x000002FAA576A978>   \n",
       "92   <keras_position_wise_feed_forward.feed_forward.FeedForward object at 0x000002FAA576AF60>          \n",
       "93   <keras.layers.core.Dropout object at 0x000002FAA61BAF28>                                          \n",
       "94   <keras.layers.merge.Add object at 0x000002FAA625CEF0>                                             \n",
       "95   <keras_layer_normalization.layer_normalization.LayerNormalization object at 0x000002FAA625CE10>   \n",
       "96   <keras_multi_head.multi_head_attention.MultiHeadAttention object at 0x000002FAA625CEB8>           \n",
       "97   <keras.layers.core.Dropout object at 0x000002FAA631A400>                                          \n",
       "98   <keras.layers.merge.Add object at 0x000002FAA6363DD8>                                             \n",
       "99   <keras_layer_normalization.layer_normalization.LayerNormalization object at 0x000002FAA6394DD8>   \n",
       "100  <keras_position_wise_feed_forward.feed_forward.FeedForward object at 0x000002FAA6394550>          \n",
       "101  <keras.layers.core.Dropout object at 0x000002FAA65ACC88>                                          \n",
       "102  <keras.layers.merge.Add object at 0x000002FAA66E3438>                                             \n",
       "103  <keras_layer_normalization.layer_normalization.LayerNormalization object at 0x000002FAA66546D8>   \n",
       "\n",
       "                                    Layer Name  Layer Trainable  \n",
       "0    Input-Token                                False            \n",
       "1    Input-Segment                              False            \n",
       "2    Embedding-Token                            True             \n",
       "3    Embedding-Segment                          True             \n",
       "4    Embedding-Token-Segment                    True             \n",
       "5    Embedding-Position                         True             \n",
       "6    Embedding-Dropout                          True             \n",
       "7    Embedding-Norm                             True             \n",
       "8    Encoder-1-MultiHeadSelfAttention           True             \n",
       "9    Encoder-1-MultiHeadSelfAttention-Dropout   True             \n",
       "10   Encoder-1-MultiHeadSelfAttention-Add       True             \n",
       "11   Encoder-1-MultiHeadSelfAttention-Norm      True             \n",
       "12   Encoder-1-FeedForward                      True             \n",
       "13   Encoder-1-FeedForward-Dropout              True             \n",
       "14   Encoder-1-FeedForward-Add                  True             \n",
       "15   Encoder-1-FeedForward-Norm                 True             \n",
       "16   Encoder-2-MultiHeadSelfAttention           True             \n",
       "17   Encoder-2-MultiHeadSelfAttention-Dropout   True             \n",
       "18   Encoder-2-MultiHeadSelfAttention-Add       True             \n",
       "19   Encoder-2-MultiHeadSelfAttention-Norm      True             \n",
       "20   Encoder-2-FeedForward                      True             \n",
       "21   Encoder-2-FeedForward-Dropout              True             \n",
       "22   Encoder-2-FeedForward-Add                  True             \n",
       "23   Encoder-2-FeedForward-Norm                 True             \n",
       "24   Encoder-3-MultiHeadSelfAttention           True             \n",
       "25   Encoder-3-MultiHeadSelfAttention-Dropout   True             \n",
       "26   Encoder-3-MultiHeadSelfAttention-Add       True             \n",
       "27   Encoder-3-MultiHeadSelfAttention-Norm      True             \n",
       "28   Encoder-3-FeedForward                      True             \n",
       "29   Encoder-3-FeedForward-Dropout              True             \n",
       "..                             ...               ...             \n",
       "74   Encoder-9-MultiHeadSelfAttention-Add       True             \n",
       "75   Encoder-9-MultiHeadSelfAttention-Norm      True             \n",
       "76   Encoder-9-FeedForward                      True             \n",
       "77   Encoder-9-FeedForward-Dropout              True             \n",
       "78   Encoder-9-FeedForward-Add                  True             \n",
       "79   Encoder-9-FeedForward-Norm                 True             \n",
       "80   Encoder-10-MultiHeadSelfAttention          True             \n",
       "81   Encoder-10-MultiHeadSelfAttention-Dropout  True             \n",
       "82   Encoder-10-MultiHeadSelfAttention-Add      True             \n",
       "83   Encoder-10-MultiHeadSelfAttention-Norm     True             \n",
       "84   Encoder-10-FeedForward                     True             \n",
       "85   Encoder-10-FeedForward-Dropout             True             \n",
       "86   Encoder-10-FeedForward-Add                 True             \n",
       "87   Encoder-10-FeedForward-Norm                True             \n",
       "88   Encoder-11-MultiHeadSelfAttention          True             \n",
       "89   Encoder-11-MultiHeadSelfAttention-Dropout  True             \n",
       "90   Encoder-11-MultiHeadSelfAttention-Add      True             \n",
       "91   Encoder-11-MultiHeadSelfAttention-Norm     True             \n",
       "92   Encoder-11-FeedForward                     True             \n",
       "93   Encoder-11-FeedForward-Dropout             True             \n",
       "94   Encoder-11-FeedForward-Add                 True             \n",
       "95   Encoder-11-FeedForward-Norm                True             \n",
       "96   Encoder-12-MultiHeadSelfAttention          True             \n",
       "97   Encoder-12-MultiHeadSelfAttention-Dropout  True             \n",
       "98   Encoder-12-MultiHeadSelfAttention-Add      True             \n",
       "99   Encoder-12-MultiHeadSelfAttention-Norm     True             \n",
       "100  Encoder-12-FeedForward                     True             \n",
       "101  Encoder-12-FeedForward-Dropout             True             \n",
       "102  Encoder-12-FeedForward-Add                 True             \n",
       "103  Encoder-12-FeedForward-Norm                True             \n",
       "\n",
       "[104 rows x 3 columns]"
      ]
     },
     "execution_count": 24,
     "metadata": {},
     "output_type": "execute_result"
    }
   ],
   "source": [
    "layers = [(layer, layer.name, layer.trainable) for layer in bert_model.layers]\n",
    "pd.DataFrame(layers, columns=['Layer Type', 'Layer Name', 'Layer Trainable'])"
   ]
  },
  {
   "cell_type": "code",
   "execution_count": 25,
   "metadata": {},
   "outputs": [],
   "source": [
    "x = bert_model(bert.input)\n",
    "x = Lambda(lambda x: x[:,0,:])(x) # this corresponds to the position of the [CLS] token\n",
    "preds = Dense(20, activation='softmax')(x)"
   ]
  },
  {
   "cell_type": "code",
   "execution_count": 26,
   "metadata": {},
   "outputs": [],
   "source": [
    "model = Model(bert.input, preds)"
   ]
  },
  {
   "cell_type": "markdown",
   "metadata": {},
   "source": [
    "choose a low learning rate to avoid large adjustments of the pre-trained weights."
   ]
  },
  {
   "cell_type": "code",
   "execution_count": 27,
   "metadata": {},
   "outputs": [
    {
     "name": "stdout",
     "output_type": "stream",
     "text": [
      "__________________________________________________________________________________________________\n",
      "Layer (type)                    Output Shape         Param #     Connected to                     \n",
      "==================================================================================================\n",
      "Input-Token (InputLayer)        (None, 52)           0                                            \n",
      "__________________________________________________________________________________________________\n",
      "Input-Segment (InputLayer)      (None, 52)           0                                            \n",
      "__________________________________________________________________________________________________\n",
      "model_2 (Model)                 (None, 52, 768)      108538368   Input-Token[0][0]                \n",
      "                                                                 Input-Segment[0][0]              \n",
      "__________________________________________________________________________________________________\n",
      "lambda_1 (Lambda)               (None, 768)          0           model_2[1][0]                    \n",
      "__________________________________________________________________________________________________\n",
      "dense_1 (Dense)                 (None, 20)           15380       lambda_1[0][0]                   \n",
      "==================================================================================================\n",
      "Total params: 108,553,748\n",
      "Trainable params: 108,553,748\n",
      "Non-trainable params: 0\n",
      "__________________________________________________________________________________________________\n"
     ]
    }
   ],
   "source": [
    "model.compile(optimizer=Adam(lr=1e-5), # choose a low learning rate\n",
    "              loss='categorical_crossentropy', \n",
    "              metrics=['accuracy'])\n",
    "\n",
    "model.summary()"
   ]
  },
  {
   "cell_type": "code",
   "execution_count": 30,
   "metadata": {},
   "outputs": [
    {
     "name": "stdout",
     "output_type": "stream",
     "text": [
      "Train on 40000 samples, validate on 40000 samples\n",
      "Epoch 1/2\n",
      "40000/40000 [==============================] - 1369s 34ms/step - loss: 0.4620 - acc: 0.8621 - val_loss: 0.5742 - val_acc: 0.8340\n",
      "Epoch 2/2\n",
      "40000/40000 [==============================] - 1364s 34ms/step - loss: 0.3236 - acc: 0.9023 - val_loss: 0.5819 - val_acc: 0.8408\n"
     ]
    }
   ],
   "source": [
    "history = model.fit([train_indices, np.zeros(train_indices.shape)],\n",
    "          y_train_cat,\n",
    "          validation_data=([val_indices, np.zeros(val_indices.shape)], y_val_cat),\n",
    "          batch_size=8,\n",
    "          epochs=3)"
   ]
  },
  {
   "cell_type": "markdown",
   "metadata": {},
   "source": [
    "Bert is best!"
   ]
  },
  {
   "cell_type": "code",
   "execution_count": null,
   "metadata": {},
   "outputs": [],
   "source": []
  }
 ],
 "metadata": {
  "kernelspec": {
   "display_name": "Python [conda env:congress]",
   "language": "python",
   "name": "conda-env-congress-py"
  },
  "language_info": {
   "codemirror_mode": {
    "name": "ipython",
    "version": 3
   },
   "file_extension": ".py",
   "mimetype": "text/x-python",
   "name": "python",
   "nbconvert_exporter": "python",
   "pygments_lexer": "ipython3",
   "version": "3.6.8"
  },
  "toc": {
   "base_numbering": 1,
   "nav_menu": {},
   "number_sections": true,
   "sideBar": true,
   "skip_h1_title": false,
   "title_cell": "Table of Contents",
   "title_sidebar": "Contents",
   "toc_cell": true,
   "toc_position": {},
   "toc_section_display": true,
   "toc_window_display": false
  }
 },
 "nbformat": 4,
 "nbformat_minor": 2
}
